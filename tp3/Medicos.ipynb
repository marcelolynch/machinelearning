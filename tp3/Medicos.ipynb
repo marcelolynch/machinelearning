{
 "cells": [
  {
   "cell_type": "code",
   "execution_count": 15,
   "metadata": {},
   "outputs": [],
   "source": [
    "import pandas as pd\n",
    "import math\n",
    "import numpy as np\n",
    "from sklearn import svm\n",
    "from sklearn.model_selection import train_test_split\n",
    "import matplotlib.pyplot as plt\n",
    "from sklearn.model_selection import GridSearchCV\n",
    "from sklearn.metrics import classification_report\n",
    "from sklearn.svm import SVC\n",
    "from sklearn import preprocessing\n",
    "from confusion_matrix import plot_confusion_matrix\n",
    "\n",
    "import warnings; warnings.simplefilter('ignore')"
   ]
  },
  {
   "cell_type": "code",
   "execution_count": 2,
   "metadata": {},
   "outputs": [],
   "source": [
    "dataframe = pd.read_csv(r\"data/acath.txt\",sep='\\t')"
   ]
  },
  {
   "cell_type": "code",
   "execution_count": 3,
   "metadata": {},
   "outputs": [
    {
     "data": {
      "text/plain": [
       "0.32247929163096256"
      ]
     },
     "execution_count": 3,
     "metadata": {},
     "output_type": "execute_result"
    }
   ],
   "source": [
    "mean_chole = np.mean(list(filter(lambda x: not math.isnan(x), list(dataframe['choleste']))))\n",
    "mean_chole\n",
    "\n",
    "mean_tvdlm = np.mean(list(filter(lambda x: not math.isnan(x), list(dataframe['tvdlm']))))\n",
    "mean_tvdlm"
   ]
  },
  {
   "cell_type": "code",
   "execution_count": 5,
   "metadata": {},
   "outputs": [
    {
     "data": {
      "text/html": [
       "<div>\n",
       "<style scoped>\n",
       "    .dataframe tbody tr th:only-of-type {\n",
       "        vertical-align: middle;\n",
       "    }\n",
       "\n",
       "    .dataframe tbody tr th {\n",
       "        vertical-align: top;\n",
       "    }\n",
       "\n",
       "    .dataframe thead th {\n",
       "        text-align: right;\n",
       "    }\n",
       "</style>\n",
       "<table border=\"1\" class=\"dataframe\">\n",
       "  <thead>\n",
       "    <tr style=\"text-align: right;\">\n",
       "      <th></th>\n",
       "      <th>sex</th>\n",
       "      <th>age</th>\n",
       "      <th>cad.dur</th>\n",
       "      <th>choleste</th>\n",
       "      <th>sigdz</th>\n",
       "      <th>tvdlm</th>\n",
       "    </tr>\n",
       "  </thead>\n",
       "  <tbody>\n",
       "    <tr>\n",
       "      <th>0</th>\n",
       "      <td>0</td>\n",
       "      <td>73</td>\n",
       "      <td>132</td>\n",
       "      <td>268.000000</td>\n",
       "      <td>1</td>\n",
       "      <td>1.0</td>\n",
       "    </tr>\n",
       "    <tr>\n",
       "      <th>1</th>\n",
       "      <td>0</td>\n",
       "      <td>68</td>\n",
       "      <td>85</td>\n",
       "      <td>120.000000</td>\n",
       "      <td>1</td>\n",
       "      <td>1.0</td>\n",
       "    </tr>\n",
       "    <tr>\n",
       "      <th>2</th>\n",
       "      <td>0</td>\n",
       "      <td>54</td>\n",
       "      <td>45</td>\n",
       "      <td>229.928255</td>\n",
       "      <td>1</td>\n",
       "      <td>0.0</td>\n",
       "    </tr>\n",
       "    <tr>\n",
       "      <th>3</th>\n",
       "      <td>1</td>\n",
       "      <td>58</td>\n",
       "      <td>86</td>\n",
       "      <td>245.000000</td>\n",
       "      <td>0</td>\n",
       "      <td>0.0</td>\n",
       "    </tr>\n",
       "    <tr>\n",
       "      <th>4</th>\n",
       "      <td>1</td>\n",
       "      <td>56</td>\n",
       "      <td>7</td>\n",
       "      <td>269.000000</td>\n",
       "      <td>0</td>\n",
       "      <td>0.0</td>\n",
       "    </tr>\n",
       "  </tbody>\n",
       "</table>\n",
       "</div>"
      ],
      "text/plain": [
       "   sex  age  cad.dur    choleste  sigdz  tvdlm\n",
       "0    0   73      132  268.000000      1    1.0\n",
       "1    0   68       85  120.000000      1    1.0\n",
       "2    0   54       45  229.928255      1    0.0\n",
       "3    1   58       86  245.000000      0    0.0\n",
       "4    1   56        7  269.000000      0    0.0"
      ]
     },
     "execution_count": 5,
     "metadata": {},
     "output_type": "execute_result"
    }
   ],
   "source": [
    "dataframe = dataframe.transform({ \n",
    "    'sex': lambda x: x,\n",
    "    'age': lambda x: x,\n",
    "    'cad.dur': lambda x: x,\n",
    "    'choleste': lambda x: mean_chole if math.isnan(x) else x,\n",
    "    'sigdz': lambda x: x,\n",
    "    'tvdlm': lambda x: 0.5 if math.isnan(x) else x\n",
    "})\n",
    "\n",
    "dataframe.head()"
   ]
  },
  {
   "cell_type": "markdown",
   "metadata": {},
   "source": [
    "### Separamos los datos en train y test"
   ]
  },
  {
   "cell_type": "code",
   "execution_count": 92,
   "metadata": {},
   "outputs": [],
   "source": [
    "X = dataframe[['sex', 'age', 'cad.dur', 'choleste', 'tvdlm']].values.tolist()\n",
    "X = preprocessing.scale(X) \n",
    "y = list(map(lambda x: x[0], dataframe[['sigdz']].values.tolist()))\n",
    "X_train, X_test, y_train, y_test = train_test_split(X, y, test_size=0.5, random_state=0)"
   ]
  },
  {
   "cell_type": "markdown",
   "metadata": {},
   "source": [
    "## Baseline\n",
    "### Separamos con un SVC cualquiera (por ejemplo lineal con C = 1) para establecer una linea de base"
   ]
  },
  {
   "cell_type": "code",
   "execution_count": 85,
   "metadata": {},
   "outputs": [
    {
     "data": {
      "text/plain": [
       "SVC(C=1, cache_size=200, class_weight=None, coef0=0.0,\n",
       "  decision_function_shape='ovr', degree=3, gamma='auto', kernel='linear',\n",
       "  max_iter=-1, probability=False, random_state=None, shrinking=True,\n",
       "  tol=0.001, verbose=False)"
      ]
     },
     "execution_count": 85,
     "metadata": {},
     "output_type": "execute_result"
    }
   ],
   "source": [
    "linear_svm = svm.SVC(kernel = 'linear', C = 1)\n",
    "linear_svm.fit(X_train, y_train)"
   ]
  },
  {
   "cell_type": "code",
   "execution_count": 86,
   "metadata": {},
   "outputs": [],
   "source": [
    "test_pred = linear_svm.predict(X_test)\n",
    "test_true = y_test"
   ]
  },
  {
   "cell_type": "code",
   "execution_count": 87,
   "metadata": {},
   "outputs": [
    {
     "data": {
      "text/plain": [
       "<matplotlib.axes._subplots.AxesSubplot at 0x1e685b8de10>"
      ]
     },
     "execution_count": 87,
     "metadata": {},
     "output_type": "execute_result"
    },
    {
     "data": {
      "image/png": "[encoded data removed]",
      "text/plain": [
       "<Figure size 432x288 with 2 Axes>"
      ]
     },
     "metadata": {
      "needs_background": "light"
     },
     "output_type": "display_data"
    }
   ],
   "source": [
    "plot_confusion_matrix(test_true, test_pred, classes=[0, 1])"
   ]
  },
  {
   "cell_type": "code",
   "execution_count": 31,
   "metadata": {},
   "outputs": [
    {
     "name": "stdout",
     "output_type": "stream",
     "text": [
      "# Buscando los mejores hiperparámetros para precision\n",
      "\n",
      "Mejores parámetros (por cross-validation):\n",
      "\n",
      "{'C': 1, 'gamma': 0.001, 'kernel': 'rbf'}\n",
      "\n",
      "Grid scores on development set:\n",
      "\n",
      "0.77 (+/-0.06) for {'C': 1, 'gamma': 0.001, 'kernel': 'rbf'}\n",
      "0.76 (+/-0.05) for {'C': 1, 'gamma': 0.01, 'kernel': 'rbf'}\n",
      "0.76 (+/-0.07) for {'C': 1, 'gamma': 1, 'kernel': 'rbf'}\n",
      "0.76 (+/-0.05) for {'C': 100, 'gamma': 0.001, 'kernel': 'rbf'}\n",
      "0.76 (+/-0.05) for {'C': 100, 'gamma': 0.01, 'kernel': 'rbf'}\n",
      "0.74 (+/-0.05) for {'C': 100, 'gamma': 1, 'kernel': 'rbf'}\n",
      "0.77 (+/-0.05) for {'C': 1, 'degree': 3, 'kernel': 'poly'}\n",
      "0.76 (+/-0.06) for {'C': 1, 'degree': 4, 'kernel': 'poly'}\n",
      "0.76 (+/-0.06) for {'C': 1, 'degree': 5, 'kernel': 'poly'}\n",
      "0.77 (+/-0.05) for {'C': 100, 'degree': 3, 'kernel': 'poly'}\n",
      "0.75 (+/-0.07) for {'C': 100, 'degree': 4, 'kernel': 'poly'}\n",
      "0.75 (+/-0.07) for {'C': 100, 'degree': 5, 'kernel': 'poly'}\n",
      "0.76 (+/-0.05) for {'C': 1, 'kernel': 'linear'}\n",
      "0.76 (+/-0.05) for {'C': 10, 'kernel': 'linear'}\n",
      "0.76 (+/-0.05) for {'C': 100, 'kernel': 'linear'}\n",
      "\n",
      "Resultados sobre conjunto de prueba:\n",
      "\n",
      "             precision    recall  f1-score   support\n",
      "\n",
      "          0       0.71      0.53      0.60       554\n",
      "          1       0.80      0.90      0.85      1198\n",
      "\n",
      "avg / total       0.77      0.78      0.77      1752\n",
      "\n",
      "\n",
      "# Buscando los mejores hiperparámetros para recall\n",
      "\n",
      "Mejores parámetros (por cross-validation):\n",
      "\n",
      "{'C': 100, 'degree': 3, 'kernel': 'poly'}\n",
      "\n",
      "Grid scores on development set:\n",
      "\n",
      "0.70 (+/-0.03) for {'C': 1, 'gamma': 0.001, 'kernel': 'rbf'}\n",
      "0.72 (+/-0.04) for {'C': 1, 'gamma': 0.01, 'kernel': 'rbf'}\n",
      "0.74 (+/-0.05) for {'C': 1, 'gamma': 1, 'kernel': 'rbf'}\n",
      "0.72 (+/-0.04) for {'C': 100, 'gamma': 0.001, 'kernel': 'rbf'}\n",
      "0.74 (+/-0.04) for {'C': 100, 'gamma': 0.01, 'kernel': 'rbf'}\n",
      "0.73 (+/-0.04) for {'C': 100, 'gamma': 1, 'kernel': 'rbf'}\n",
      "0.74 (+/-0.05) for {'C': 1, 'degree': 3, 'kernel': 'poly'}\n",
      "0.73 (+/-0.05) for {'C': 1, 'degree': 4, 'kernel': 'poly'}\n",
      "0.73 (+/-0.05) for {'C': 1, 'degree': 5, 'kernel': 'poly'}\n",
      "0.74 (+/-0.05) for {'C': 100, 'degree': 3, 'kernel': 'poly'}\n",
      "0.73 (+/-0.06) for {'C': 100, 'degree': 4, 'kernel': 'poly'}\n",
      "0.73 (+/-0.05) for {'C': 100, 'degree': 5, 'kernel': 'poly'}\n",
      "0.72 (+/-0.04) for {'C': 1, 'kernel': 'linear'}\n",
      "0.72 (+/-0.04) for {'C': 10, 'kernel': 'linear'}\n",
      "0.72 (+/-0.04) for {'C': 100, 'kernel': 'linear'}\n",
      "\n",
      "Resultados sobre conjunto de prueba:\n",
      "\n",
      "             precision    recall  f1-score   support\n",
      "\n",
      "          0       0.69      0.60      0.64       554\n",
      "          1       0.83      0.87      0.85      1198\n",
      "\n",
      "avg / total       0.78      0.79      0.78      1752\n",
      "\n",
      "\n",
      "# Buscando los mejores hiperparámetros para f1\n",
      "\n",
      "Mejores parámetros (por cross-validation):\n",
      "\n",
      "{'C': 1, 'degree': 3, 'kernel': 'poly'}\n",
      "\n",
      "Grid scores on development set:\n",
      "\n",
      "0.71 (+/-0.04) for {'C': 1, 'gamma': 0.001, 'kernel': 'rbf'}\n",
      "0.73 (+/-0.05) for {'C': 1, 'gamma': 0.01, 'kernel': 'rbf'}\n",
      "0.75 (+/-0.06) for {'C': 1, 'gamma': 1, 'kernel': 'rbf'}\n",
      "0.73 (+/-0.05) for {'C': 100, 'gamma': 0.001, 'kernel': 'rbf'}\n",
      "0.74 (+/-0.05) for {'C': 100, 'gamma': 0.01, 'kernel': 'rbf'}\n",
      "0.73 (+/-0.05) for {'C': 100, 'gamma': 1, 'kernel': 'rbf'}\n",
      "0.75 (+/-0.05) for {'C': 1, 'degree': 3, 'kernel': 'poly'}\n",
      "0.74 (+/-0.05) for {'C': 1, 'degree': 4, 'kernel': 'poly'}\n",
      "0.74 (+/-0.06) for {'C': 1, 'degree': 5, 'kernel': 'poly'}\n",
      "0.75 (+/-0.05) for {'C': 100, 'degree': 3, 'kernel': 'poly'}\n",
      "0.74 (+/-0.06) for {'C': 100, 'degree': 4, 'kernel': 'poly'}\n",
      "0.74 (+/-0.06) for {'C': 100, 'degree': 5, 'kernel': 'poly'}\n",
      "0.73 (+/-0.04) for {'C': 1, 'kernel': 'linear'}\n",
      "0.73 (+/-0.04) for {'C': 10, 'kernel': 'linear'}\n",
      "0.73 (+/-0.05) for {'C': 100, 'kernel': 'linear'}\n",
      "\n",
      "Resultados sobre conjunto de prueba:\n",
      "\n",
      "             precision    recall  f1-score   support\n",
      "\n",
      "          0       0.69      0.60      0.64       554\n",
      "          1       0.82      0.87      0.85      1198\n",
      "\n",
      "avg / total       0.78      0.79      0.78      1752\n",
      "\n",
      "\n"
     ]
    },
    {
     "data": {
      "image/png": "[encoded data removed]",
      "text/plain": [
       "<Figure size 432x288 with 2 Axes>"
      ]
     },
     "metadata": {
      "needs_background": "light"
     },
     "output_type": "display_data"
    },
    {
     "data": {
      "image/png": "[encoded data removed]",
      "text/plain": [
       "<Figure size 432x288 with 2 Axes>"
      ]
     },
     "metadata": {
      "needs_background": "light"
     },
     "output_type": "display_data"
    },
    {
     "data": {
      "image/png": "[encoded data removed]",
      "text/plain": [
       "<Figure size 432x288 with 2 Axes>"
      ]
     },
     "metadata": {
      "needs_background": "light"
     },
     "output_type": "display_data"
    }
   ],
   "source": [
    "# Set the parameters by cross-validation\n",
    "tuned_parameters = [{'kernel': ['rbf'], 'gamma': [1e-3, 1e-2, 1e-1],\n",
    "                     'C': [1, 100]},\n",
    "                    {'kernel': ['poly'], 'degree': [3,4,5], 'C': [1, 10, 100]},\n",
    "                    {'kernel': ['linear'], 'C': [1, 10, 100]}]\n",
    "\n",
    "scores = ['precision', 'recall', 'f1']\n",
    "\n",
    "bests = {}\n",
    "\n",
    "for score in scores:\n",
    "    print(\"# Buscando los mejores hiperparámetros para %s\" % score)\n",
    "    print()\n",
    "\n",
    "    clf = GridSearchCV(SVC(), tuned_parameters, cv=5, scoring='%s_macro' % score)\n",
    "    clf.fit(X_train, y_train)\n",
    "    bests[score] = clf\n",
    "    \n",
    "    print(\"Mejores parámetros (por cross-validation):\")\n",
    "    print()\n",
    "    print(clf.best_params_)\n",
    "    print()\n",
    "    print(\"Resultados para cada combinación:\")\n",
    "    print()\n",
    "    means = clf.cv_results_['mean_test_score']\n",
    "    stds = clf.cv_results_['std_test_score']\n",
    "    for mean, std, params in zip(means, stds, clf.cv_results_['params']):\n",
    "        print(\"%0.2f (+/-%0.02f) for %r\"\n",
    "              % (mean, std * 2, params))\n",
    "    print()\n",
    "\n",
    "    print(\"Resultados sobre conjunto de prueba:\")\n",
    "    print()\n",
    "    y_true, y_pred = y_test, clf.predict(X_test)\n",
    "    print(classification_report(y_true, y_pred))\n",
    "    print()\n",
    "    plot_confusion_matrix(y_true, y_pred, classes=[0,1])"
   ]
  }
 ],
 "metadata": {
  "kernelspec": {
   "display_name": "Python 3",
   "language": "python",
   "name": "python3"
  },
  "language_info": {
   "codemirror_mode": {
    "name": "ipython",
    "version": 3
   },
   "file_extension": ".py",
   "mimetype": "text/x-python",
   "name": "python",
   "nbconvert_exporter": "python",
   "pygments_lexer": "ipython3",
   "version": "3.7.0"
  }
 },
 "nbformat": 4,
 "nbformat_minor": 2
}
