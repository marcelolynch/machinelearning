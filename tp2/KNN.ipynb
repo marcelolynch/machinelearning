{
 "cells": [
  {
   "cell_type": "code",
   "execution_count": 1,
   "metadata": {},
   "outputs": [],
   "source": [
    "import pandas as pd\n",
    "import random\n",
    "from KNNClassifier import KNNClassifier\n",
    "from metrics import score"
   ]
  },
  {
   "cell_type": "code",
   "execution_count": 2,
   "metadata": {},
   "outputs": [],
   "source": [
    "dataframe = pd.read_csv(r\"datasets/reviews_sentiment.csv\",sep=';')\n",
    "dataframe = dataframe[['wordcount', 'titleSentiment', 'sentimentValue', 'Star Rating']]\n",
    "\n",
    "def titleSentimentEmbedding(ts):\n",
    "    if ts == 'negative':\n",
    "        return 0\n",
    "    elif ts == 'positive':\n",
    "        return 1\n",
    "    else:\n",
    "        return 0.5\n",
    "    \n",
    "dataframe = dataframe.transform({ \n",
    "    'wordcount': lambda x: x,\n",
    "    'sentimentValue': lambda x: x,\n",
    "    'Star Rating': lambda x: x,\n",
    "    'titleSentiment': titleSentimentEmbedding\n",
    "})"
   ]
  },
  {
   "cell_type": "code",
   "execution_count": 3,
   "metadata": {},
   "outputs": [
    {
     "data": {
      "text/html": [
       "<div>\n",
       "<style scoped>\n",
       "    .dataframe tbody tr th:only-of-type {\n",
       "        vertical-align: middle;\n",
       "    }\n",
       "\n",
       "    .dataframe tbody tr th {\n",
       "        vertical-align: top;\n",
       "    }\n",
       "\n",
       "    .dataframe thead th {\n",
       "        text-align: right;\n",
       "    }\n",
       "</style>\n",
       "<table border=\"1\" class=\"dataframe\">\n",
       "  <thead>\n",
       "    <tr style=\"text-align: right;\">\n",
       "      <th></th>\n",
       "      <th>wordcount</th>\n",
       "      <th>sentimentValue</th>\n",
       "      <th>Star Rating</th>\n",
       "      <th>titleSentiment</th>\n",
       "    </tr>\n",
       "  </thead>\n",
       "  <tbody>\n",
       "    <tr>\n",
       "      <th>0</th>\n",
       "      <td>23</td>\n",
       "      <td>-0.486389</td>\n",
       "      <td>1</td>\n",
       "      <td>0.0</td>\n",
       "    </tr>\n",
       "    <tr>\n",
       "      <th>1</th>\n",
       "      <td>20</td>\n",
       "      <td>-0.586187</td>\n",
       "      <td>1</td>\n",
       "      <td>0.0</td>\n",
       "    </tr>\n",
       "    <tr>\n",
       "      <th>2</th>\n",
       "      <td>4</td>\n",
       "      <td>-0.602240</td>\n",
       "      <td>1</td>\n",
       "      <td>0.5</td>\n",
       "    </tr>\n",
       "    <tr>\n",
       "      <th>3</th>\n",
       "      <td>17</td>\n",
       "      <td>-0.616271</td>\n",
       "      <td>1</td>\n",
       "      <td>0.5</td>\n",
       "    </tr>\n",
       "    <tr>\n",
       "      <th>4</th>\n",
       "      <td>6</td>\n",
       "      <td>-0.651784</td>\n",
       "      <td>1</td>\n",
       "      <td>0.0</td>\n",
       "    </tr>\n",
       "  </tbody>\n",
       "</table>\n",
       "</div>"
      ],
      "text/plain": [
       "   wordcount  sentimentValue  Star Rating  titleSentiment\n",
       "0         23       -0.486389            1             0.0\n",
       "1         20       -0.586187            1             0.0\n",
       "2          4       -0.602240            1             0.5\n",
       "3         17       -0.616271            1             0.5\n",
       "4          6       -0.651784            1             0.0"
      ]
     },
     "execution_count": 3,
     "metadata": {},
     "output_type": "execute_result"
    }
   ],
   "source": [
    "dataframe.head()"
   ]
  },
  {
   "cell_type": "code",
   "execution_count": 4,
   "metadata": {},
   "outputs": [
    {
     "name": "stdout",
     "output_type": "stream",
     "text": [
      "Mean wordcount:  12.216216216216216\n"
     ]
    },
    {
     "data": {
      "image/png": "[encoded data removed]",
      "text/plain": [
       "<Figure size 432x288 with 1 Axes>"
      ]
     },
     "metadata": {
      "needs_background": "light"
     },
     "output_type": "display_data"
    }
   ],
   "source": [
    "one_star = dataframe[dataframe['Star Rating']==1]\n",
    "one_star.hist(column = 'wordcount')\n",
    "print(f\"Mean wordcount: \", one_star['wordcount'].mean())"
   ]
  },
  {
   "cell_type": "code",
   "execution_count": 5,
   "metadata": {},
   "outputs": [],
   "source": [
    "x = dataframe[['wordcount', 'titleSentiment', 'sentimentValue']].values.tolist()\n",
    "y = list(map(lambda x: x[0], dataframe[['Star Rating']].values.tolist()))"
   ]
  },
  {
   "cell_type": "code",
   "execution_count": 12,
   "metadata": {},
   "outputs": [],
   "source": [
    "TRAIN_SIZE = 0.3\n",
    "K = 5"
   ]
  },
  {
   "cell_type": "code",
   "execution_count": 7,
   "metadata": {},
   "outputs": [
    {
     "name": "stdout",
     "output_type": "stream",
     "text": [
      "Train size: 205\n",
      "Test size: 52\n"
     ]
    }
   ],
   "source": [
    "# Sample\n",
    "c = list(zip(x, y))\n",
    "random.seed(0)\n",
    "random.shuffle(c)\n",
    "x, y = zip(*c)\n",
    "lim = int(TRAIN_SIZE * len(x))\n",
    "\n",
    "x_train = x[:lim]\n",
    "x_test = x[lim:]\n",
    "y_train = y[:lim]\n",
    "y_test = y[lim:]\n",
    "\n",
    "print(\"Train size:\", len(x_train))\n",
    "print(\"Test size:\", len(x_test))"
   ]
  },
  {
   "cell_type": "code",
   "execution_count": 13,
   "metadata": {},
   "outputs": [],
   "source": [
    "knn = KNNClassifier(K = K)\n",
    "knn.fit(x_train, y_train)"
   ]
  },
  {
   "cell_type": "code",
   "execution_count": 11,
   "metadata": {},
   "outputs": [
    {
     "name": "stdout",
     "output_type": "stream",
     "text": [
      "* Class: 1\n",
      "Accuracy 0.86538 | Precision 0.40000 | Recall 0.33333 | TP-rate 0.33333 | FP-rate 0.06522 | F1 0.36364 \n",
      "\n",
      "* Class: 2\n",
      "Accuracy 0.94231 | Precision 0.66667 | Recall 0.80000 | TP-rate 0.80000 | FP-rate 0.04255 | F1 0.72727 \n",
      "\n",
      "* Class: 3\n",
      "Accuracy 0.76923 | Precision 0.64286 | Recall 0.56250 | TP-rate 0.56250 | FP-rate 0.13889 | F1 0.60000 \n",
      "\n",
      "* Class: 4\n",
      "Accuracy 0.80769 | Precision 0.50000 | Recall 0.50000 | TP-rate 0.50000 | FP-rate 0.11905 | F1 0.50000 \n",
      "\n",
      "* Class: 5\n",
      "Accuracy 0.92308 | Precision 0.82353 | Recall 0.93333 | TP-rate 0.93333 | FP-rate 0.08108 | F1 0.87500 \n",
      "\n",
      "HARMONIC MEANS\n",
      "\n",
      "    Accuracy: 0.85643\n",
      "    Precision: 0.57014\n",
      "    Recall: 0.54950\n",
      "    TP rate: 0.54950\n",
      "    FP rate: 0.07489\n",
      "    F1 score: 0.55963\n"
     ]
    },
    {
     "data": {
      "image/png": "[encoded data removed]",
      "text/plain": [
       "<Figure size 432x288 with 2 Axes>"
      ]
     },
     "metadata": {
      "needs_background": "light"
     },
     "output_type": "display_data"
    }
   ],
   "source": [
    "score(knn, x_test, y_test, classes = [1,2,3,4,5], confusion_matrix=True)"
   ]
  },
  {
   "cell_type": "code",
   "execution_count": 14,
   "metadata": {},
   "outputs": [
    {
     "name": "stdout",
     "output_type": "stream",
     "text": [
      "* Class: 1\n",
      "Accuracy 0.88462 | Precision 0.50000 | Recall 0.33333 | TP-rate 0.33333 | FP-rate 0.04348 | F1 0.40000 \n",
      "\n",
      "* Class: 2\n",
      "Accuracy 0.94231 | Precision 0.62500 | Recall 1.00000 | TP-rate 1.00000 | FP-rate 0.06383 | F1 0.76923 \n",
      "\n",
      "* Class: 3\n",
      "Accuracy 0.78846 | Precision 0.66667 | Recall 0.62500 | TP-rate 0.62500 | FP-rate 0.13889 | F1 0.64516 \n",
      "\n",
      "* Class: 4\n",
      "Accuracy 0.88462 | Precision 0.83333 | Recall 0.50000 | TP-rate 0.50000 | FP-rate 0.02381 | F1 0.62500 \n",
      "\n",
      "* Class: 5\n",
      "Accuracy 0.88462 | Precision 0.73684 | Recall 0.93333 | TP-rate 0.93333 | FP-rate 0.13514 | F1 0.82353 \n",
      "\n",
      "HARMONIC MEANS\n",
      "\n",
      "    Accuracy: 0.87400\n",
      "    Precision: 0.65299\n",
      "    Recall: 0.57661\n",
      "    TP rate: 0.57661\n",
      "    FP rate: 0.05248\n",
      "    F1 score: 0.61242\n"
     ]
    },
    {
     "data": {
      "image/png": "[encoded data removed]",
      "text/plain": [
       "<Figure size 432x288 with 2 Axes>"
      ]
     },
     "metadata": {
      "needs_background": "light"
     },
     "output_type": "display_data"
    }
   ],
   "source": [
    "knn_weighted = KNNClassifier(K = K, weight_f='euclidean')\n",
    "knn_weighted.fit(x_train, y_train)\n",
    "score(knn_weighted, x_test, y_test, classes = [1,2,3,4,5], confusion_matrix=True)"
   ]
  }
 ],
 "metadata": {
  "kernelspec": {
   "display_name": "Python 3",
   "language": "python",
   "name": "python3"
  },
  "language_info": {
   "codemirror_mode": {
    "name": "ipython",
    "version": 3
   },
   "file_extension": ".py",
   "mimetype": "text/x-python",
   "name": "python",
   "nbconvert_exporter": "python",
   "pygments_lexer": "ipython3",
   "version": "3.7.0"
  }
 },
 "nbformat": 4,
 "nbformat_minor": 2
}
