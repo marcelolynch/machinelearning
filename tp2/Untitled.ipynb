{
 "cells": [
  {
   "cell_type": "code",
   "execution_count": 7,
   "metadata": {},
   "outputs": [],
   "source": [
    "# ct = [0x9a, 0x1e, 0x19, 0x9c, 0xe1, 0x77, 0xf5, 0x3e, 0x55, 0xb5, 0x3b, 0x2e, 0xb4, 0x92, 0x54, 0xc9, 0x26, 0x0c, 0xaf, 0x37, 0x24, 0xb2, 0xd2, 0x5f, 0xc9, 0x0f, 0x47]\n",
    "ct = [0x63, 0xe0, 0x26, 0x89, 0x57, 0x13, 0x57, 0x58, 0xc8, 0x4c, 0x91, 0x11, 0x82, 0x76, 0x3b, 0x77, 0x1a, 0xe6, 0x4a, 0xc9, 0x11, 0xa1, 0x27, 0x22, 0x67, 0x46, 0xd4];\n",
    "first = ct[0:9]\n",
    "second = ct[9:18]\n",
    "third = ct[18:27]\n",
    "\n"
   ]
  },
  {
   "cell_type": "code",
   "execution_count": 16,
   "metadata": {},
   "outputs": [
    {
     "name": "stdout",
     "output_type": "stream",
     "text": [
      "['25', 'a1', '74', 'c8', '13', '52', '0e', '23', 'b5']\n",
      "25a174c813520e23b5\n",
      "0xa9\n"
     ]
    }
   ],
   "source": [
    "def ph(x):\n",
    "    if(len(x) > 1):\n",
    "        return x\n",
    "    else:\n",
    "        return '0' + x\n",
    "    \n",
    "def decrypt(ciphertext, key):\n",
    "    k = list(bytes.fromhex(key));\n",
    "\n",
    "    result = \"\"\n",
    "    for i in range(len(ciphertext)):\n",
    "        result = result + chr((ciphertext[i] ^ k[i % len(k)]))\n",
    "    return result\n",
    "    \n",
    "s = \"FARADAY{}\"\n",
    "xs = list(s)\n",
    "s = []\n",
    "\n",
    "for x,c in zip(xs,first):\n",
    "    s.append((ph(\"\" + hex(ord(x) ^ c)[2:])))\n",
    "\n",
    "print(s)\n",
    "a = \"\"\n",
    "for i in s:\n",
    "    a += i\n",
    "\n",
    "\n",
    "print(a)\n",
    "\n",
    "print(hex(ct[-1] ^ (ord('}'))))"
   ]
  },
  {
   "cell_type": "code",
   "execution_count": 17,
   "metadata": {},
   "outputs": [
    {
     "data": {
      "text/plain": [
       "'FARADAY{ai0eJeiy9Oohei4pie}'"
      ]
     },
     "execution_count": 17,
     "metadata": {},
     "output_type": "execute_result"
    }
   ],
   "source": [
    "decrypt(ct, '25a174c813520e23a9')"
   ]
  },
  {
   "cell_type": "code",
   "execution_count": 83,
   "metadata": {},
   "outputs": [
    {
     "data": {
      "text/plain": [
       "'3a'"
      ]
     },
     "execution_count": 83,
     "metadata": {},
     "output_type": "execute_result"
    }
   ],
   "source": [
    "hex(ord('}') ^ 0x47)[2:]"
   ]
  },
  {
   "cell_type": "code",
   "execution_count": 101,
   "metadata": {},
   "outputs": [
    {
     "data": {
      "text/plain": [
       "18"
      ]
     },
     "execution_count": 101,
     "metadata": {},
     "output_type": "execute_result"
    }
   ],
   "source": [
    "len('dc5f4ba264ddf9163a')"
   ]
  },
  {
   "cell_type": "code",
   "execution_count": 104,
   "metadata": {},
   "outputs": [
    {
     "data": {
      "text/plain": [
       "'DC5F4BDDA536AC453A'"
      ]
     },
     "execution_count": 104,
     "metadata": {},
     "output_type": "execute_result"
    }
   ],
   "source": [
    "'dc5f4bdda536ac453a'.upper()"
   ]
  }
 ],
 "metadata": {
  "kernelspec": {
   "display_name": "Python 3",
   "language": "python",
   "name": "python3"
  },
  "language_info": {
   "codemirror_mode": {
    "name": "ipython",
    "version": 3
   },
   "file_extension": ".py",
   "mimetype": "text/x-python",
   "name": "python",
   "nbconvert_exporter": "python",
   "pygments_lexer": "ipython3",
   "version": "3.7.0"
  }
 },
 "nbformat": 4,
 "nbformat_minor": 2
}
