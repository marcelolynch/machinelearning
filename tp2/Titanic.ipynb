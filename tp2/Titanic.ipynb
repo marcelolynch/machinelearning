{
 "cells": [
  {
   "cell_type": "code",
   "execution_count": 1,
   "metadata": {},
   "outputs": [
    {
     "data": {
      "text/html": [
       "\n",
       "        <script>\n",
       "            function code_toggle_2402715527384056826() {\n",
       "                $('div.cell.code_cell.rendered.selected').find('div.input').toggle();\n",
       "            }\n",
       "\n",
       "            \n",
       "        </script>\n",
       "\n",
       "        <a href=\"javascript:code_toggle_2402715527384056826()\">Mostrar/ocultar celda: Imports</a>\n",
       "    "
      ],
      "text/plain": [
       "<IPython.core.display.HTML object>"
      ]
     },
     "execution_count": 1,
     "metadata": {},
     "output_type": "execute_result"
    }
   ],
   "source": [
    "from metrics import score, accuracies, confusion_matrix\n",
    "from DecisionTreeBuilder import create_decision_tree\n",
    "from titanic import get_data, get_graphviz\n",
    "import matplotlib.pyplot as plt\n",
    "from RandomForest import RandomForestClassifier\n",
    "\n",
    "from IPython.display import HTML\n",
    "import random\n",
    "\n",
    "def hide_toggle(title=\"\", for_next=False):\n",
    "    this_cell = \"\"\"$('div.cell.code_cell.rendered.selected')\"\"\"\n",
    "    next_cell = this_cell + '.next()'\n",
    "\n",
    "    toggle_text = f'Mostrar/ocultar celda: {title}'  # text shown on toggle link\n",
    "    target_cell = this_cell  # target cell to control with toggle\n",
    "    js_hide_current = ''  # bit of JS to permanently hide code in current cell (only when toggling next cell)\n",
    "\n",
    "    if for_next:\n",
    "        target_cell = next_cell\n",
    "        toggle_text += ' next cell'\n",
    "        js_hide_current = this_cell + '.find(\"div.input\").hide();'\n",
    "\n",
    "    js_f_name = 'code_toggle_{}'.format(str(random.randint(1,2**64)))\n",
    "\n",
    "    html = \"\"\"\n",
    "        <script>\n",
    "            function {f_name}() {{\n",
    "                {cell_selector}.find('div.input').toggle();\n",
    "            }}\n",
    "\n",
    "            {js_hide_current}\n",
    "        </script>\n",
    "\n",
    "        <a href=\"javascript:{f_name}()\">{toggle_text}</a>\n",
    "    \"\"\".format(\n",
    "        f_name=js_f_name,\n",
    "        cell_selector=target_cell,\n",
    "        js_hide_current=js_hide_current, \n",
    "        toggle_text=toggle_text\n",
    "    )\n",
    "\n",
    "    return HTML(html)\n",
    "\n",
    "hide_toggle(\"Imports\")"
   ]
  },
  {
   "cell_type": "markdown",
   "metadata": {},
   "source": [
    "### Ingreso de datos\n",
    "Definimos las funciones para hacer data cleansing y normalizar los atributos "
   ]
  },
  {
   "cell_type": "code",
   "execution_count": 2,
   "metadata": {},
   "outputs": [
    {
     "data": {
      "text/html": [
       "\n",
       "        <script>\n",
       "            function code_toggle_13447871040831068842() {\n",
       "                $('div.cell.code_cell.rendered.selected').find('div.input').toggle();\n",
       "            }\n",
       "\n",
       "            \n",
       "        </script>\n",
       "\n",
       "        <a href=\"javascript:code_toggle_13447871040831068842()\">Mostrar/ocultar celda: Funciones de transformacion</a>\n",
       "    "
      ],
      "text/plain": [
       "<IPython.core.display.HTML object>"
      ]
     },
     "execution_count": 2,
     "metadata": {},
     "output_type": "execute_result"
    }
   ],
   "source": [
    "def age_discretization(age):\n",
    "    try:\n",
    "        age = int(age)\n",
    "        cutoffs = ['20', '40', '60']\n",
    "        for c in cutoffs:\n",
    "            if age < int(c):\n",
    "                return '<' + c\n",
    "        return cutoffs[-1] + '+'\n",
    "    except:\n",
    "        return None\n",
    "\n",
    "def cabin_discretize(cabin):\n",
    "    try:\n",
    "        return cabin[0]\n",
    "    except:\n",
    "        return None\n",
    "\n",
    "\n",
    "def survival_transform(s):\n",
    "    s = int(s)\n",
    "    return \"Sobrevive\" if s == 1 else \"Muere\"\n",
    "\n",
    "hide_toggle(\"Funciones de transformacion\")"
   ]
  },
  {
   "cell_type": "markdown",
   "metadata": {},
   "source": [
    "### Selección de columnas\n",
    "El vector `attributes` indicará que columnas del CSV tomamos para los datos.\n",
    "Se define para cada uno un nombre, el indice de la columna y la funcion para transformar\n",
    "la columna (para normalizar)"
   ]
  },
  {
   "cell_type": "code",
   "execution_count": 3,
   "metadata": {},
   "outputs": [
    {
     "data": {
      "text/html": [
       "\n",
       "        <script>\n",
       "            function code_toggle_3200376642650489493() {\n",
       "                $('div.cell.code_cell.rendered.selected').find('div.input').toggle();\n",
       "            }\n",
       "\n",
       "            \n",
       "        </script>\n",
       "\n",
       "        <a href=\"javascript:code_toggle_3200376642650489493()\">Mostrar/ocultar celda: Atributos</a>\n",
       "    "
      ],
      "text/plain": [
       "<IPython.core.display.HTML object>"
      ]
     },
     "execution_count": 3,
     "metadata": {},
     "output_type": "execute_result"
    }
   ],
   "source": [
    "attributes = [\n",
    "    {  \"name\": \"clase\",\n",
    "       \"idx\": 2,\n",
    "       \"transform\": lambda x: x\n",
    "    },\n",
    "    {  \"name\": \"sexo\",\n",
    "       \"idx\": 4,\n",
    "       \"transform\": lambda x: x\n",
    "    },\n",
    "    {  \"name\": \"edad\",\n",
    "       \"idx\": 5,\n",
    "       \"transform\": age_discretization\n",
    "    },\n",
    "#       {  \"name\": \"cabin\",\n",
    "#           \"idx\": 10,\n",
    "#           \"transform\": cabin_discretize\n",
    "#        },\n",
    "        {  \"name\": \"sibsp\",\n",
    "           \"idx\": 6,\n",
    "           \"transform\": lambda x: x\n",
    "        },\n",
    "    {  \"name\": \"supervivencia\",\n",
    "       \"idx\": 1,\n",
    "       \"transform\": survival_transform\n",
    "    }\n",
    "]\n",
    "hide_toggle(\"Atributos\")"
   ]
  },
  {
   "cell_type": "code",
   "execution_count": 4,
   "metadata": {},
   "outputs": [],
   "source": [
    "FILENAMES = ['titanic.csv', 'kaggle/train.csv']\n",
    "SEPARATORS = ['\\t', ',']\n",
    "CHOICE = 0\n",
    "x, y, metadata = get_data(FILENAMES[CHOICE], SEPARATORS[CHOICE], attributes)"
   ]
  },
  {
   "cell_type": "markdown",
   "metadata": {},
   "source": [
    "### Definimos las constantes"
   ]
  },
  {
   "cell_type": "code",
   "execution_count": 5,
   "metadata": {},
   "outputs": [],
   "source": [
    "TRAIN_RATIO = 0.7\n",
    "BOOTSTRAP_RATIO = 1"
   ]
  },
  {
   "cell_type": "markdown",
   "metadata": {},
   "source": [
    "### Dividimos en test y train"
   ]
  },
  {
   "cell_type": "code",
   "execution_count": 6,
   "metadata": {},
   "outputs": [
    {
     "data": {
      "text/html": [
       "\n",
       "        <script>\n",
       "            function code_toggle_10914944422226025779() {\n",
       "                $('div.cell.code_cell.rendered.selected').find('div.input').toggle();\n",
       "            }\n",
       "\n",
       "            \n",
       "        </script>\n",
       "\n",
       "        <a href=\"javascript:code_toggle_10914944422226025779()\">Mostrar/ocultar celda: Separación test/train</a>\n",
       "    "
      ],
      "text/plain": [
       "<IPython.core.display.HTML object>"
      ]
     },
     "execution_count": 6,
     "metadata": {},
     "output_type": "execute_result"
    }
   ],
   "source": [
    "def reload_data(train_ratio):\n",
    "    global train_x, test_x, train_y, test_y\n",
    "    test_size = int(len(x) * (1-train_ratio))\n",
    "    train_x = x[0:-test_size]\n",
    "    test_x = x[-test_size:]\n",
    "    train_y = y[0:-test_size]\n",
    "    test_y = y[-test_size:]\n",
    "\n",
    "hide_toggle(\"Separación test/train\")"
   ]
  },
  {
   "cell_type": "code",
   "execution_count": 7,
   "metadata": {},
   "outputs": [
    {
     "name": "stdout",
     "output_type": "stream",
     "text": [
      "Train size:  82  test size:  35\n"
     ]
    }
   ],
   "source": [
    "reload_data(TRAIN_RATIO)\n",
    "print(\"Train size: \", len(train_x), \" test size: \", len(test_x))"
   ]
  },
  {
   "cell_type": "code",
   "execution_count": 8,
   "metadata": {},
   "outputs": [
    {
     "data": {
      "text/html": [
       "\n",
       "        <script>\n",
       "            function code_toggle_15752468182791727154() {\n",
       "                $('div.cell.code_cell.rendered.selected').find('div.input').toggle();\n",
       "            }\n",
       "\n",
       "            \n",
       "        </script>\n",
       "\n",
       "        <a href=\"javascript:code_toggle_15752468182791727154()\">Mostrar/ocultar celda: Utility functions para crear arboles</a>\n",
       "    "
      ],
      "text/plain": [
       "<IPython.core.display.HTML object>"
      ]
     },
     "execution_count": 8,
     "metadata": {},
     "output_type": "execute_result"
    }
   ],
   "source": [
    "def decision_tree(info_function, max_iterations=10000):\n",
    "    return create_decision_tree(x = train_x, y = train_y, \n",
    "                                metric_f_name = info_function, \n",
    "                                max_iterations=max_iterations)\n",
    "    \n",
    "def random_forest(n_trees, info_function):\n",
    "    rf = RandomForestClassifier(n_trees, bootstrap_size = BOOTSTRAP_RATIO, metric_f = info_function)\n",
    "    rf.fit(train_x, train_y)\n",
    "    return rf\n",
    "\n",
    "hide_toggle(\"Utility functions para crear arboles\")"
   ]
  },
  {
   "cell_type": "markdown",
   "metadata": {},
   "source": [
    "# Visualizando los árboles de decisión"
   ]
  },
  {
   "cell_type": "code",
<<<<<<< HEAD
   "execution_count": 23,
=======
   "execution_count": 22,
>>>>>>> e265343b249a1462ac27ef966e1dcc86f4e7a638
   "metadata": {},
   "outputs": [
    {
     "data": {
      "image/svg+xml": [
       "<?xml version=\"1.0\" encoding=\"UTF-8\" standalone=\"no\"?>\r\n",
       "<!DOCTYPE svg PUBLIC \"-//W3C//DTD SVG 1.1//EN\"\r\n",
       " \"http://www.w3.org/Graphics/SVG/1.1/DTD/svg11.dtd\">\r\n",
       "<!-- Generated by graphviz version 2.38.0 (20140413.2041)\r\n",
       " -->\r\n",
       "<!-- Title: G Pages: 1 -->\r\n",
       "<svg width=\"627pt\" height=\"552pt\"\r\n",
       " viewBox=\"0.00 0.00 626.55 551.74\" xmlns=\"http://www.w3.org/2000/svg\" xmlns:xlink=\"http://www.w3.org/1999/xlink\">\r\n",
       "<g id=\"graph0\" class=\"graph\" transform=\"scale(1 1) rotate(0) translate(4 547.74)\">\r\n",
       "<title>G</title>\r\n",
       "<polygon fill=\"white\" stroke=\"none\" points=\"-4,4 -4,-547.74 622.548,-547.74 622.548,4 -4,4\"/>\r\n",
       "<!-- root -->\r\n",
       "<g id=\"node1\" class=\"node\"><title>root</title>\r\n",
<<<<<<< HEAD
       "<ellipse fill=\"none\" stroke=\"teal\" cx=\"11\" cy=\"-246.87\" rx=\"7\" ry=\"7\"/>\r\n",
       "<ellipse fill=\"none\" stroke=\"teal\" cx=\"11\" cy=\"-246.87\" rx=\"11\" ry=\"11\"/>\r\n",
       "</g>\r\n",
       "<!-- 13357 -->\r\n",
       "<g id=\"node2\" class=\"node\"><title>13357</title>\r\n",
       "<ellipse fill=\"none\" stroke=\"teal\" stroke-dasharray=\"1,5\" cx=\"120.933\" cy=\"-309.87\" rx=\"62.8651\" ry=\"26.7407\"/>\r\n",
       "<text text-anchor=\"middle\" x=\"120.933\" y=\"-313.67\" font-family=\"Times New Roman,serif\" font-size=\"14.00\">sexo: female </text>\r\n",
       "<text text-anchor=\"middle\" x=\"120.933\" y=\"-298.67\" font-family=\"Times New Roman,serif\" font-size=\"14.00\"> Sobrevive</text>\r\n",
       "</g>\r\n",
       "<!-- root&#45;&gt;13357 -->\r\n",
       "<g id=\"edge1\" class=\"edge\"><title>root&#45;&gt;13357</title>\r\n",
       "<path fill=\"none\" stroke=\"teal\" d=\"M20.8326,-252.026C32.5861,-258.886 54.2244,-271.516 74.2897,-283.228\"/>\r\n",
       "<polygon fill=\"teal\" stroke=\"teal\" points=\"72.6563,-286.328 83.0571,-288.346 76.1851,-280.282 72.6563,-286.328\"/>\r\n",
       "</g>\r\n",
       "<!-- 13077 -->\r\n",
       "<g id=\"node3\" class=\"node\"><title>13077</title>\r\n",
       "<ellipse fill=\"none\" stroke=\"teal\" stroke-dasharray=\"1,5\" cx=\"120.933\" cy=\"-147.87\" rx=\"55.7232\" ry=\"26.7407\"/>\r\n",
       "<text text-anchor=\"middle\" x=\"120.933\" y=\"-151.67\" font-family=\"Times New Roman,serif\" font-size=\"14.00\">sexo: male </text>\r\n",
       "<text text-anchor=\"middle\" x=\"120.933\" y=\"-136.67\" font-family=\"Times New Roman,serif\" font-size=\"14.00\"> Muere</text>\r\n",
       "</g>\r\n",
       "<!-- root&#45;&gt;13077 -->\r\n",
       "<g id=\"edge2\" class=\"edge\"><title>root&#45;&gt;13077</title>\r\n",
       "<path fill=\"none\" stroke=\"teal\" d=\"M19.7622,-239.75C33.4851,-227.163 62.789,-200.284 86.1751,-178.834\"/>\r\n",
       "<polygon fill=\"teal\" stroke=\"teal\" points=\"88.8445,-181.135 93.8481,-171.796 84.1128,-175.976 88.8445,-181.135\"/>\r\n",
       "</g>\r\n",
       "<!-- 2595 -->\r\n",
       "<g id=\"node4\" class=\"node\"><title>2595</title>\r\n",
       "<ellipse fill=\"none\" stroke=\"teal\" stroke-dasharray=\"1,5\" cx=\"274.312\" cy=\"-417.87\" rx=\"54.3945\" ry=\"26.7407\"/>\r\n",
       "<text text-anchor=\"middle\" x=\"274.312\" y=\"-421.67\" font-family=\"Times New Roman,serif\" font-size=\"14.00\">clase: 1 </text>\r\n",
       "<text text-anchor=\"middle\" x=\"274.312\" y=\"-406.67\" font-family=\"Times New Roman,serif\" font-size=\"14.00\"> Sobrevive</text>\r\n",
       "</g>\r\n",
       "<!-- 13357&#45;&gt;2595 -->\r\n",
       "<g id=\"edge3\" class=\"edge\"><title>13357&#45;&gt;2595</title>\r\n",
       "<path fill=\"none\" stroke=\"teal\" d=\"M153.009,-333.223C172.145,-347.477 197.26,-365.957 219.865,-381.87 223.99,-384.774 228.321,-387.772 232.656,-390.741\"/>\r\n",
       "<polygon fill=\"teal\" stroke=\"teal\" points=\"230.709,-393.649 240.946,-396.381 234.647,-387.862 230.709,-393.649\"/>\r\n",
       "</g>\r\n",
       "<!-- 23823 -->\r\n",
       "<g id=\"node5\" class=\"node\"><title>23823</title>\r\n",
       "<ellipse fill=\"none\" stroke=\"teal\" stroke-dasharray=\"1,5\" cx=\"274.312\" cy=\"-345.87\" rx=\"54.3945\" ry=\"26.7407\"/>\r\n",
       "<text text-anchor=\"middle\" x=\"274.312\" y=\"-349.67\" font-family=\"Times New Roman,serif\" font-size=\"14.00\">clase: 2 </text>\r\n",
       "<text text-anchor=\"middle\" x=\"274.312\" y=\"-334.67\" font-family=\"Times New Roman,serif\" font-size=\"14.00\"> Sobrevive</text>\r\n",
       "</g>\r\n",
       "<!-- 13357&#45;&gt;23823 -->\r\n",
       "<g id=\"edge4\" class=\"edge\"><title>13357&#45;&gt;23823</title>\r\n",
       "<path fill=\"none\" stroke=\"teal\" d=\"M176.156,-322.765C188.742,-325.758 202.19,-328.956 214.945,-331.99\"/>\r\n",
       "<polygon fill=\"teal\" stroke=\"teal\" points=\"214.457,-335.471 224.995,-334.38 216.076,-328.661 214.457,-335.471\"/>\r\n",
       "</g>\r\n",
       "<!-- 98380 -->\r\n",
       "<g id=\"node6\" class=\"node\"><title>98380</title>\r\n",
       "<ellipse fill=\"none\" stroke=\"teal\" stroke-dasharray=\"1,5\" cx=\"274.312\" cy=\"-273.87\" rx=\"43.6818\" ry=\"26.7407\"/>\r\n",
       "<text text-anchor=\"middle\" x=\"274.312\" y=\"-277.67\" font-family=\"Times New Roman,serif\" font-size=\"14.00\">clase: 3 </text>\r\n",
       "<text text-anchor=\"middle\" x=\"274.312\" y=\"-262.67\" font-family=\"Times New Roman,serif\" font-size=\"14.00\"> Muere</text>\r\n",
       "</g>\r\n",
       "<!-- 13357&#45;&gt;98380 -->\r\n",
       "<g id=\"edge5\" class=\"edge\"><title>13357&#45;&gt;98380</title>\r\n",
       "<path fill=\"none\" stroke=\"teal\" d=\"M176.156,-296.975C191.459,-293.336 208.038,-289.393 223.094,-285.813\"/>\r\n",
       "<polygon fill=\"teal\" stroke=\"teal\" points=\"224.321,-289.118 233.24,-283.4 222.702,-282.308 224.321,-289.118\"/>\r\n",
       "</g>\r\n",
       "<!-- 99683 -->\r\n",
       "<g id=\"node14\" class=\"node\"><title>99683</title>\r\n",
       "<ellipse fill=\"none\" stroke=\"teal\" stroke-dasharray=\"1,5\" cx=\"274.312\" cy=\"-183.87\" rx=\"53.9813\" ry=\"26.7407\"/>\r\n",
       "<text text-anchor=\"middle\" x=\"274.312\" y=\"-187.67\" font-family=\"Times New Roman,serif\" font-size=\"14.00\">edad: &lt;20 </text>\r\n",
       "<text text-anchor=\"middle\" x=\"274.312\" y=\"-172.67\" font-family=\"Times New Roman,serif\" font-size=\"14.00\"> Muere</text>\r\n",
       "</g>\r\n",
       "<!-- 13077&#45;&gt;99683 -->\r\n",
       "<g id=\"edge13\" class=\"edge\"><title>13077&#45;&gt;99683</title>\r\n",
       "<path fill=\"none\" stroke=\"teal\" d=\"M171.5,-159.658C185.582,-163.007 201.039,-166.683 215.561,-170.136\"/>\r\n",
       "<polygon fill=\"teal\" stroke=\"teal\" points=\"214.899,-173.576 225.437,-172.485 216.519,-166.766 214.899,-173.576\"/>\r\n",
       "</g>\r\n",
       "<!-- 27543 -->\r\n",
       "<g id=\"node15\" class=\"node\"><title>27543</title>\r\n",
       "<ellipse fill=\"none\" stroke=\"teal\" stroke-dasharray=\"1,5\" cx=\"274.312\" cy=\"-111.87\" rx=\"53.9813\" ry=\"26.7407\"/>\r\n",
       "<text text-anchor=\"middle\" x=\"274.312\" y=\"-115.67\" font-family=\"Times New Roman,serif\" font-size=\"14.00\">edad: &lt;40 </text>\r\n",
       "<text text-anchor=\"middle\" x=\"274.312\" y=\"-100.67\" font-family=\"Times New Roman,serif\" font-size=\"14.00\"> Muere</text>\r\n",
       "</g>\r\n",
       "<!-- 13077&#45;&gt;27543 -->\r\n",
       "<g id=\"edge14\" class=\"edge\"><title>13077&#45;&gt;27543</title>\r\n",
       "<path fill=\"none\" stroke=\"teal\" d=\"M171.5,-136.082C185.582,-132.733 201.039,-129.058 215.561,-125.604\"/>\r\n",
       "<polygon fill=\"teal\" stroke=\"teal\" points=\"216.519,-128.974 225.437,-123.255 214.899,-122.164 216.519,-128.974\"/>\r\n",
       "</g>\r\n",
       "<!-- 95542 -->\r\n",
       "<g id=\"node16\" class=\"node\"><title>95542</title>\r\n",
       "<ellipse fill=\"none\" stroke=\"teal\" stroke-dasharray=\"1,5\" cx=\"274.312\" cy=\"-39.8701\" rx=\"53.9813\" ry=\"26.7407\"/>\r\n",
       "<text text-anchor=\"middle\" x=\"274.312\" y=\"-43.6701\" font-family=\"Times New Roman,serif\" font-size=\"14.00\">edad: &lt;60 </text>\r\n",
       "<text text-anchor=\"middle\" x=\"274.312\" y=\"-28.6701\" font-family=\"Times New Roman,serif\" font-size=\"14.00\"> Muere</text>\r\n",
       "</g>\r\n",
       "<!-- 13077&#45;&gt;95542 -->\r\n",
       "<g id=\"edge15\" class=\"edge\"><title>13077&#45;&gt;95542</title>\r\n",
       "<path fill=\"none\" stroke=\"teal\" d=\"M152.137,-125.167C171.378,-110.828 196.914,-92.0257 219.865,-75.8701 224.046,-72.9269 228.438,-69.8872 232.832,-66.8792\"/>\r\n",
       "<polygon fill=\"teal\" stroke=\"teal\" points=\"234.929,-69.6857 241.229,-61.1676 230.992,-63.8976 234.929,-69.6857\"/>\r\n",
       "</g>\r\n",
       "<!-- 28488 -->\r\n",
       "<g id=\"node7\" class=\"node\"><title>28488</title>\r\n",
       "<ellipse fill=\"none\" stroke=\"teal\" stroke-dasharray=\"1,5\" cx=\"419.207\" cy=\"-444.87\" rx=\"53.9813\" ry=\"26.7407\"/>\r\n",
       "<text text-anchor=\"middle\" x=\"419.207\" y=\"-448.67\" font-family=\"Times New Roman,serif\" font-size=\"14.00\">edad: &lt;20 </text>\r\n",
       "<text text-anchor=\"middle\" x=\"419.207\" y=\"-433.67\" font-family=\"Times New Roman,serif\" font-size=\"14.00\"> Muere</text>\r\n",
       "</g>\r\n",
       "<!-- 98380&#45;&gt;28488 -->\r\n",
       "<g id=\"edge6\" class=\"edge\"><title>98380&#45;&gt;28488</title>\r\n",
       "<path fill=\"none\" stroke=\"teal\" d=\"M307.168,-291.84C314.788,-297.04 322.516,-303.149 328.759,-309.87 350.708,-333.497 347.117,-345.875 364.759,-372.87 373.271,-385.893 383.282,-399.721 392.325,-411.741\"/>\r\n",
       "<polygon fill=\"teal\" stroke=\"teal\" points=\"389.565,-413.894 398.4,-419.741 395.14,-409.66 389.565,-413.894\"/>\r\n",
       "</g>\r\n",
       "<!-- 3203 -->\r\n",
       "<g id=\"node8\" class=\"node\"><title>3203</title>\r\n",
       "<ellipse fill=\"none\" stroke=\"teal\" stroke-dasharray=\"1,5\" cx=\"419.207\" cy=\"-336.87\" rx=\"54.3945\" ry=\"26.7407\"/>\r\n",
       "<text text-anchor=\"middle\" x=\"419.207\" y=\"-340.67\" font-family=\"Times New Roman,serif\" font-size=\"14.00\">edad: &lt;40 </text>\r\n",
       "<text text-anchor=\"middle\" x=\"419.207\" y=\"-325.67\" font-family=\"Times New Roman,serif\" font-size=\"14.00\"> Sobrevive</text>\r\n",
       "</g>\r\n",
       "<!-- 98380&#45;&gt;3203 -->\r\n",
       "<g id=\"edge7\" class=\"edge\"><title>98380&#45;&gt;3203</title>\r\n",
       "<path fill=\"none\" stroke=\"teal\" d=\"M310.268,-289.282C327.877,-297.045 349.529,-306.591 368.807,-315.091\"/>\r\n",
       "<polygon fill=\"teal\" stroke=\"teal\" points=\"367.49,-318.335 378.052,-319.167 370.314,-311.93 367.49,-318.335\"/>\r\n",
       "</g>\r\n",
       "<!-- 68253 -->\r\n",
       "<g id=\"node9\" class=\"node\"><title>68253</title>\r\n",
       "<ellipse fill=\"none\" stroke=\"teal\" stroke-dasharray=\"1,5\" cx=\"419.207\" cy=\"-264.87\" rx=\"53.9813\" ry=\"26.7407\"/>\r\n",
       "<text text-anchor=\"middle\" x=\"419.207\" y=\"-268.67\" font-family=\"Times New Roman,serif\" font-size=\"14.00\">edad: &lt;60 </text>\r\n",
       "<text text-anchor=\"middle\" x=\"419.207\" y=\"-253.67\" font-family=\"Times New Roman,serif\" font-size=\"14.00\"> Muere</text>\r\n",
       "</g>\r\n",
       "<!-- 98380&#45;&gt;68253 -->\r\n",
       "<g id=\"edge8\" class=\"edge\"><title>98380&#45;&gt;68253</title>\r\n",
       "<path fill=\"none\" stroke=\"teal\" d=\"M318.185,-271.17C329.991,-270.426 343.043,-269.604 355.714,-268.806\"/>\r\n",
       "<polygon fill=\"teal\" stroke=\"teal\" points=\"356.002,-272.295 365.762,-268.173 355.562,-265.309 356.002,-272.295\"/>\r\n",
       "</g>\r\n",
       "<!-- 87751 -->\r\n",
       "<g id=\"node10\" class=\"node\"><title>87751</title>\r\n",
       "<ellipse fill=\"none\" stroke=\"teal\" stroke-dasharray=\"1,5\" cx=\"564.101\" cy=\"-516.87\" rx=\"45.011\" ry=\"26.7407\"/>\r\n",
       "<text text-anchor=\"middle\" x=\"564.101\" y=\"-520.67\" font-family=\"Times New Roman,serif\" font-size=\"14.00\">sibsp: 0 </text>\r\n",
       "<text text-anchor=\"middle\" x=\"564.101\" y=\"-505.67\" font-family=\"Times New Roman,serif\" font-size=\"14.00\"> Muere</text>\r\n",
       "</g>\r\n",
       "<!-- 28488&#45;&gt;87751 -->\r\n",
       "<g id=\"edge9\" class=\"edge\"><title>28488&#45;&gt;87751</title>\r\n",
       "<path fill=\"none\" stroke=\"teal\" d=\"M457.751,-463.787C476.739,-473.355 499.886,-485.018 519.642,-494.973\"/>\r\n",
       "<polygon fill=\"teal\" stroke=\"teal\" points=\"518.238,-498.184 528.744,-499.558 521.388,-491.933 518.238,-498.184\"/>\r\n",
       "</g>\r\n",
       "<!-- 60870 -->\r\n",
       "<g id=\"node11\" class=\"node\"><title>60870</title>\r\n",
       "<ellipse fill=\"none\" stroke=\"teal\" stroke-dasharray=\"1,5\" cx=\"564.101\" cy=\"-444.87\" rx=\"54.3945\" ry=\"26.7407\"/>\r\n",
       "<text text-anchor=\"middle\" x=\"564.101\" y=\"-448.67\" font-family=\"Times New Roman,serif\" font-size=\"14.00\">sibsp: 1 </text>\r\n",
       "<text text-anchor=\"middle\" x=\"564.101\" y=\"-433.67\" font-family=\"Times New Roman,serif\" font-size=\"14.00\"> Sobrevive</text>\r\n",
       "</g>\r\n",
       "<!-- 28488&#45;&gt;60870 -->\r\n",
       "<g id=\"edge10\" class=\"edge\"><title>28488&#45;&gt;60870</title>\r\n",
       "<path fill=\"none\" stroke=\"teal\" d=\"M473.009,-444.87C481.581,-444.87 490.537,-444.87 499.336,-444.87\"/>\r\n",
       "<polygon fill=\"teal\" stroke=\"teal\" points=\"499.561,-448.37 509.561,-444.87 499.561,-441.37 499.561,-448.37\"/>\r\n",
       "</g>\r\n",
       "<!-- 70193 -->\r\n",
       "<g id=\"node12\" class=\"node\"><title>70193</title>\r\n",
       "<ellipse fill=\"none\" stroke=\"teal\" stroke-dasharray=\"1,5\" cx=\"564.101\" cy=\"-372.87\" rx=\"54.3945\" ry=\"26.7407\"/>\r\n",
       "<text text-anchor=\"middle\" x=\"564.101\" y=\"-376.67\" font-family=\"Times New Roman,serif\" font-size=\"14.00\">sibsp: 0 </text>\r\n",
       "<text text-anchor=\"middle\" x=\"564.101\" y=\"-361.67\" font-family=\"Times New Roman,serif\" font-size=\"14.00\"> Sobrevive</text>\r\n",
       "</g>\r\n",
       "<!-- 3203&#45;&gt;70193 -->\r\n",
       "<g id=\"edge11\" class=\"edge\"><title>3203&#45;&gt;70193</title>\r\n",
       "<path fill=\"none\" stroke=\"teal\" d=\"M468.186,-348.958C480.086,-351.956 492.962,-355.2 505.278,-358.302\"/>\r\n",
       "<polygon fill=\"teal\" stroke=\"teal\" points=\"504.453,-361.704 515.005,-360.753 506.163,-354.916 504.453,-361.704\"/>\r\n",
       "</g>\r\n",
       "<!-- 84116 -->\r\n",
       "<g id=\"node13\" class=\"node\"><title>84116</title>\r\n",
       "<ellipse fill=\"none\" stroke=\"teal\" stroke-dasharray=\"1,5\" cx=\"564.101\" cy=\"-300.87\" rx=\"45.011\" ry=\"26.7407\"/>\r\n",
       "<text text-anchor=\"middle\" x=\"564.101\" y=\"-304.67\" font-family=\"Times New Roman,serif\" font-size=\"14.00\">sibsp: 1 </text>\r\n",
       "<text text-anchor=\"middle\" x=\"564.101\" y=\"-289.67\" font-family=\"Times New Roman,serif\" font-size=\"14.00\"> Muere</text>\r\n",
       "</g>\r\n",
       "<!-- 3203&#45;&gt;84116 -->\r\n",
       "<g id=\"edge12\" class=\"edge\"><title>3203&#45;&gt;84116</title>\r\n",
       "<path fill=\"none\" stroke=\"teal\" d=\"M468.186,-324.782C482.415,-321.198 498.042,-317.261 512.436,-313.634\"/>\r\n",
       "<polygon fill=\"teal\" stroke=\"teal\" points=\"513.329,-317.019 522.171,-311.182 511.619,-310.231 513.329,-317.019\"/>\r\n",
       "</g>\r\n",
       "<!-- 55784 -->\r\n",
       "<g id=\"node17\" class=\"node\"><title>55784</title>\r\n",
=======
       "<ellipse fill=\"none\" stroke=\"teal\" cx=\"11\" cy=\"-260.87\" rx=\"7\" ry=\"7\"/>\r\n",
       "<ellipse fill=\"none\" stroke=\"teal\" cx=\"11\" cy=\"-260.87\" rx=\"11\" ry=\"11\"/>\r\n",
       "</g>\r\n",
       "<!-- 10542 -->\r\n",
       "<g id=\"node2\" class=\"node\"><title>10542</title>\r\n",
       "<ellipse fill=\"none\" stroke=\"teal\" stroke-dasharray=\"1,5\" cx=\"120.933\" cy=\"-332.87\" rx=\"62.8651\" ry=\"26.7407\"/>\r\n",
       "<text text-anchor=\"middle\" x=\"120.933\" y=\"-336.67\" font-family=\"Times New Roman,serif\" font-size=\"14.00\">sexo: female </text>\r\n",
       "<text text-anchor=\"middle\" x=\"120.933\" y=\"-321.67\" font-family=\"Times New Roman,serif\" font-size=\"14.00\"> Sobrevive</text>\r\n",
       "</g>\r\n",
       "<!-- root&#45;&gt;10542 -->\r\n",
       "<g id=\"edge1\" class=\"edge\"><title>root&#45;&gt;10542</title>\r\n",
       "<path fill=\"none\" stroke=\"teal\" d=\"M20.4693,-266.52C32.7864,-274.736 56.4865,-290.546 77.6625,-304.672\"/>\r\n",
       "<polygon fill=\"teal\" stroke=\"teal\" points=\"75.974,-307.753 86.2352,-310.391 79.8586,-301.93 75.974,-307.753\"/>\r\n",
       "</g>\r\n",
       "<!-- 77494 -->\r\n",
       "<g id=\"node3\" class=\"node\"><title>77494</title>\r\n",
       "<ellipse fill=\"none\" stroke=\"teal\" stroke-dasharray=\"1,5\" cx=\"120.933\" cy=\"-152.87\" rx=\"55.7232\" ry=\"26.7407\"/>\r\n",
       "<text text-anchor=\"middle\" x=\"120.933\" y=\"-156.67\" font-family=\"Times New Roman,serif\" font-size=\"14.00\">sexo: male </text>\r\n",
       "<text text-anchor=\"middle\" x=\"120.933\" y=\"-141.67\" font-family=\"Times New Roman,serif\" font-size=\"14.00\"> Muere</text>\r\n",
       "</g>\r\n",
       "<!-- root&#45;&gt;77494 -->\r\n",
       "<g id=\"edge2\" class=\"edge\"><title>root&#45;&gt;77494</title>\r\n",
       "<path fill=\"none\" stroke=\"teal\" d=\"M19.4186,-253.447C33.4031,-239.454 64.4054,-208.432 88.3073,-184.515\"/>\r\n",
       "<polygon fill=\"teal\" stroke=\"teal\" points=\"90.8772,-186.895 95.4705,-177.347 85.9259,-181.947 90.8772,-186.895\"/>\r\n",
       "</g>\r\n",
       "<!-- 29911 -->\r\n",
       "<g id=\"node4\" class=\"node\"><title>29911</title>\r\n",
       "<ellipse fill=\"none\" stroke=\"teal\" stroke-dasharray=\"1,5\" cx=\"274.312\" cy=\"-440.87\" rx=\"54.3945\" ry=\"26.7407\"/>\r\n",
       "<text text-anchor=\"middle\" x=\"274.312\" y=\"-444.67\" font-family=\"Times New Roman,serif\" font-size=\"14.00\">clase: 1 </text>\r\n",
       "<text text-anchor=\"middle\" x=\"274.312\" y=\"-429.67\" font-family=\"Times New Roman,serif\" font-size=\"14.00\"> Sobrevive</text>\r\n",
       "</g>\r\n",
       "<!-- 10542&#45;&gt;29911 -->\r\n",
       "<g id=\"edge3\" class=\"edge\"><title>10542&#45;&gt;29911</title>\r\n",
       "<path fill=\"none\" stroke=\"teal\" d=\"M153.009,-356.223C172.145,-370.477 197.26,-388.957 219.865,-404.87 223.99,-407.774 228.321,-410.772 232.656,-413.741\"/>\r\n",
       "<polygon fill=\"teal\" stroke=\"teal\" points=\"230.709,-416.649 240.946,-419.381 234.647,-410.862 230.709,-416.649\"/>\r\n",
       "</g>\r\n",
       "<!-- 81810 -->\r\n",
       "<g id=\"node5\" class=\"node\"><title>81810</title>\r\n",
       "<ellipse fill=\"none\" stroke=\"teal\" stroke-dasharray=\"1,5\" cx=\"274.312\" cy=\"-368.87\" rx=\"54.3945\" ry=\"26.7407\"/>\r\n",
       "<text text-anchor=\"middle\" x=\"274.312\" y=\"-372.67\" font-family=\"Times New Roman,serif\" font-size=\"14.00\">clase: 2 </text>\r\n",
       "<text text-anchor=\"middle\" x=\"274.312\" y=\"-357.67\" font-family=\"Times New Roman,serif\" font-size=\"14.00\"> Sobrevive</text>\r\n",
       "</g>\r\n",
       "<!-- 10542&#45;&gt;81810 -->\r\n",
       "<g id=\"edge4\" class=\"edge\"><title>10542&#45;&gt;81810</title>\r\n",
       "<path fill=\"none\" stroke=\"teal\" d=\"M176.156,-345.765C188.742,-348.758 202.19,-351.956 214.945,-354.99\"/>\r\n",
       "<polygon fill=\"teal\" stroke=\"teal\" points=\"214.457,-358.471 224.995,-357.38 216.076,-351.661 214.457,-358.471\"/>\r\n",
       "</g>\r\n",
       "<!-- 81777 -->\r\n",
       "<g id=\"node6\" class=\"node\"><title>81777</title>\r\n",
       "<ellipse fill=\"none\" stroke=\"teal\" stroke-dasharray=\"1,5\" cx=\"274.312\" cy=\"-296.87\" rx=\"43.6818\" ry=\"26.7407\"/>\r\n",
       "<text text-anchor=\"middle\" x=\"274.312\" y=\"-300.67\" font-family=\"Times New Roman,serif\" font-size=\"14.00\">clase: 3 </text>\r\n",
       "<text text-anchor=\"middle\" x=\"274.312\" y=\"-285.67\" font-family=\"Times New Roman,serif\" font-size=\"14.00\"> Muere</text>\r\n",
       "</g>\r\n",
       "<!-- 10542&#45;&gt;81777 -->\r\n",
       "<g id=\"edge5\" class=\"edge\"><title>10542&#45;&gt;81777</title>\r\n",
       "<path fill=\"none\" stroke=\"teal\" d=\"M176.156,-319.975C191.459,-316.336 208.038,-312.393 223.094,-308.813\"/>\r\n",
       "<polygon fill=\"teal\" stroke=\"teal\" points=\"224.321,-312.118 233.24,-306.4 222.702,-305.308 224.321,-312.118\"/>\r\n",
       "</g>\r\n",
       "<!-- 632 -->\r\n",
       "<g id=\"node10\" class=\"node\"><title>632</title>\r\n",
       "<ellipse fill=\"none\" stroke=\"teal\" stroke-dasharray=\"1,5\" cx=\"274.312\" cy=\"-188.87\" rx=\"53.9813\" ry=\"26.7407\"/>\r\n",
       "<text text-anchor=\"middle\" x=\"274.312\" y=\"-192.67\" font-family=\"Times New Roman,serif\" font-size=\"14.00\">edad: &lt;20 </text>\r\n",
       "<text text-anchor=\"middle\" x=\"274.312\" y=\"-177.67\" font-family=\"Times New Roman,serif\" font-size=\"14.00\"> Muere</text>\r\n",
       "</g>\r\n",
       "<!-- 77494&#45;&gt;632 -->\r\n",
       "<g id=\"edge9\" class=\"edge\"><title>77494&#45;&gt;632</title>\r\n",
       "<path fill=\"none\" stroke=\"teal\" d=\"M171.5,-164.658C185.582,-168.007 201.039,-171.683 215.561,-175.136\"/>\r\n",
       "<polygon fill=\"teal\" stroke=\"teal\" points=\"214.899,-178.576 225.437,-177.485 216.519,-171.766 214.899,-178.576\"/>\r\n",
       "</g>\r\n",
       "<!-- 19807 -->\r\n",
       "<g id=\"node11\" class=\"node\"><title>19807</title>\r\n",
       "<ellipse fill=\"none\" stroke=\"teal\" stroke-dasharray=\"1,5\" cx=\"274.312\" cy=\"-116.87\" rx=\"53.9813\" ry=\"26.7407\"/>\r\n",
       "<text text-anchor=\"middle\" x=\"274.312\" y=\"-120.67\" font-family=\"Times New Roman,serif\" font-size=\"14.00\">edad: &lt;40 </text>\r\n",
       "<text text-anchor=\"middle\" x=\"274.312\" y=\"-105.67\" font-family=\"Times New Roman,serif\" font-size=\"14.00\"> Muere</text>\r\n",
       "</g>\r\n",
       "<!-- 77494&#45;&gt;19807 -->\r\n",
       "<g id=\"edge10\" class=\"edge\"><title>77494&#45;&gt;19807</title>\r\n",
       "<path fill=\"none\" stroke=\"teal\" d=\"M171.5,-141.082C185.582,-137.733 201.039,-134.058 215.561,-130.604\"/>\r\n",
       "<polygon fill=\"teal\" stroke=\"teal\" points=\"216.519,-133.974 225.437,-128.255 214.899,-127.164 216.519,-133.974\"/>\r\n",
       "</g>\r\n",
       "<!-- 4652 -->\r\n",
       "<g id=\"node12\" class=\"node\"><title>4652</title>\r\n",
       "<ellipse fill=\"none\" stroke=\"teal\" stroke-dasharray=\"1,5\" cx=\"274.312\" cy=\"-44.8701\" rx=\"53.9813\" ry=\"26.7407\"/>\r\n",
       "<text text-anchor=\"middle\" x=\"274.312\" y=\"-48.6701\" font-family=\"Times New Roman,serif\" font-size=\"14.00\">edad: &lt;60 </text>\r\n",
       "<text text-anchor=\"middle\" x=\"274.312\" y=\"-33.6701\" font-family=\"Times New Roman,serif\" font-size=\"14.00\"> Muere</text>\r\n",
       "</g>\r\n",
       "<!-- 77494&#45;&gt;4652 -->\r\n",
       "<g id=\"edge11\" class=\"edge\"><title>77494&#45;&gt;4652</title>\r\n",
       "<path fill=\"none\" stroke=\"teal\" d=\"M152.137,-130.167C171.378,-115.828 196.914,-97.0257 219.865,-80.8701 224.046,-77.9269 228.438,-74.8872 232.832,-71.8792\"/>\r\n",
       "<polygon fill=\"teal\" stroke=\"teal\" points=\"234.929,-74.6857 241.229,-66.1676 230.992,-68.8976 234.929,-74.6857\"/>\r\n",
       "</g>\r\n",
       "<!-- 33634 -->\r\n",
       "<g id=\"node7\" class=\"node\"><title>33634</title>\r\n",
       "<ellipse fill=\"none\" stroke=\"teal\" stroke-dasharray=\"1,5\" cx=\"419.207\" cy=\"-386.87\" rx=\"53.9813\" ry=\"26.7407\"/>\r\n",
       "<text text-anchor=\"middle\" x=\"419.207\" y=\"-390.67\" font-family=\"Times New Roman,serif\" font-size=\"14.00\">edad: &lt;20 </text>\r\n",
       "<text text-anchor=\"middle\" x=\"419.207\" y=\"-375.67\" font-family=\"Times New Roman,serif\" font-size=\"14.00\"> Muere</text>\r\n",
       "</g>\r\n",
       "<!-- 81777&#45;&gt;33634 -->\r\n",
       "<g id=\"edge6\" class=\"edge\"><title>81777&#45;&gt;33634</title>\r\n",
       "<path fill=\"none\" stroke=\"teal\" d=\"M305.616,-315.957C326.156,-328.894 353.578,-346.165 376.217,-360.423\"/>\r\n",
       "<polygon fill=\"teal\" stroke=\"teal\" points=\"374.625,-363.557 384.952,-365.925 378.356,-357.634 374.625,-363.557\"/>\r\n",
       "</g>\r\n",
       "<!-- 89726 -->\r\n",
       "<g id=\"node8\" class=\"node\"><title>89726</title>\r\n",
       "<ellipse fill=\"none\" stroke=\"teal\" stroke-dasharray=\"1,5\" cx=\"419.207\" cy=\"-314.87\" rx=\"54.3945\" ry=\"26.7407\"/>\r\n",
       "<text text-anchor=\"middle\" x=\"419.207\" y=\"-318.67\" font-family=\"Times New Roman,serif\" font-size=\"14.00\">edad: &lt;40 </text>\r\n",
       "<text text-anchor=\"middle\" x=\"419.207\" y=\"-303.67\" font-family=\"Times New Roman,serif\" font-size=\"14.00\"> Sobrevive</text>\r\n",
       "</g>\r\n",
       "<!-- 81777&#45;&gt;89726 -->\r\n",
       "<g id=\"edge7\" class=\"edge\"><title>81777&#45;&gt;89726</title>\r\n",
       "<path fill=\"none\" stroke=\"teal\" d=\"M317.412,-302.173C329.614,-303.71 343.199,-305.422 356.343,-307.077\"/>\r\n",
       "<polygon fill=\"teal\" stroke=\"teal\" points=\"355.918,-310.551 366.277,-308.329 356.793,-303.606 355.918,-310.551\"/>\r\n",
       "</g>\r\n",
       "<!-- 55445 -->\r\n",
       "<g id=\"node9\" class=\"node\"><title>55445</title>\r\n",
       "<ellipse fill=\"none\" stroke=\"teal\" stroke-dasharray=\"1,5\" cx=\"419.207\" cy=\"-242.87\" rx=\"53.9813\" ry=\"26.7407\"/>\r\n",
       "<text text-anchor=\"middle\" x=\"419.207\" y=\"-246.67\" font-family=\"Times New Roman,serif\" font-size=\"14.00\">edad: &lt;60 </text>\r\n",
       "<text text-anchor=\"middle\" x=\"419.207\" y=\"-231.67\" font-family=\"Times New Roman,serif\" font-size=\"14.00\"> Muere</text>\r\n",
       "</g>\r\n",
       "<!-- 81777&#45;&gt;55445 -->\r\n",
       "<g id=\"edge8\" class=\"edge\"><title>81777&#45;&gt;55445</title>\r\n",
       "<path fill=\"none\" stroke=\"teal\" d=\"M312.111,-282.964C328.577,-276.741 348.283,-269.294 366.218,-262.517\"/>\r\n",
       "<polygon fill=\"teal\" stroke=\"teal\" points=\"367.851,-265.641 375.968,-258.832 365.376,-259.093 367.851,-265.641\"/>\r\n",
       "</g>\r\n",
       "<!-- 53572 -->\r\n",
       "<g id=\"node13\" class=\"node\"><title>53572</title>\r\n",
>>>>>>> e265343b249a1462ac27ef966e1dcc86f4e7a638
       "<ellipse fill=\"none\" stroke=\"teal\" stroke-dasharray=\"1,5\" cx=\"419.207\" cy=\"-170.87\" rx=\"45.011\" ry=\"26.7407\"/>\r\n",
       "<text text-anchor=\"middle\" x=\"419.207\" y=\"-174.67\" font-family=\"Times New Roman,serif\" font-size=\"14.00\">sibsp: 0 </text>\r\n",
       "<text text-anchor=\"middle\" x=\"419.207\" y=\"-159.67\" font-family=\"Times New Roman,serif\" font-size=\"14.00\"> Muere</text>\r\n",
       "</g>\r\n",
<<<<<<< HEAD
       "<!-- 27543&#45;&gt;55784 -->\r\n",
       "<g id=\"edge16\" class=\"edge\"><title>27543&#45;&gt;55784</title>\r\n",
       "<path fill=\"none\" stroke=\"teal\" d=\"M316.26,-128.777C333.656,-135.96 354.022,-144.369 371.958,-151.774\"/>\r\n",
       "<polygon fill=\"teal\" stroke=\"teal\" points=\"371.059,-155.19 381.638,-155.771 373.731,-148.72 371.059,-155.19\"/>\r\n",
       "</g>\r\n",
       "<!-- 67043 -->\r\n",
       "<g id=\"node18\" class=\"node\"><title>67043</title>\r\n",
=======
       "<!-- 19807&#45;&gt;53572 -->\r\n",
       "<g id=\"edge12\" class=\"edge\"><title>19807&#45;&gt;53572</title>\r\n",
       "<path fill=\"none\" stroke=\"teal\" d=\"M317.798,-132.926C334.441,-139.215 353.607,-146.458 370.705,-152.919\"/>\r\n",
       "<polygon fill=\"teal\" stroke=\"teal\" points=\"369.906,-156.359 380.498,-156.62 372.381,-149.811 369.906,-156.359\"/>\r\n",
       "</g>\r\n",
       "<!-- 21002 -->\r\n",
       "<g id=\"node14\" class=\"node\"><title>21002</title>\r\n",
>>>>>>> e265343b249a1462ac27ef966e1dcc86f4e7a638
       "<ellipse fill=\"none\" stroke=\"teal\" stroke-dasharray=\"1,5\" cx=\"419.207\" cy=\"-98.8701\" rx=\"45.011\" ry=\"26.7407\"/>\r\n",
       "<text text-anchor=\"middle\" x=\"419.207\" y=\"-102.67\" font-family=\"Times New Roman,serif\" font-size=\"14.00\">sibsp: 1 </text>\r\n",
       "<text text-anchor=\"middle\" x=\"419.207\" y=\"-87.6701\" font-family=\"Times New Roman,serif\" font-size=\"14.00\"> Muere</text>\r\n",
       "</g>\r\n",
<<<<<<< HEAD
       "<!-- 27543&#45;&gt;67043 -->\r\n",
       "<g id=\"edge17\" class=\"edge\"><title>27543&#45;&gt;67043</title>\r\n",
       "<path fill=\"none\" stroke=\"teal\" d=\"M327.305,-107.14C339.155,-106.062 351.778,-104.914 363.729,-103.826\"/>\r\n",
       "<polygon fill=\"teal\" stroke=\"teal\" points=\"364.38,-107.282 374.021,-102.89 363.745,-100.31 364.38,-107.282\"/>\r\n",
       "</g>\r\n",
       "<!-- 2794 -->\r\n",
       "<g id=\"node19\" class=\"node\"><title>2794</title>\r\n",
=======
       "<!-- 19807&#45;&gt;21002 -->\r\n",
       "<g id=\"edge13\" class=\"edge\"><title>19807&#45;&gt;21002</title>\r\n",
       "<path fill=\"none\" stroke=\"teal\" d=\"M326.497,-110.422C338.759,-108.878 351.89,-107.224 364.273,-105.664\"/>\r\n",
       "<polygon fill=\"teal\" stroke=\"teal\" points=\"364.979,-109.103 374.463,-104.38 364.104,-102.158 364.979,-109.103\"/>\r\n",
       "</g>\r\n",
       "<!-- 14571 -->\r\n",
       "<g id=\"node15\" class=\"node\"><title>14571</title>\r\n",
>>>>>>> e265343b249a1462ac27ef966e1dcc86f4e7a638
       "<ellipse fill=\"none\" stroke=\"teal\" stroke-dasharray=\"1,5\" cx=\"419.207\" cy=\"-26.8701\" rx=\"45.011\" ry=\"26.7407\"/>\r\n",
       "<text text-anchor=\"middle\" x=\"419.207\" y=\"-30.6701\" font-family=\"Times New Roman,serif\" font-size=\"14.00\">sibsp: 2 </text>\r\n",
       "<text text-anchor=\"middle\" x=\"419.207\" y=\"-15.6701\" font-family=\"Times New Roman,serif\" font-size=\"14.00\"> Muere</text>\r\n",
       "</g>\r\n",
<<<<<<< HEAD
       "<!-- 27543&#45;&gt;2794 -->\r\n",
       "<g id=\"edge18\" class=\"edge\"><title>27543&#45;&gt;2794</title>\r\n",
       "<path fill=\"none\" stroke=\"teal\" d=\"M309.539,-91.5104C330.148,-79.2511 356.49,-63.5817 378.077,-50.7409\"/>\r\n",
       "<polygon fill=\"teal\" stroke=\"teal\" points=\"379.896,-53.7312 386.701,-45.6108 376.318,-47.7151 379.896,-53.7312\"/>\r\n",
       "</g>\r\n",
       "<!-- 76162 -->\r\n",
       "<g id=\"node20\" class=\"node\"><title>76162</title>\r\n",
       "<ellipse fill=\"none\" stroke=\"teal\" stroke-dasharray=\"1,5\" cx=\"564.101\" cy=\"-228.87\" rx=\"54.3945\" ry=\"26.7407\"/>\r\n",
       "<text text-anchor=\"middle\" x=\"564.101\" y=\"-232.67\" font-family=\"Times New Roman,serif\" font-size=\"14.00\">clase: 1 </text>\r\n",
       "<text text-anchor=\"middle\" x=\"564.101\" y=\"-217.67\" font-family=\"Times New Roman,serif\" font-size=\"14.00\"> Sobrevive</text>\r\n",
       "</g>\r\n",
       "<!-- 55784&#45;&gt;76162 -->\r\n",
       "<g id=\"edge19\" class=\"edge\"><title>55784&#45;&gt;76162</title>\r\n",
       "<path fill=\"none\" stroke=\"teal\" d=\"M457.006,-185.806C473.835,-192.638 494.05,-200.842 512.298,-208.25\"/>\r\n",
       "<polygon fill=\"teal\" stroke=\"teal\" points=\"511.052,-211.521 521.634,-212.039 513.684,-205.035 511.052,-211.521\"/>\r\n",
       "</g>\r\n",
       "<!-- 77508 -->\r\n",
       "<g id=\"node21\" class=\"node\"><title>77508</title>\r\n",
       "<ellipse fill=\"none\" stroke=\"teal\" stroke-dasharray=\"1,5\" cx=\"564.101\" cy=\"-156.87\" rx=\"43.6818\" ry=\"26.7407\"/>\r\n",
       "<text text-anchor=\"middle\" x=\"564.101\" y=\"-160.67\" font-family=\"Times New Roman,serif\" font-size=\"14.00\">clase: 2 </text>\r\n",
       "<text text-anchor=\"middle\" x=\"564.101\" y=\"-145.67\" font-family=\"Times New Roman,serif\" font-size=\"14.00\"> Muere</text>\r\n",
       "</g>\r\n",
       "<!-- 55784&#45;&gt;77508 -->\r\n",
       "<g id=\"edge20\" class=\"edge\"><title>55784&#45;&gt;77508</title>\r\n",
       "<path fill=\"none\" stroke=\"teal\" d=\"M464.246,-166.555C478.771,-165.132 495.077,-163.535 510.193,-162.054\"/>\r\n",
       "<polygon fill=\"teal\" stroke=\"teal\" points=\"510.821,-165.509 520.432,-161.051 510.139,-158.542 510.821,-165.509\"/>\r\n",
       "</g>\r\n",
       "<!-- 6715 -->\r\n",
       "<g id=\"node22\" class=\"node\"><title>6715</title>\r\n",
       "<ellipse fill=\"none\" stroke=\"teal\" stroke-dasharray=\"1,5\" cx=\"564.101\" cy=\"-84.8701\" rx=\"43.6818\" ry=\"26.7407\"/>\r\n",
       "<text text-anchor=\"middle\" x=\"564.101\" y=\"-88.6701\" font-family=\"Times New Roman,serif\" font-size=\"14.00\">clase: 3 </text>\r\n",
       "<text text-anchor=\"middle\" x=\"564.101\" y=\"-73.6701\" font-family=\"Times New Roman,serif\" font-size=\"14.00\"> Muere</text>\r\n",
       "</g>\r\n",
       "<!-- 55784&#45;&gt;6715 -->\r\n",
       "<g id=\"edge21\" class=\"edge\"><title>55784&#45;&gt;6715</title>\r\n",
       "<path fill=\"none\" stroke=\"teal\" d=\"M451.565,-151.997C472.743,-139.251 500.869,-122.324 523.579,-108.656\"/>\r\n",
       "<polygon fill=\"teal\" stroke=\"teal\" points=\"525.544,-111.559 532.307,-103.403 521.934,-105.561 525.544,-111.559\"/>\r\n",
=======
       "<!-- 19807&#45;&gt;14571 -->\r\n",
       "<g id=\"edge14\" class=\"edge\"><title>19807&#45;&gt;14571</title>\r\n",
       "<path fill=\"none\" stroke=\"teal\" d=\"M308.454,-95.996C329.416,-82.7935 356.624,-65.6572 378.705,-51.7497\"/>\r\n",
       "<polygon fill=\"teal\" stroke=\"teal\" points=\"380.604,-54.6897 387.201,-46.3987 376.874,-48.7666 380.604,-54.6897\"/>\r\n",
>>>>>>> e265343b249a1462ac27ef966e1dcc86f4e7a638
       "</g>\r\n",
       "</g>\r\n",
       "</svg>\r\n"
      ],
      "text/plain": [
<<<<<<< HEAD
       "<graphviz.files.Source at 0x218ef4facf8>"
      ]
     },
     "execution_count": 23,
=======
       "<graphviz.files.Source at 0x218ef26ff98>"
      ]
     },
     "execution_count": 22,
>>>>>>> e265343b249a1462ac27ef966e1dcc86f4e7a638
     "metadata": {},
     "output_type": "execute_result"
    }
   ],
   "source": [
    "reload_data(0.3)\n",
<<<<<<< HEAD
    "t = decision_tree(info_function = 'gain', max_iterations=100000)\n",
=======
    "t = decision_tree(info_function = 'gain', max_iterations=9)\n",
>>>>>>> e265343b249a1462ac27ef966e1dcc86f4e7a638
    "g = get_graphviz(t, metadata, 'rankdir=\"LR\";size=\"18\";node [shape=\"oval\", style=dotted, color=teal];edge [color=teal]')\n",
    "reload_data(TRAIN_RATIO)\n",
    "g"
   ]
  },
  {
   "cell_type": "markdown",
   "metadata": {},
   "source": [
    "## Matrices de confusion\n",
    "### 1. Utilizando arboles de decision con ganancia de informacion"
   ]
  },
  {
   "cell_type": "code",
   "execution_count": 10,
   "metadata": {},
   "outputs": [
    {
     "name": "stdout",
     "output_type": "stream",
     "text": [
      "* Class: Sobrevive\n",
      "Accuracy 0.68571 | Precision 0.66667 | Recall 0.53333 | TP-rate 0.53333 | FP-rate 0.20000 | F1 0.59259 \n",
      "\n",
      "* Class: Muere\n",
      "Accuracy 0.68571 | Precision 0.69565 | Recall 0.80000 | TP-rate 0.80000 | FP-rate 0.46667 | F1 0.74419 \n",
      "\n",
      "HARMONIC MEANS\n",
      "\n",
      "    Accuracy: 0.68571\n",
      "    Precision: 0.68085\n",
      "    Recall: 0.64000\n",
      "    TP rate: 0.64000\n",
      "    FP rate: 0.28000\n",
      "    F1 score: 0.65979\n"
     ]
    },
    {
     "data": {
      "image/png": "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\n",
      "text/plain": [
       "<Figure size 432x288 with 2 Axes>"
      ]
     },
     "metadata": {
      "needs_background": "light"
     },
     "output_type": "display_data"
    },
    {
     "data": {
      "text/html": [
       "\n",
       "        <script>\n",
       "            function code_toggle_669044901161695952() {\n",
       "                $('div.cell.code_cell.rendered.selected').find('div.input').toggle();\n",
       "            }\n",
       "\n",
       "            \n",
       "        </script>\n",
       "\n",
       "        <a href=\"javascript:code_toggle_669044901161695952()\">Mostrar/ocultar celda: </a>\n",
       "    "
      ],
      "text/plain": [
       "<IPython.core.display.HTML object>"
      ]
     },
     "execution_count": 10,
     "metadata": {},
     "output_type": "execute_result"
    }
   ],
   "source": [
    "t = decision_tree('gain')\n",
    "score(t, test_x, test_y, metadata[-1]['values'], confusion_matrix = True, normalize=False)\n",
    "hide_toggle()"
   ]
  },
  {
   "cell_type": "markdown",
   "metadata": {},
   "source": [
    "### 2. Utilizando arboles de decision con coeficiente gini"
   ]
  },
  {
   "cell_type": "code",
   "execution_count": 11,
   "metadata": {},
   "outputs": [
    {
     "name": "stdout",
     "output_type": "stream",
     "text": [
      "* Class: Sobrevive\n",
      "Accuracy 0.68571 | Precision 0.66667 | Recall 0.53333 | TP-rate 0.53333 | FP-rate 0.20000 | F1 0.59259 \n",
      "\n",
      "* Class: Muere\n",
      "Accuracy 0.68571 | Precision 0.69565 | Recall 0.80000 | TP-rate 0.80000 | FP-rate 0.46667 | F1 0.74419 \n",
      "\n",
      "HARMONIC MEANS\n",
      "\n",
      "    Accuracy: 0.68571\n",
      "    Precision: 0.68085\n",
      "    Recall: 0.64000\n",
      "    TP rate: 0.64000\n",
      "    FP rate: 0.28000\n",
      "    F1 score: 0.65979\n"
     ]
    },
    {
     "data": {
      "text/html": [
       "\n",
       "        <script>\n",
       "            function code_toggle_5276260142712953132() {\n",
       "                $('div.cell.code_cell.rendered.selected').find('div.input').toggle();\n",
       "            }\n",
       "\n",
       "            \n",
       "        </script>\n",
       "\n",
       "        <a href=\"javascript:code_toggle_5276260142712953132()\">Mostrar/ocultar celda: </a>\n",
       "    "
      ],
      "text/plain": [
       "<IPython.core.display.HTML object>"
      ]
     },
     "execution_count": 11,
     "metadata": {},
     "output_type": "execute_result"
    },
    {
     "data": {
      "image/png": "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\n",
      "text/plain": [
       "<Figure size 432x288 with 2 Axes>"
      ]
     },
     "metadata": {
      "needs_background": "light"
     },
     "output_type": "display_data"
    }
   ],
   "source": [
    "t = decision_tree('gini')\n",
    "confusion_matrix(t, test_x, test_y, metadata[-1]['values'])\n",
    "score(t, test_x, test_y, metadata[-1]['values'])\n",
    "hide_toggle()"
   ]
  },
  {
   "cell_type": "markdown",
   "metadata": {},
   "source": [
    "### 3. Utilizando random forest con ganancia de información"
   ]
  },
  {
   "cell_type": "code",
   "execution_count": 12,
   "metadata": {
    "scrolled": false
   },
   "outputs": [
    {
     "name": "stdout",
     "output_type": "stream",
     "text": [
      "* Class: Sobrevive\n",
      "Accuracy 0.74286 | Precision 0.80000 | Recall 0.53333 | TP-rate 0.53333 | FP-rate 0.10000 | F1 0.64000 \n",
      "\n",
      "* Class: Muere\n",
      "Accuracy 0.74286 | Precision 0.72000 | Recall 0.90000 | TP-rate 0.90000 | FP-rate 0.46667 | F1 0.80000 \n",
      "\n",
      "HARMONIC MEANS\n",
      "\n",
      "    Accuracy: 0.74286\n",
      "    Precision: 0.75789\n",
      "    Recall: 0.66977\n",
      "    TP rate: 0.66977\n",
      "    FP rate: 0.16471\n",
      "    F1 score: 0.71111\n"
     ]
    },
    {
     "data": {
      "text/html": [
       "\n",
       "        <script>\n",
       "            function code_toggle_568359999405781336() {\n",
       "                $('div.cell.code_cell.rendered.selected').find('div.input').toggle();\n",
       "            }\n",
       "\n",
       "            \n",
       "        </script>\n",
       "\n",
       "        <a href=\"javascript:code_toggle_568359999405781336()\">Mostrar/ocultar celda: </a>\n",
       "    "
      ],
      "text/plain": [
       "<IPython.core.display.HTML object>"
      ]
     },
     "execution_count": 12,
     "metadata": {},
     "output_type": "execute_result"
    },
    {
     "data": {
      "image/png": "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\n",
      "text/plain": [
       "<Figure size 432x288 with 2 Axes>"
      ]
     },
     "metadata": {
      "needs_background": "light"
     },
     "output_type": "display_data"
    }
   ],
   "source": [
    "rf = random_forest(10, 'gini')\n",
    "confusion_matrix(rf, test_x, test_y, metadata[-1]['values'])\n",
    "score(rf, test_x, test_y, metadata[-1]['values'])\n",
    "hide_toggle()"
   ]
  },
  {
   "cell_type": "markdown",
   "metadata": {},
   "source": [
    "### 4. Utilizando random forest con ganancia de información"
   ]
  },
  {
   "cell_type": "code",
   "execution_count": 13,
   "metadata": {},
   "outputs": [
    {
     "name": "stdout",
     "output_type": "stream",
     "text": [
      "* Class: Sobrevive\n",
      "Accuracy 0.74286 | Precision 0.80000 | Recall 0.53333 | TP-rate 0.53333 | FP-rate 0.10000 | F1 0.64000 \n",
      "\n",
      "* Class: Muere\n",
      "Accuracy 0.74286 | Precision 0.72000 | Recall 0.90000 | TP-rate 0.90000 | FP-rate 0.46667 | F1 0.80000 \n",
      "\n",
      "HARMONIC MEANS\n",
      "\n",
      "    Accuracy: 0.74286\n",
      "    Precision: 0.75789\n",
      "    Recall: 0.66977\n",
      "    TP rate: 0.66977\n",
      "    FP rate: 0.16471\n",
      "    F1 score: 0.71111\n"
     ]
    },
    {
     "data": {
      "text/html": [
       "\n",
       "        <script>\n",
       "            function code_toggle_13649606730159194017() {\n",
       "                $('div.cell.code_cell.rendered.selected').find('div.input').toggle();\n",
       "            }\n",
       "\n",
       "            \n",
       "        </script>\n",
       "\n",
       "        <a href=\"javascript:code_toggle_13649606730159194017()\">Mostrar/ocultar celda: </a>\n",
       "    "
      ],
      "text/plain": [
       "<IPython.core.display.HTML object>"
      ]
     },
     "execution_count": 13,
     "metadata": {},
     "output_type": "execute_result"
    },
    {
     "data": {
      "image/png": "iVBORw0KGgoAAAANSUhEUgAAAUAAAAEYCAYAAAAtTS8wAAAABHNCSVQICAgIfAhkiAAAAAlwSFlzAAALEgAACxIB0t1+/AAAADl0RVh0U29mdHdhcmUAbWF0cGxvdGxpYiB2ZXJzaW9uIDIuMi4zLCBodHRwOi8vbWF0cGxvdGxpYi5vcmcvIxREBQAAIABJREFUeJzt3Xm8XdPdx/HP9yYkIYkpKDXETMWUkBpqqqGmEi2CUFrloX08RVFaHVClRR9abVWrTUsRMbSqJYbW+BCEmBpjiSlIaI1JJPF7/tjr6nHde4Z7zj373Lu/79drv3LOPnuv/Tvnlfyy1l5rr6WIwMysiNryDsDMLC9OgGZWWE6AZlZYToBmVlhOgGZWWE6AZlZYToBWF0mDJP1Z0huSJtZRzjhJNzQytrxI2lLS43nHYZXJ4wCLQdL+wDHA2sBbwFTgtIi4o85yDwSOBDaPiPl1B9riJAWwRkQ8lXcsVj/XAAtA0jHAOcAPgGWBlYCfA3s0oPiVgSeKkPyqIal/3jFYDSLCWx/egMWAt4G9yxwzgCxBvpS2c4AB6bNtgBeArwOvAjOAL6bPTgbeA+alaxwCfA+4uKTs4UAA/dP7g4F/ktVCnwHGley/o+S8zYF7gTfSn5uXfHYLcCpwZyrnBmBYF9+tPf7jS+IfA+wCPAG8Dnyz5PjRwF3Av9Ox5wELp89uS9/lnfR9x5aU/w3gZeCi9n3pnNXSNUam98sDs4Bt8v674S2cAPv6BuwEzG9PQF0ccwpwN7AMsDTwf8Cp6bNt0vmnAAulxPEusET6vGPC6zIBAosCbwJrpc+WA9ZNrz9IgMCSwL+AA9N5+6X3S6XPbwGeBtYEBqX3Z3Tx3drj/06K/1BgJnAJMARYF5gDrJqOHwVsmq47HJgGHFVSXgCrd1L+D8n+IxlUmgDTMYemchYBJgFn5f33wlu2uQnc9y0FzIryTdRxwCkR8WpEzCSr2R1Y8vm89Pm8iPgrWe1nrW7G8z4wQtKgiJgREY92csyuwJMRcVFEzI+IS4HHgM+WHPPbiHgiImYDlwMblrnmPLL7nfOAy4BhwLkR8Va6/qPA+gARMSUi7k7XfRb4JbB1Fd/puxExN8XzIRHxK+BJYDJZ0v9WhfKsSZwA+77XgGEV7k0tD0wveT897fugjA4J9F1gcK2BRMQ7ZM3Gw4EZkv4iae0q4mmP6eMl71+uIZ7XImJBet2eoF4p+Xx2+/mS1pR0raSXJb1Jdt90WJmyAWZGxJwKx/wKGAH8NCLmVjjWmsQJsO+7i6yJN6bMMS+RdWa0Wynt6453yJp67T5W+mFETIqIHchqQo+RJYZK8bTH9GI3Y6rFL8jiWiMihgLfBFThnLJDKSQNJruveiHwPUlLNiJQq58TYB8XEW+Q3f/6maQxkhaRtJCknSX9KB12KXCSpKUlDUvHX9zNS04FtpK0kqTFgBPbP5C0rKTdJS0KzCVrSi/opIy/AmtK2l9Sf0ljgU8A13YzploMIbtP+XaqnR7R4fNXgFVrLPNcYEpEfBn4C3B+3VFaQzgBFkBE/JhsDOBJZB0AzwP/DfwxHfJ94D7gIeBh4P60rzvXuhGYkMqawoeTVhtZb/JLZD2jWwNf6aSM14Dd0rGvkfXg7hYRs7oTU42OBfYn613+Fdl3KfU94HeS/i1pn0qFSdqDrCPq8LTrGGCkpHENi9i6zQOhzaywXAM0s8JyAjSzXkfSbyS9KumRkn0bSrpb0lRJ90kaXakcJ0Az643Gk91bLfUj4OSI2JCsI+9HHU/qyAnQzHqdiLiNrCPtQ7uBoen1YlQxlMsPbneT+g8KLTwk7zAKZ6N1Vso7hMKZPv1ZZs2aVWksZNX6DV05Yv5HHpj5kJg981Gy8avtLoiICyoUfRQwSdJZZJW7zSvF4gTYTVp4CAPWqjgKwhrszsnn5R1C4WzxyY0bWl7Mn13x386cqT+bExG1XvgI4OiIuDINUboQ2L7cCW4Cm1lzSdDWr/zWPQcBV6XXE8lm9inLCdDMmk9t5bfueYn/TFzxabIJKMpyE9jMmk/13VKUdCnZtGPDJL0AfJds2rFz08Qfc4DDKpXjBGhmTaZ6mrkARMR+XXw0qpZynADNrLlEPc3chnICNLMmq78G2ChOgGbWfHXeA2wUJ0AzazK5CWxmBSXcBDazonIN0MyKrM33AM2siNwENrPichPYzIrMw2DMrJDkgdBmVmRuAptZMbkGaGZF5nuAZlZILTQbTGtEYWYFUv+U+J2tC5z2HynpcUmPSqq4LKZrgGbWfPXXAMcD5wG//6BIaVtgD2D9iJgraZlKhbgGaGbNJ5XfKuhiXeAjgDMiYm465tVK5TgBmllzVbcq3DBJ95VsFdf3ANYEtpQ0WdKtkjapdIKbwGbWdKpcy5vVjXWB+wNLAJsCmwCXS1o1IqKrE1wDNLOmElkCLLd10wvAVZG5B3gfGFbuBCdAM2suCbWV37rpj2TrASNpTWBhYFa5E9wENrOmq6OW135+Z+sC/wb4TRoa8x5wULnmLzgBmlkO2trqa3yWWRf4gFrKcQI0s+ZS2lqAE6CZNZWoq6OjoZwAzazp6m0CN4oToJk1nWuAZlZMvgdoZkUl5CawmRWXm8BmVkyinqc9GsoJ0MyazjVAMyssJ0AzKyRR14QHDeUEaGbNJdcAzazAWiUBtsZgHOsR5393HNNvPp37Jn7zg33rr/lxbv3d17n7shO44w/Hs/G6K+cYYd/3/PPP85ntt2XD9dZh5Abrct5Pzs07pJbQQ/MB1qxHE6Ckb6Xl6R6SNFXSJ8sc+6yksrO3djOG3SWd0Ohye4OL/nw3e3z1Zx/ad9pRYzjtguvYdN8zOPUX13LaUWNyiq4Y+vfvzxk/OpupD0/j1jvu5pfn/4xp//hH3mHlrt4ZobtaFjN9dqykqCaf9FgClLQZsBswMiLWB7YHnq+zzJqb7BFxTUScUc91e6s773+a199490P7ImDoogMBWGzwIGbMfCOP0ApjueWWY6ORIwEYMmQIa6+9Di+99GLOUeWrUvKrsnk8Htipk7JXBHYAnqumkJ6sAS5HtrBJ+xJ1syLiJUnbSXpA0sMpiw8oOec4SfekbXUASeMl/VjS34EfSlo0nXdvKmePdNxkSeu2FyTpFkmjJB0s6TxJi6VaZlv6fBFJz0taSNJqkq6XNEXS7ZLW7sHfJVfHnXUFPzhqDE9edyqnH70n3/npn/IOqTCmP/ssU6c+wCaju2wIFUZbW1vZrZIulsUE+F/geKDsTNAfxFFT1LW5AVhR0hOSfi5pa0kDyTL32IhYj6wT5oiSc96MiNFkCx6fU7J/TWD7iPg68C3gbxGxCbAtcKakRYHLgH0AJC0HLB8RU9oLiIg3gAeBrdOuzwKTImIecAFwZESMAo4Fft7ZF5J0WPsyfTF/dvd/mRwdtveWHH/2Vayx87c5/qwr+cV3x+UdUiG8/fbb7LfP5znz7HMYOnRo3uHkTxW2biyLKWl34MWIeLDaMHosAUbE28Ao4DBgJjAB+C/gmYh4Ih32O2CrktMuLflzs5L9EyNiQXq9I3CCpKnALcBAYCXgcmDvdMw+wMROwpoAjE2v9wUmSBoMbA5MTGX+kqz22tl3uiAiNo6IjdV/UPkfoEWN2+2T/PHmqQBceeMD7gRpgnnz5rHfPp9n7H7jGLPn5/IOJ3+qqgY4q/3fWtouKFuktAhZ5eg7tYTSo8NgUtK6BbhF0sPAQZVO6eL1OyWvBXw+Ih7veLKk1yStT5bk/quT8q8BTpe0JFly/huwKPDviNiwQmx9woyZb7DlqDW4fcqTbDN6TZ56bmbeIfVpEcHhhx7CWmuvw9eOPibvcFpCtixmw4tdDVgFeDDdQ1wBuF/S6Ih4uauTeiwBSloLeD8inky7NgReATaQtHpEPAUcCNxactpY4Iz0511dFD0JOFLSkRERkjaKiAfSZ5eRtf8Xi4iHO54YEW9Lugc4F7g2Jeg3JT0jae+ImKjs11u/lmp0q/rd6Qez5ag1GLb4YJ66/lROPf+vfPXUSzjzuL3o37+NuXPn89/fv7RyQdZt/3fnnVzyh4sYMWI9Pjkq+z/25O//gJ123iXnyPLU+Cnx07/3ZT64gvQssHFE5LYs5mDgp5IWB+YDT5E1hy8la272B+4Fzi85Z4CkyWRN865WfTqV7P7gQylZPUvW2wxwBVlyO7VMXBPImsfblOwbB/xC0knAQmSJtNcnwINOHN/p/i3G/ai5gRTYFp/6FLPnVXU/vlDa6hzr19mymBFxYa3l9FgCTB0Qm3fy0c3ARp0cPzy9PLnD/oM7vJ9N581bIuIVOnyniBhP1vHS/v4KOsxHGxHP0EmXupn1ANXfBC6zLGb758OrKcePwplZU4n6a4CN4gRoZk3nBGhmxdSAJnCjOAGaWVNlw2BaIwM6AZpZk8lNYDMrLtcAzayQJHeCmFmBtUgF0AnQzJrPTWAzKyY3gc2sqHpoNphucQI0syZr/Gww3eUEaGZN5yawmRVTCz0K53WBzaypstlg6lsUqbNlMSWdKemxtAzv1Wku0rKcAM2s6aTyWxXG89E5PG8ERqRleJ8ATqxUiBOgmTVdvesCd7YsZkTcEBHz09u7ydYFKcv3AM2sqaSmTIbwJbLlL8rqMgFKKrt4aUS82Y2gzMyqaeYOk3RfyfsLKi2N+Z+y9S2ydYj+UOnYcjXAR8mWpiwNtf19kK3Fa2ZWs7bKGXBWRGxca7mSDiJbJG27iKi4GlWXCTAiVqz14mZmlfTUbDCSdgK+AWwdEe9Wc05VnSCS9pX0zfR6BUmjuh+mmRVdm8pvlaRlMe8C1pL0gqRDgPOAIcCNkqZKOr9sIVTRCSLpPLK1crcCfgC8S7aW7yaVwzQz+6h6H4XrYlnMHlkXePOIGCnpgXTh1yUtXOuFzMwgDYRukUdBqkmA8yS1kXV8IGkp4P0ejcrM+rQWeRS4qgT4M+BKYGlJJwP7ACf3aFRm1nc1ZxxgVSomwIj4vaQpwPZp194R8Ui5c8zMutLbmsAA/YB5ZM1gPz5nZnVpkfxXOZmlUdWXAsuTPVt3iaSKDxmbmXWmfRxgua1ZqqkBHgCMah9YKOk0YApwek8GZmZ9V29qAk/vcFx/4J89E46ZFUFrpL/ykyH8L9k9v3eBRyVNSu93BO5oTnhm1tcI6NcLeoHbe3ofBf5Ssv/ungvHzPq8Kuf8a4ZykyHU/FiJmVk1WiT/VfUs8GrAacAngIHt+yNizR6My8z6qFZqAlczpm888FuyuHcGLgcu68GYzKyPq3dK/EapJgEuEhGTACLi6Yg4Cdi2Z8Mys75Kgn5S2a1ZqhkGM1dZSn5a0uHAi8AyPRuWmfVlrXIPsJoa4NHAYOB/gC2AQ8kWHDEz65Z6m8BdrAu8pKQbJT2Z/lyiUjkVE2BETI6ItyLiuYg4MCJ2j4g7K0ZoZtYJIfq1ld+qMJ6Prgt8AnBzRKwB3Jzel1VuIPTVpDkAOxMRn6smSjOzD6l+8fMuRcRtkoZ32L0HsE16/TvgFrI1QrpU7h7ged0LrRhWXWU5fvz7k/IOo3AuuX963iEUzmvvvtfwMqto5nZnWcxlI2IGQETMkFSxr6LcQOibK51sZlYrQTU9vd1aFrNWntvPzJqu3lXhuvCKpOUA0p+vVoyj25cyM+sGiUZ0gnTmGuCg9Pog4E+VTqg6AUoa0M2gzMw+pIfWBT4D2EHSk8AO6X1Z1TwLPJpsvc3FgJUkbQB8OSKOrBymmdlHNaAXuLN1gQG2q6WcamqAPwF2A15LF34QPwpnZt0koL9UdmuWah6Fa4uI6R26rRf0UDxmVgCt8ihcNQnw+dQMDkn9gCOBJ3o2LDPrqyT1qjVBjiBrBq8EvALclPaZmXVLvxYZf1LNwuivAvs2IRYzK4BetTC6pF/RyTPBEXFYj0RkZn1ei+S/qprAN5W8HgjsCTzfM+GYWZ+nqh6Fa4pqmsATSt9Lugi4scciMrM+LWsC5x1FppoaYEerACs3OhAzK45WWRSpmnuA/+I/9wDbgNepYqJBM7PO9JoaYFoLZAOydUAA3o+ILidJNTOrqAETojZK2QQYESHp6ogY1ayAzKxvE9C/RaqA1QxHvEfSyB6PxMwKQyq/NUu5NUH6R8R84FPAoZKeBt4hS+AREU6KZtYNoo3WqAGWawLfA4wExjQpFjMrgGxC1EaUo6OBL5N10j4MfDEi5tRSRrkEKICIeLrbEZqZdaLeR+EkfZxsrfJPRMRsSZeTPbI7vpZyyiXApSUd09WHEfHjWi5kZgZZzapB9/n6A4MkzQMWAV7qTgFd6QcMhhZprJtZn1HFQOiyy2JGxIuSzgKeA2YDN0TEDbXGUS4BzoiIU2ot0MysHFHV8JOyy2JKWoJsIfRVgH8DEyUdEBEX1xJLuThc8zOzxlN2D7DcVoXtgWciYmZEzAOuAjavNZRyNcCaFhcxM6tGg+YDfA7YVNIiZE3g7YD7yp/yUV3WACPi9e7HZmbWNVXYKomIycAVwP1kQ2DagAvKntSJ7swGY2ZWB9HWgEfhIuK7wHfrKcMJ0MyaqspOkKZwAjSzplOLTAfjBGhmzaVetCiSmVkjuQlsZoXmGqCZFVaL5D8nQDNrrqwJ3BoZ0AnQzJqs6sfdepwToJk1XYvkPydAM2suN4HNrLgEbS0yDsYJ0MyaTq4BmlkRZdNh5R1FxgnQzJrOvcDWVC888xRnHX/4B+9ffmE6+3/lOHY/8LAcoyqGGy79Nbf/aQJIrLDaWnzp22ey0ICBeYeVq1ZpArfIrciuSQpJF5W87y9ppqRr84yrt1lhldU5Z+JNnDPxJs6+bBIDBg5i0+12zjusPu9fr77MzRPG8+3xf+bUS2/g/fffZ/KNf847rFwJ0U/lt6rKkRaXdIWkxyRNk7RZrbH0hhrgO8AISYMiYjawA/BiowqX1C8iFjSqvN7gocm387EVh7PM8ivmHUohLFiwgPfmzqFf//68N2c2iw9bNu+Q8qWGjQM8F7g+IvaStDDZ0pg1afkaYHIdsGt6vR9wafsHkr4n6diS949IGp5eHyDpHklTJf1SUr+0/21Jp0iaDGwmaZSkWyVNkTRJ0nLN+mJ5uP36P7HVzmPyDqMQlljmY3xm3KEcv8fmHLPraAYNHsKITbfKO6zc1TslvqShwFbAhQAR8V5E/LvWOHpLArwM2FfSQGB9YHKlEyStA4wFtoiIDYEFwLj08aLAIxHxyVTWT4G9ImIU8BvgtC7KPEzSfZLue/Nfr9X7nXIxb9573HPLJLbY8bN5h1II77z5BlNvu5EfXn07Z/9lMnNnv8td112dd1i5ElTTBB7W/m8tbR1vVq8KzAR+K+kBSb+WtGitsfSGJjAR8VCq1e0H/LXK07YDRgH3ptlnBwGvps8WAFem12sBI4Ab03H9gBldxHEBaeGV1dfdIGr8Gi3h/jv+xmrrrMfiSy2ddyiF8I9772DY8isyZImlABi17U489fAUNtt5z5wjy1nlal7ZdYHJctdI4MiImCzpXOAE4Nu1hNErEmByDXAWsA2wVMn++Xy4JtvevSbgdxFxYidlzSm57yfg0Yio+QZqb3TbdX9ky6L/42uipZZdnn8+8gBz58xm4QEDmXbvnQxfZ/28w8pdA3qBXwBeSKvDQbZC3Am1FtJbmsCQNU1PiYiHO+x/lux/AiSNJFspHuBmYC9Jy6TPlpS0ciflPg4s3d6DJGkhSev2QPy5mzv7XR686zY2226XvEMpjFVHbMSoT+/MKV/Yle/s/xnefz/Yasx+eYeVuzaV3yqJiJeB5yWtlXZtB/yj1jh6TQ0wIl4g6/Xp6ErgC5KmAvcCT6Tj/yHpJOAGSW3APOCrwPQO5b4naS/gJ5IWI/tNzgEe7bEvk5MBgxbh4ttr/jtidRpz2DGMOeyYvMNoLY3pBT4S+EPqAf4n8MVaC2j5BBgRgzvZdwtwS3o9G9ixi3MnABMqlRkRU8l6lMysh2U9vQ1ZF3gqUO4+YUUtnwDNrI+pspnbDE6AZtZ8ToBmVkyeEt/MCqrapz2awQnQzJqvRTKgE6CZNZ2bwGZWWK2R/pwAzazZWugmoBOgmTVVtiZIa2RAJ0Aza7rWSH9OgGaWA7kGaGZF1SL5zwnQzJqvRfKfE6CZNZdonSZwb5oQ1cz6grQqXLmtqmKkfmk9kG4vkesEaGZNV++qcMnXgGn1xOEEaGZNJqTyW8USpBXIlsr9dT2R+B6gmTVdFTlumKT7St5fkFZlbHcOcDwwpJ44nADNrKmqbOZ2uSympN2AVyNiiqRt6onFCdDMmq7OXuAtgN0l7UK2DO5QSRdHxAG1FuR7gGbWdPX0AkfEiRGxQkQMB/YF/tad5AeuAZpZs3lRJDMrtsZkwNIlcrvDCdDMmip7EiTvKDJOgGbWdG4Cm1lhqUWmQ3ACNLPma4385wRoZs0l9wKbWZG5CWxmxdUa+c8J0Myaz01gMysouQlsZsXkgdBmVmhOgGZWWG4Cm1kheRygmRWbE6CZFVWrNIE9I7SZNV2bym+VSFpR0t8lTZP0qKSvdScO1wDNrPnqrwDOB74eEfdLGgJMkXRjRPyjlkKcAM2sqQS01TkOJiJmADPS67ckTQM+DtSUABURdQVSVJJmAtPzjqObhgGz8g6iYHrzb75yRCzdqMIkXU/2e5QzEJhT8r7jusCl5Q0HbgNGRMSbNcXiBFg8ku7ras1V6xn+zXuGpMHArcBpEXFVree7E8TMeiVJCwFXAn/oTvIDJ0Az64WUrax+ITAtIn7c3XKcAIup03sp1qP8mzfWFsCBwKclTU3bLrUW4nuAZlZYrgGaWWE5AZpZYTkBmllhOQEWROo1sybz797anAALQJIi9XZJWlTSInnHVAQdfvd1JC0laWDecdl/uBe4QCT9D/ApIICbu3q0yBpL0leBfYD/A9YAxkXE3HyjMnANsDAkHQTsDnw17fpMjuEUhqQdgL2BPYDF0u738ovISjkBFkd/4CvAOGAoMFZSm6TV8w2r75I0FJhHNgh6X2B1YP+ICEnbSOqXa4DmBNjXSRonaXFgAHA78KmI2Dki5gNfBg6RtHCuQfYRpR0ekr4E/A/wDvAT4NCI2DEi3pN0CPBFYFA+kVo7zwfY920DjIyIr0vaDhgoaUlgLFlzeO+IcJOsAUo6PMYCqwG/iYinJR0LHCZpHNk0UF8ADo6It/OL1sCdIH2epA3IanonRMQ7kiaQ1UqWBr5R6wy69lHtvb2S+kXEAkkPAUsBq0fEbEmDgE8DewGvAxf6d28NToB9hKT1gIUjYoqkg8kmk/wj2dThFwPTI+IbJccPjIg5nRZmVesw1GXJiHg9vb4LeCkiPp9rgFaW7wH2AamGsR7wXFof4VngcOBU4GDgSOATkka0n+Pk1xglye9w4BeSTpa0Q0RsBgyXdEm+EVo5ToC9XKqBzAYuA4aQ9Ti+BuwGXAMcAPwS2BAYmVecfVm6tzcO+CawE7AzQESMAkZL+m2O4VkZ7gTp5eI/9zDWJPsP7UGyGt/vI+J2YBtJ+wL/BqbkE2Xf0qHZ20bWsXEssDnwBvCN1CM8MCJWl7RKftFaOb4H2Mulf2gfA64j69WdQjbeb21gQkTcnI5ri4j3cwu0D5K0RET8S9J+wOnAMxGxbfrsSGCRiPhhrkFaWW4C90Kl480iM4NsrNkxZLX6K4FHyMb4bZmOc/JrEGVGA7dJWhe4A/h7er98ahJ/CfhznnFaZU6AvVBJ82tLSR+XNAC4hGzZxRUjYjpwA9nA56fyi7RvSv/p3ANcC/yUbEDzhUA/sh73fYEveKhL63MTuBfpcO+pfUWsF8n+AX4N+BbZGq5j24+JiHl5xdtXtDd10+tPAUMj4q/p/anAdsAhETEt9cLPTx1T1uJcA+wlOiS/kcAKwJ7AKcBMsprHDGA7SVsDOPnVT9KOwI2S2ieP2AX4TJrkgIj4NjAd+JukNSPiLSe/3sO9wL1ESfI7Cvgc8ApZ7+PYiDgu/QNdkWwA9LN5xdkHrQWMAI6VNA/4PnAUsEPqWJoEXA4sCbybX5jWHW4Ct7gONb/Nge9ExE6SvgHsAOxcWtPzEx6NJWkY2a2F54GtgPOB28huOaxLVolYgWyWl+fyitO6xwmwhXVIfisDC8gGOK8CbATsGhHzJO0ZEVd3PMe6R9L6ABHxUBrndzrZs72Xk42x/ClwEzAa2B64IiIeyylcq4MTYC+Qnu3dFvg18ANgLrBDegD/IOAIYLeImJVflH2DpKXI7qm+QDasaDrwAHAu2ZM1SwD7AxdFxMS84rTG8D3AFidpC7IprU6KiOclnU/W/DoxTWu1A1nzy8mvASLiNUnbk9Xw1gfWAY4m621fOiIuTut6fF7S9cDbrnH3Xq4BtpiSqZXagIFkNY/RZM2wCemznYDlyKa0ujoinswv4r4pzZ34G7Lnp/ciq/W9QDaR6QCAiHgrtwCtIZwAW5SkpSNiZhrkfDLZkKUJEeHneZtE0i7AD4HNIuJtSatExDN5x2WN4yZwi5C0Gdn8cdPTUJd9Jb0I3AucCJwN7J0m3bwnz1iLIiL+mp46vFfSFu3Jzx1NfYcTYOv4HLCrpOPIml2HpP1XAIsCx5NNdbWTpAe9rGJzpCS4EHCTpI1JT8LlHZc1hpvAOesw1OX7ZOtFXBURR6V9i5HdkD+IbJ4/RcTLecVbVJIGew2PvsePwuWoY1MqIk4im9Xls2ncHxHxBtnMLstExCtOfvlw8uub3ATOUUnNb09gOPAE8GNAwJ8l/ZxsEZ3NyR7BMrMGcgLMgaRFIuLd9PooYD/gVrJHq/Ynm0vuPeAc4HvAZyLi2VyCNevDnACbTNKuZA/Snw28CowC9kqDnD9GNqvz0RFxhqRFgYlOfmY9w/cAm0jSbmSPst0SEc+TLVm5KlkPMOn+3lRg9fT+BxHxdE7hmvV5ToBNkmp3Xwe+HBF/TLO2LADOAHaTtEc6dCCwlKTBpVPfm1njuQncPHOBecCc9CzpCZK2At4hm0r995IuI3vu93PudTTreR4H2CSpNncMsCNZZ8dNZIvpTAN2J5tv7nrgnbTIkZn1MCfAJpI0GFiPbObmP7U/zSFpPHBDRFySY3hmheMEmDNJewNKFLDrAAADW0lEQVQnAPu4w8OsuXwPMCeSlgPGAoeSrevh5GfWZK4B5kTSIODTwOMR4bV7zXLgBGhmheVxgGZWWE6AZlZYToBmVlhOgGZWWE6AZlZYToDWJUkLJE2V9IikiZIWqaOsbSRdm17vLumEMscuLukr3bjG9yQdW+3+DseMl7RXDdcaLumRWmO01uIEaOXMjogNI2IE2QSth5d+qEzNf4ci4pqIOKPMIYsDNSdAs1o5AVq1bgdWTzWfaWm6/vuBFSXtKOkuSfenmuJgAEk7SXpM0h2kOQ/T/oMlnZdeLyvpakkPpm1zsinCVku1zzPTccdJulfSQ5JOLinrW5Iel3QTsFalLyHp0FTOg5Ku7FCr3V7S7ZKeSHM3IqmfpDNLrv1f9f6Q1jqcAK0iSf2BnYGH0661gN9HxEZk03mdBGwfESOB+4Bj0pRfvwI+C2wJfKyL4n8C3BoRG5AtB/oo2bPRT6fa53GSdgTWAEYDGwKjJG0laRSwL7ARWYLdpIqvc1VEbJKuN43/LD8K2bosWwO7Auen73AI8EZEbJLKP1TSKlVcx3oBPwts5QySNDW9vh24EFgemB4Rd6f9mwKfAO5M87cuDNwFrA08ExFPAki6GDisk2t8mmwpUNIEsW9IWqLDMTum7YH0fjBZQhwCXF2yvso1VXynEWn50cVTOZNKPrs8It4HnpT0z/QddgTWL7k/uFi69hNVXMtanBOglTM7IjYs3ZGS3Dulu4AbI2K/DsdtCDTqOUsBp0fELztc46huXGM8MCYiHpR0MNkEtO06lhXp2kdGRGmiRNLwGq9rLchNYKvX3cAWklaHbMU7SWsCjwGrSFotHbdfF+ffDByRzu0naSjwFlntrt0k4Esl9xY/LmkZ4DZgT0mDJA0ha25XMgSYIWkhYFyHz/aW1JZiXhV4PF37iHQ8ktZMi1VZH+AaoNUlImammtSlkgak3SdFxBOSDgP+ImkW2ezXIzop4mvABZIOARYAR0TEXZLuTMNMrkv3AdcB7ko10LeBAyLifkkTyBaSmk7WTK/k28DkdPzDfDjRPk62POmywOERMUfSr8nuDd6fZvWeCYyp7texVufZYMyssNwENrPCcgI0s8JyAjSzwnICNLPCcgI0s8JyAjSzwnICNLPC+n8tKkFQkoftpgAAAABJRU5ErkJggg==\n",
      "text/plain": [
       "<Figure size 432x288 with 2 Axes>"
      ]
     },
     "metadata": {
      "needs_background": "light"
     },
     "output_type": "display_data"
    }
   ],
   "source": [
    "rf = random_forest(10, 'gain')\n",
    "confusion_matrix(rf, test_x, test_y, metadata[-1]['values'])\n",
    "score(rf, test_x, test_y, metadata[-1]['values'])\n",
    "hide_toggle()"
   ]
  },
  {
   "cell_type": "code",
   "execution_count": 14,
   "metadata": {},
   "outputs": [
    {
     "data": {
      "text/html": [
       "\n",
       "        <script>\n",
       "            function code_toggle_2830755485455581121() {\n",
       "                $('div.cell.code_cell.rendered.selected').find('div.input').toggle();\n",
       "            }\n",
       "\n",
       "            \n",
       "        </script>\n",
       "\n",
       "        <a href=\"javascript:code_toggle_2830755485455581121()\">Mostrar/ocultar celda: Funcion para graficar accuracy vs nodes</a>\n",
       "    "
      ],
      "text/plain": [
       "<IPython.core.display.HTML object>"
      ]
     },
     "execution_count": 14,
     "metadata": {},
     "output_type": "execute_result"
    }
   ],
   "source": [
    "def acc_vs_nodes(train_size):\n",
    "    plt.style.use(\"ggplot\")\n",
    "    plt.figure(figsize=(15,7))\n",
    "    reload_data(train_size)\n",
    "    plt.title(f\"Train size = {len(train_x)} ({train_size*100}%)\")\n",
    "    plt.plot(*accuracies([decision_tree('gain', i) for i in range(1,50)], \n",
    "        train_x, train_y, metadata[-1][\"values\"]), '.-b', label=\"Train\")\n",
    "    plt.plot(*accuracies([decision_tree('gain', i) for i in range(-1,30)], \n",
    "        test_x, test_y, metadata[-1][\"values\"]), '.-r', label=\"Test\")\n",
    "#    plt.plot(*accuracies([decision_tree('gini', i) for i in range(1,50)], \n",
    "#        train_x, train_y, metadata[-1][\"values\"]), '.-g', label=\"Train\")\n",
    "#    plt.plot(*accuracies([decision_tree('gini', i) for i in range(-1,30)], \n",
    "#        test_x, test_y, metadata[-1][\"values\"]), '.-y', label=\"Test\")\n",
    "    plt.legend(loc='best', fontsize=20)\n",
    "    plt.xlabel(\"Cantidad de nodos\")\n",
    "    plt.ylabel(\"Precisión\")\n",
    "    plt.ylim((0.4,1))\n",
    "    plt.xlim((0,100))\n",
    "    plt.show()\n",
    "    reload_data(TRAIN_RATIO)\n",
    "hide_toggle(\"Funcion para graficar accuracy vs nodes\")"
   ]
  },
  {
   "cell_type": "code",
   "execution_count": 15,
   "metadata": {},
   "outputs": [
    {
     "data": {
      "image/png": "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\n",
      "text/plain": [
       "<Figure size 1080x504 with 1 Axes>"
      ]
     },
     "metadata": {},
     "output_type": "display_data"
    },
    {
     "data": {
      "image/png": "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\n",
      "text/plain": [
       "<Figure size 1080x504 with 1 Axes>"
      ]
     },
     "metadata": {},
     "output_type": "display_data"
    },
    {
     "data": {
      "image/png": "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\n",
      "text/plain": [
       "<Figure size 1080x504 with 1 Axes>"
      ]
     },
     "metadata": {},
     "output_type": "display_data"
    }
   ],
   "source": [
    "acc_vs_nodes(0.2)\n",
    "acc_vs_nodes(0.5)\n",
    "acc_vs_nodes(TRAIN_RATIO)"
   ]
  }
 ],
 "metadata": {
  "kernelspec": {
   "display_name": "Python 3",
   "language": "python",
   "name": "python3"
  },
  "language_info": {
   "codemirror_mode": {
    "name": "ipython",
    "version": 3
   },
   "file_extension": ".py",
   "mimetype": "text/x-python",
   "name": "python",
   "nbconvert_exporter": "python",
   "pygments_lexer": "ipython3",
   "version": "3.7.0"
  }
 },
 "nbformat": 4,
 "nbformat_minor": 2
}
