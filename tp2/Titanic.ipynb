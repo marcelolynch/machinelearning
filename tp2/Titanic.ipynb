{
 "cells": [
  {
   "cell_type": "code",
   "execution_count": 1,
   "metadata": {},
   "outputs": [
    {
     "data": {
      "text/html": [
       "\n",
       "        <script>\n",
       "            function code_toggle_12219670528409330264() {\n",
       "                $('div.cell.code_cell.rendered.selected').find('div.input').toggle();\n",
       "            }\n",
       "\n",
       "            \n",
       "        </script>\n",
       "\n",
       "        <a href=\"javascript:code_toggle_12219670528409330264()\">Mostrar/ocultar celda: Imports</a>\n",
       "    "
      ],
      "text/plain": [
       "<IPython.core.display.HTML object>"
      ]
     },
     "execution_count": 1,
     "metadata": {},
     "output_type": "execute_result"
    }
   ],
   "source": [
    "from metrics import score, accuracies, confusion_matrix\n",
    "from DecisionTreeBuilder import create_decision_tree\n",
    "from titanic import get_data, get_graphviz\n",
    "import matplotlib.pyplot as plt\n",
    "from RandomForest import RandomForestClassifier\n",
    "\n",
    "from IPython.display import HTML\n",
    "import random\n",
    "\n",
    "def hide_toggle(title=\"\", for_next=False):\n",
    "    this_cell = \"\"\"$('div.cell.code_cell.rendered.selected')\"\"\"\n",
    "    next_cell = this_cell + '.next()'\n",
    "\n",
    "    toggle_text = f'Mostrar/ocultar celda: {title}'  # text shown on toggle link\n",
    "    target_cell = this_cell  # target cell to control with toggle\n",
    "    js_hide_current = ''  # bit of JS to permanently hide code in current cell (only when toggling next cell)\n",
    "\n",
    "    if for_next:\n",
    "        target_cell = next_cell\n",
    "        toggle_text += ' next cell'\n",
    "        js_hide_current = this_cell + '.find(\"div.input\").hide();'\n",
    "\n",
    "    js_f_name = 'code_toggle_{}'.format(str(random.randint(1,2**64)))\n",
    "\n",
    "    html = \"\"\"\n",
    "        <script>\n",
    "            function {f_name}() {{\n",
    "                {cell_selector}.find('div.input').toggle();\n",
    "            }}\n",
    "\n",
    "            {js_hide_current}\n",
    "        </script>\n",
    "\n",
    "        <a href=\"javascript:{f_name}()\">{toggle_text}</a>\n",
    "    \"\"\".format(\n",
    "        f_name=js_f_name,\n",
    "        cell_selector=target_cell,\n",
    "        js_hide_current=js_hide_current, \n",
    "        toggle_text=toggle_text\n",
    "    )\n",
    "\n",
    "    return HTML(html)\n",
    "\n",
    "hide_toggle(\"Imports\")"
   ]
  },
  {
   "cell_type": "markdown",
   "metadata": {},
   "source": [
    "### Ingreso de datos\n",
    "Definimos las funciones para hacer data cleansing y normalizar los atributos "
   ]
  },
  {
   "cell_type": "code",
   "execution_count": 2,
   "metadata": {},
   "outputs": [
    {
     "data": {
      "text/html": [
       "\n",
       "        <script>\n",
       "            function code_toggle_8188068836814841534() {\n",
       "                $('div.cell.code_cell.rendered.selected').find('div.input').toggle();\n",
       "            }\n",
       "\n",
       "            \n",
       "        </script>\n",
       "\n",
       "        <a href=\"javascript:code_toggle_8188068836814841534()\">Mostrar/ocultar celda: Funciones de transformacion</a>\n",
       "    "
      ],
      "text/plain": [
       "<IPython.core.display.HTML object>"
      ]
     },
     "execution_count": 2,
     "metadata": {},
     "output_type": "execute_result"
    }
   ],
   "source": [
    "def age_discretization(age):\n",
    "    try:\n",
    "        age = int(age)\n",
    "        cutoffs = ['20', '40', '60']\n",
    "        for c in cutoffs:\n",
    "            if age < int(c):\n",
    "                return '<' + c\n",
    "        return cutoffs[-1] + '+'\n",
    "    except:\n",
    "        return None\n",
    "\n",
    "def cabin_discretize(cabin):\n",
    "    return cabin\n",
    "\n",
    "\n",
    "def survival_transform(s):\n",
    "    s = int(s)\n",
    "    return \"Sobrevive\" if s == 1 else \"Muere\"\n",
    "\n",
    "hide_toggle(\"Funciones de transformacion\")"
   ]
  },
  {
   "cell_type": "markdown",
   "metadata": {},
   "source": [
    "### Selección de columnas\n",
    "El vector `attributes` indicará que columnas del CSV tomamos para los datos.\n",
    "Se define para cada uno un nombre, el indice de la columna y la funcion para transformar\n",
    "la columna (para normalizar)"
   ]
  },
  {
   "cell_type": "code",
   "execution_count": 3,
   "metadata": {},
   "outputs": [
    {
     "data": {
      "text/html": [
       "\n",
       "        <script>\n",
       "            function code_toggle_12503067794060431097() {\n",
       "                $('div.cell.code_cell.rendered.selected').find('div.input').toggle();\n",
       "            }\n",
       "\n",
       "            \n",
       "        </script>\n",
       "\n",
       "        <a href=\"javascript:code_toggle_12503067794060431097()\">Mostrar/ocultar celda: Atributos</a>\n",
       "    "
      ],
      "text/plain": [
       "<IPython.core.display.HTML object>"
      ]
     },
     "execution_count": 3,
     "metadata": {},
     "output_type": "execute_result"
    }
   ],
   "source": [
    "attributes = [\n",
    "    {  \"name\": \"clase\",\n",
    "       \"idx\": 2,\n",
    "       \"transform\": lambda x: x\n",
    "    },\n",
    "    {  \"name\": \"sexo\",\n",
    "       \"idx\": 4,\n",
    "       \"transform\": lambda x: x\n",
    "    },\n",
    "    {  \"name\": \"edad\",\n",
    "       \"idx\": 5,\n",
    "       \"transform\": age_discretization\n",
    "    },\n",
    "#       {  \"name\": \"cabin\",\n",
    "#           \"idx\": 10,\n",
    "#           \"transform\": cabin_discretize\n",
    "#        },\n",
    "#        {  \"name\": \"sibsp\",\n",
    "#           \"idx\": 6,\n",
    "#           \"transform\": lambda x: x\n",
    "#        },\n",
    "    {  \"name\": \"supervivencia\",\n",
    "       \"idx\": 1,\n",
    "       \"transform\": survival_transform\n",
    "    }\n",
    "]\n",
    "hide_toggle(\"Atributos\")"
   ]
  },
  {
   "cell_type": "code",
   "execution_count": 4,
   "metadata": {},
   "outputs": [],
   "source": [
    "FILENAME = 'titanic.csv'\n",
    "SEPARATOR = '\\t'\n",
    "x, y, metadata = get_data(FILENAME, SEPARATOR, attributes)"
   ]
  },
  {
   "cell_type": "markdown",
   "metadata": {},
   "source": [
    "### Definimos las constantes"
   ]
  },
  {
   "cell_type": "code",
   "execution_count": 5,
   "metadata": {},
   "outputs": [],
   "source": [
    "TRAIN_RATIO = 0.7\n",
    "BOOTSTRAP_RATIO = 1"
   ]
  },
  {
   "cell_type": "markdown",
   "metadata": {},
   "source": [
    "### Dividimos en test y train"
   ]
  },
  {
   "cell_type": "code",
   "execution_count": 6,
   "metadata": {},
   "outputs": [
    {
     "data": {
      "text/html": [
       "\n",
       "        <script>\n",
       "            function code_toggle_10914944422226025779() {\n",
       "                $('div.cell.code_cell.rendered.selected').find('div.input').toggle();\n",
       "            }\n",
       "\n",
       "            \n",
       "        </script>\n",
       "\n",
       "        <a href=\"javascript:code_toggle_10914944422226025779()\">Mostrar/ocultar celda: Separación test/train</a>\n",
       "    "
      ],
      "text/plain": [
       "<IPython.core.display.HTML object>"
      ]
     },
     "execution_count": 6,
     "metadata": {},
     "output_type": "execute_result"
    }
   ],
   "source": [
    "def reload_data(train_ratio):\n",
    "    global train_x, test_x, train_y, test_y\n",
    "    test_size = int(len(x) * (1-train_ratio))\n",
    "    train_x = x[0:-test_size]\n",
    "    test_x = x[-test_size:]\n",
    "    train_y = y[0:-test_size]\n",
    "    test_y = y[-test_size:]\n",
    "\n",
    "hide_toggle(\"Separación test/train\")"
   ]
  },
  {
   "cell_type": "code",
   "execution_count": 7,
   "metadata": {},
   "outputs": [
    {
     "name": "stdout",
     "output_type": "stream",
     "text": [
      "Train size:  82  test size:  35\n"
     ]
    }
   ],
   "source": [
    "reload_data(TRAIN_RATIO)\n",
    "print(\"Train size: \", len(train_x), \" test size: \", len(test_x))"
   ]
  },
  {
   "cell_type": "code",
   "execution_count": 8,
   "metadata": {},
   "outputs": [
    {
     "data": {
      "text/html": [
       "\n",
       "        <script>\n",
       "            function code_toggle_15752468182791727154() {\n",
       "                $('div.cell.code_cell.rendered.selected').find('div.input').toggle();\n",
       "            }\n",
       "\n",
       "            \n",
       "        </script>\n",
       "\n",
       "        <a href=\"javascript:code_toggle_15752468182791727154()\">Mostrar/ocultar celda: Utility functions para crear arboles</a>\n",
       "    "
      ],
      "text/plain": [
       "<IPython.core.display.HTML object>"
      ]
     },
     "execution_count": 8,
     "metadata": {},
     "output_type": "execute_result"
    }
   ],
   "source": [
    "def decision_tree(info_function, max_iterations=10000):\n",
    "    return create_decision_tree(x = train_x, y = train_y, \n",
    "                                metric_f_name = info_function, \n",
    "                                max_iterations=max_iterations)\n",
    "    \n",
    "def random_forest(n_trees, info_function):\n",
    "    rf = RandomForestClassifier(n_trees, bootstrap_size = BOOTSTRAP_RATIO, metric_f = info_function)\n",
    "    rf.fit(train_x, train_y)\n",
    "    return rf\n",
    "\n",
    "hide_toggle(\"Utility functions para crear arboles\")"
   ]
  },
  {
   "cell_type": "markdown",
   "metadata": {},
   "source": [
    "# Visualizando los árboles de decisión"
   ]
  },
  {
   "cell_type": "code",
   "execution_count": 17,
   "metadata": {},
   "outputs": [
    {
     "data": {
      "image/svg+xml": [
       "<?xml version=\"1.0\" encoding=\"UTF-8\" standalone=\"no\"?>\r\n",
       "<!DOCTYPE svg PUBLIC \"-//W3C//DTD SVG 1.1//EN\"\r\n",
       " \"http://www.w3.org/Graphics/SVG/1.1/DTD/svg11.dtd\">\r\n",
       "<!-- Generated by graphviz version 2.38.0 (20140413.2041)\r\n",
       " -->\r\n",
       "<!-- Title: G Pages: 1 -->\r\n",
       "<svg width=\"482pt\" height=\"476pt\"\r\n",
       " viewBox=\"0.00 0.00 481.65 475.74\" xmlns=\"http://www.w3.org/2000/svg\" xmlns:xlink=\"http://www.w3.org/1999/xlink\">\r\n",
       "<g id=\"graph0\" class=\"graph\" transform=\"scale(1 1) rotate(0) translate(4 471.74)\">\r\n",
       "<title>G</title>\r\n",
       "<polygon fill=\"white\" stroke=\"none\" points=\"-4,4 -4,-471.74 477.654,-471.74 477.654,4 -4,4\"/>\r\n",
       "<!-- root -->\r\n",
       "<g id=\"node1\" class=\"node\"><title>root</title>\r\n",
       "<ellipse fill=\"none\" stroke=\"teal\" cx=\"11\" cy=\"-260.87\" rx=\"7\" ry=\"7\"/>\r\n",
       "<ellipse fill=\"none\" stroke=\"teal\" cx=\"11\" cy=\"-260.87\" rx=\"11\" ry=\"11\"/>\r\n",
       "</g>\r\n",
       "<!-- 33513 -->\r\n",
       "<g id=\"node2\" class=\"node\"><title>33513</title>\r\n",
       "<ellipse fill=\"none\" stroke=\"teal\" stroke-dasharray=\"1,5\" cx=\"120.933\" cy=\"-332.87\" rx=\"62.8651\" ry=\"26.7407\"/>\r\n",
       "<text text-anchor=\"middle\" x=\"120.933\" y=\"-336.67\" font-family=\"Times New Roman,serif\" font-size=\"14.00\">sexo: female </text>\r\n",
       "<text text-anchor=\"middle\" x=\"120.933\" y=\"-321.67\" font-family=\"Times New Roman,serif\" font-size=\"14.00\"> Sobrevive</text>\r\n",
       "</g>\r\n",
       "<!-- root&#45;&gt;33513 -->\r\n",
       "<g id=\"edge1\" class=\"edge\"><title>root&#45;&gt;33513</title>\r\n",
       "<path fill=\"none\" stroke=\"teal\" d=\"M20.4693,-266.52C32.7864,-274.736 56.4865,-290.546 77.6625,-304.672\"/>\r\n",
       "<polygon fill=\"teal\" stroke=\"teal\" points=\"75.974,-307.753 86.2352,-310.391 79.8586,-301.93 75.974,-307.753\"/>\r\n",
       "</g>\r\n",
       "<!-- 16749 -->\r\n",
       "<g id=\"node3\" class=\"node\"><title>16749</title>\r\n",
       "<ellipse fill=\"none\" stroke=\"teal\" stroke-dasharray=\"1,5\" cx=\"120.933\" cy=\"-152.87\" rx=\"55.7232\" ry=\"26.7407\"/>\r\n",
       "<text text-anchor=\"middle\" x=\"120.933\" y=\"-156.67\" font-family=\"Times New Roman,serif\" font-size=\"14.00\">sexo: male </text>\r\n",
       "<text text-anchor=\"middle\" x=\"120.933\" y=\"-141.67\" font-family=\"Times New Roman,serif\" font-size=\"14.00\"> Muere</text>\r\n",
       "</g>\r\n",
       "<!-- root&#45;&gt;16749 -->\r\n",
       "<g id=\"edge2\" class=\"edge\"><title>root&#45;&gt;16749</title>\r\n",
       "<path fill=\"none\" stroke=\"teal\" d=\"M19.4186,-253.447C33.4031,-239.454 64.4054,-208.432 88.3073,-184.515\"/>\r\n",
       "<polygon fill=\"teal\" stroke=\"teal\" points=\"90.8772,-186.895 95.4705,-177.347 85.9259,-181.947 90.8772,-186.895\"/>\r\n",
       "</g>\r\n",
       "<!-- 20593 -->\r\n",
       "<g id=\"node4\" class=\"node\"><title>20593</title>\r\n",
       "<ellipse fill=\"none\" stroke=\"teal\" stroke-dasharray=\"1,5\" cx=\"274.312\" cy=\"-440.87\" rx=\"54.3945\" ry=\"26.7407\"/>\r\n",
       "<text text-anchor=\"middle\" x=\"274.312\" y=\"-444.67\" font-family=\"Times New Roman,serif\" font-size=\"14.00\">clase: 1 </text>\r\n",
       "<text text-anchor=\"middle\" x=\"274.312\" y=\"-429.67\" font-family=\"Times New Roman,serif\" font-size=\"14.00\"> Sobrevive</text>\r\n",
       "</g>\r\n",
       "<!-- 33513&#45;&gt;20593 -->\r\n",
       "<g id=\"edge3\" class=\"edge\"><title>33513&#45;&gt;20593</title>\r\n",
       "<path fill=\"none\" stroke=\"teal\" d=\"M153.009,-356.223C172.145,-370.477 197.26,-388.957 219.865,-404.87 223.99,-407.774 228.321,-410.772 232.656,-413.741\"/>\r\n",
       "<polygon fill=\"teal\" stroke=\"teal\" points=\"230.709,-416.649 240.946,-419.381 234.647,-410.862 230.709,-416.649\"/>\r\n",
       "</g>\r\n",
       "<!-- 96310 -->\r\n",
       "<g id=\"node5\" class=\"node\"><title>96310</title>\r\n",
       "<ellipse fill=\"none\" stroke=\"teal\" stroke-dasharray=\"1,5\" cx=\"274.312\" cy=\"-368.87\" rx=\"54.3945\" ry=\"26.7407\"/>\r\n",
       "<text text-anchor=\"middle\" x=\"274.312\" y=\"-372.67\" font-family=\"Times New Roman,serif\" font-size=\"14.00\">clase: 2 </text>\r\n",
       "<text text-anchor=\"middle\" x=\"274.312\" y=\"-357.67\" font-family=\"Times New Roman,serif\" font-size=\"14.00\"> Sobrevive</text>\r\n",
       "</g>\r\n",
       "<!-- 33513&#45;&gt;96310 -->\r\n",
       "<g id=\"edge4\" class=\"edge\"><title>33513&#45;&gt;96310</title>\r\n",
       "<path fill=\"none\" stroke=\"teal\" d=\"M176.156,-345.765C188.742,-348.758 202.19,-351.956 214.945,-354.99\"/>\r\n",
       "<polygon fill=\"teal\" stroke=\"teal\" points=\"214.457,-358.471 224.995,-357.38 216.076,-351.661 214.457,-358.471\"/>\r\n",
       "</g>\r\n",
       "<!-- 24083 -->\r\n",
       "<g id=\"node6\" class=\"node\"><title>24083</title>\r\n",
       "<ellipse fill=\"none\" stroke=\"teal\" stroke-dasharray=\"1,5\" cx=\"274.312\" cy=\"-296.87\" rx=\"43.6818\" ry=\"26.7407\"/>\r\n",
       "<text text-anchor=\"middle\" x=\"274.312\" y=\"-300.67\" font-family=\"Times New Roman,serif\" font-size=\"14.00\">clase: 3 </text>\r\n",
       "<text text-anchor=\"middle\" x=\"274.312\" y=\"-285.67\" font-family=\"Times New Roman,serif\" font-size=\"14.00\"> Muere</text>\r\n",
       "</g>\r\n",
       "<!-- 33513&#45;&gt;24083 -->\r\n",
       "<g id=\"edge5\" class=\"edge\"><title>33513&#45;&gt;24083</title>\r\n",
       "<path fill=\"none\" stroke=\"teal\" d=\"M176.156,-319.975C191.459,-316.336 208.038,-312.393 223.094,-308.813\"/>\r\n",
       "<polygon fill=\"teal\" stroke=\"teal\" points=\"224.321,-312.118 233.24,-306.4 222.702,-305.308 224.321,-312.118\"/>\r\n",
       "</g>\r\n",
       "<!-- 4753 -->\r\n",
       "<g id=\"node10\" class=\"node\"><title>4753</title>\r\n",
       "<ellipse fill=\"none\" stroke=\"teal\" stroke-dasharray=\"1,5\" cx=\"274.312\" cy=\"-188.87\" rx=\"53.9813\" ry=\"26.7407\"/>\r\n",
       "<text text-anchor=\"middle\" x=\"274.312\" y=\"-192.67\" font-family=\"Times New Roman,serif\" font-size=\"14.00\">edad: &lt;20 </text>\r\n",
       "<text text-anchor=\"middle\" x=\"274.312\" y=\"-177.67\" font-family=\"Times New Roman,serif\" font-size=\"14.00\"> Muere</text>\r\n",
       "</g>\r\n",
       "<!-- 16749&#45;&gt;4753 -->\r\n",
       "<g id=\"edge9\" class=\"edge\"><title>16749&#45;&gt;4753</title>\r\n",
       "<path fill=\"none\" stroke=\"teal\" d=\"M171.5,-164.658C185.582,-168.007 201.039,-171.683 215.561,-175.136\"/>\r\n",
       "<polygon fill=\"teal\" stroke=\"teal\" points=\"214.899,-178.576 225.437,-177.485 216.519,-171.766 214.899,-178.576\"/>\r\n",
       "</g>\r\n",
       "<!-- 549 -->\r\n",
       "<g id=\"node11\" class=\"node\"><title>549</title>\r\n",
       "<ellipse fill=\"none\" stroke=\"teal\" stroke-dasharray=\"1,5\" cx=\"274.312\" cy=\"-116.87\" rx=\"53.9813\" ry=\"26.7407\"/>\r\n",
       "<text text-anchor=\"middle\" x=\"274.312\" y=\"-120.67\" font-family=\"Times New Roman,serif\" font-size=\"14.00\">edad: &lt;40 </text>\r\n",
       "<text text-anchor=\"middle\" x=\"274.312\" y=\"-105.67\" font-family=\"Times New Roman,serif\" font-size=\"14.00\"> Muere</text>\r\n",
       "</g>\r\n",
       "<!-- 16749&#45;&gt;549 -->\r\n",
       "<g id=\"edge10\" class=\"edge\"><title>16749&#45;&gt;549</title>\r\n",
       "<path fill=\"none\" stroke=\"teal\" d=\"M171.5,-141.082C185.582,-137.733 201.039,-134.058 215.561,-130.604\"/>\r\n",
       "<polygon fill=\"teal\" stroke=\"teal\" points=\"216.519,-133.974 225.437,-128.255 214.899,-127.164 216.519,-133.974\"/>\r\n",
       "</g>\r\n",
       "<!-- 45115 -->\r\n",
       "<g id=\"node12\" class=\"node\"><title>45115</title>\r\n",
       "<ellipse fill=\"none\" stroke=\"teal\" stroke-dasharray=\"1,5\" cx=\"274.312\" cy=\"-44.8701\" rx=\"53.9813\" ry=\"26.7407\"/>\r\n",
       "<text text-anchor=\"middle\" x=\"274.312\" y=\"-48.6701\" font-family=\"Times New Roman,serif\" font-size=\"14.00\">edad: &lt;60 </text>\r\n",
       "<text text-anchor=\"middle\" x=\"274.312\" y=\"-33.6701\" font-family=\"Times New Roman,serif\" font-size=\"14.00\"> Muere</text>\r\n",
       "</g>\r\n",
       "<!-- 16749&#45;&gt;45115 -->\r\n",
       "<g id=\"edge11\" class=\"edge\"><title>16749&#45;&gt;45115</title>\r\n",
       "<path fill=\"none\" stroke=\"teal\" d=\"M152.137,-130.167C171.378,-115.828 196.914,-97.0257 219.865,-80.8701 224.046,-77.9269 228.438,-74.8872 232.832,-71.8792\"/>\r\n",
       "<polygon fill=\"teal\" stroke=\"teal\" points=\"234.929,-74.6857 241.229,-66.1676 230.992,-68.8976 234.929,-74.6857\"/>\r\n",
       "</g>\r\n",
       "<!-- 253 -->\r\n",
       "<g id=\"node7\" class=\"node\"><title>253</title>\r\n",
       "<ellipse fill=\"none\" stroke=\"teal\" stroke-dasharray=\"1,5\" cx=\"419.207\" cy=\"-386.87\" rx=\"53.9813\" ry=\"26.7407\"/>\r\n",
       "<text text-anchor=\"middle\" x=\"419.207\" y=\"-390.67\" font-family=\"Times New Roman,serif\" font-size=\"14.00\">edad: &lt;20 </text>\r\n",
       "<text text-anchor=\"middle\" x=\"419.207\" y=\"-375.67\" font-family=\"Times New Roman,serif\" font-size=\"14.00\"> Muere</text>\r\n",
       "</g>\r\n",
       "<!-- 24083&#45;&gt;253 -->\r\n",
       "<g id=\"edge6\" class=\"edge\"><title>24083&#45;&gt;253</title>\r\n",
       "<path fill=\"none\" stroke=\"teal\" d=\"M305.616,-315.957C326.156,-328.894 353.578,-346.165 376.217,-360.423\"/>\r\n",
       "<polygon fill=\"teal\" stroke=\"teal\" points=\"374.625,-363.557 384.952,-365.925 378.356,-357.634 374.625,-363.557\"/>\r\n",
       "</g>\r\n",
       "<!-- 50536 -->\r\n",
       "<g id=\"node8\" class=\"node\"><title>50536</title>\r\n",
       "<ellipse fill=\"none\" stroke=\"teal\" stroke-dasharray=\"1,5\" cx=\"419.207\" cy=\"-314.87\" rx=\"54.3945\" ry=\"26.7407\"/>\r\n",
       "<text text-anchor=\"middle\" x=\"419.207\" y=\"-318.67\" font-family=\"Times New Roman,serif\" font-size=\"14.00\">edad: &lt;40 </text>\r\n",
       "<text text-anchor=\"middle\" x=\"419.207\" y=\"-303.67\" font-family=\"Times New Roman,serif\" font-size=\"14.00\"> Sobrevive</text>\r\n",
       "</g>\r\n",
       "<!-- 24083&#45;&gt;50536 -->\r\n",
       "<g id=\"edge7\" class=\"edge\"><title>24083&#45;&gt;50536</title>\r\n",
       "<path fill=\"none\" stroke=\"teal\" d=\"M317.412,-302.173C329.614,-303.71 343.199,-305.422 356.343,-307.077\"/>\r\n",
       "<polygon fill=\"teal\" stroke=\"teal\" points=\"355.918,-310.551 366.277,-308.329 356.793,-303.606 355.918,-310.551\"/>\r\n",
       "</g>\r\n",
       "<!-- 77261 -->\r\n",
       "<g id=\"node9\" class=\"node\"><title>77261</title>\r\n",
       "<ellipse fill=\"none\" stroke=\"teal\" stroke-dasharray=\"1,5\" cx=\"419.207\" cy=\"-242.87\" rx=\"53.9813\" ry=\"26.7407\"/>\r\n",
       "<text text-anchor=\"middle\" x=\"419.207\" y=\"-246.67\" font-family=\"Times New Roman,serif\" font-size=\"14.00\">edad: &lt;60 </text>\r\n",
       "<text text-anchor=\"middle\" x=\"419.207\" y=\"-231.67\" font-family=\"Times New Roman,serif\" font-size=\"14.00\"> Muere</text>\r\n",
       "</g>\r\n",
       "<!-- 24083&#45;&gt;77261 -->\r\n",
       "<g id=\"edge8\" class=\"edge\"><title>24083&#45;&gt;77261</title>\r\n",
       "<path fill=\"none\" stroke=\"teal\" d=\"M312.111,-282.964C328.577,-276.741 348.283,-269.294 366.218,-262.517\"/>\r\n",
       "<polygon fill=\"teal\" stroke=\"teal\" points=\"367.851,-265.641 375.968,-258.832 365.376,-259.093 367.851,-265.641\"/>\r\n",
       "</g>\r\n",
       "<!-- 82281 -->\r\n",
       "<g id=\"node13\" class=\"node\"><title>82281</title>\r\n",
       "<ellipse fill=\"none\" stroke=\"teal\" stroke-dasharray=\"1,5\" cx=\"419.207\" cy=\"-170.87\" rx=\"54.3945\" ry=\"26.7407\"/>\r\n",
       "<text text-anchor=\"middle\" x=\"419.207\" y=\"-174.67\" font-family=\"Times New Roman,serif\" font-size=\"14.00\">clase: 1 </text>\r\n",
       "<text text-anchor=\"middle\" x=\"419.207\" y=\"-159.67\" font-family=\"Times New Roman,serif\" font-size=\"14.00\"> Sobrevive</text>\r\n",
       "</g>\r\n",
       "<!-- 549&#45;&gt;82281 -->\r\n",
       "<g id=\"edge12\" class=\"edge\"><title>549&#45;&gt;82281</title>\r\n",
       "<path fill=\"none\" stroke=\"teal\" d=\"M317.798,-132.926C332.787,-138.59 349.822,-145.027 365.549,-150.971\"/>\r\n",
       "<polygon fill=\"teal\" stroke=\"teal\" points=\"364.551,-154.335 375.143,-154.596 367.026,-147.787 364.551,-154.335\"/>\r\n",
       "</g>\r\n",
       "<!-- 97315 -->\r\n",
       "<g id=\"node14\" class=\"node\"><title>97315</title>\r\n",
       "<ellipse fill=\"none\" stroke=\"teal\" stroke-dasharray=\"1,5\" cx=\"419.207\" cy=\"-98.8701\" rx=\"43.6818\" ry=\"26.7407\"/>\r\n",
       "<text text-anchor=\"middle\" x=\"419.207\" y=\"-102.67\" font-family=\"Times New Roman,serif\" font-size=\"14.00\">clase: 2 </text>\r\n",
       "<text text-anchor=\"middle\" x=\"419.207\" y=\"-87.6701\" font-family=\"Times New Roman,serif\" font-size=\"14.00\"> Muere</text>\r\n",
       "</g>\r\n",
       "<!-- 549&#45;&gt;97315 -->\r\n",
       "<g id=\"edge13\" class=\"edge\"><title>549&#45;&gt;97315</title>\r\n",
       "<path fill=\"none\" stroke=\"teal\" d=\"M326.497,-110.422C339.261,-108.815 352.966,-107.088 365.789,-105.473\"/>\r\n",
       "<polygon fill=\"teal\" stroke=\"teal\" points=\"366.365,-108.928 375.849,-104.206 365.49,-101.983 366.365,-108.928\"/>\r\n",
       "</g>\r\n",
       "<!-- 97999 -->\r\n",
       "<g id=\"node15\" class=\"node\"><title>97999</title>\r\n",
       "<ellipse fill=\"none\" stroke=\"teal\" stroke-dasharray=\"1,5\" cx=\"419.207\" cy=\"-26.8701\" rx=\"43.6818\" ry=\"26.7407\"/>\r\n",
       "<text text-anchor=\"middle\" x=\"419.207\" y=\"-30.6701\" font-family=\"Times New Roman,serif\" font-size=\"14.00\">clase: 3 </text>\r\n",
       "<text text-anchor=\"middle\" x=\"419.207\" y=\"-15.6701\" font-family=\"Times New Roman,serif\" font-size=\"14.00\"> Muere</text>\r\n",
       "</g>\r\n",
       "<!-- 549&#45;&gt;97999 -->\r\n",
       "<g id=\"edge14\" class=\"edge\"><title>549&#45;&gt;97999</title>\r\n",
       "<path fill=\"none\" stroke=\"teal\" d=\"M308.454,-95.996C329.562,-82.7018 357.002,-65.419 379.164,-51.4604\"/>\r\n",
       "<polygon fill=\"teal\" stroke=\"teal\" points=\"381.087,-54.3855 387.684,-46.0945 377.357,-48.4624 381.087,-54.3855\"/>\r\n",
       "</g>\r\n",
       "</g>\r\n",
       "</svg>\r\n"
      ],
      "text/plain": [
       "<graphviz.files.Source at 0x1dc99e69ef0>"
      ]
     },
     "execution_count": 17,
     "metadata": {},
     "output_type": "execute_result"
    }
   ],
   "source": [
    "reload_data(0.3)\n",
    "t = decision_tree(info_function = 'gain', max_iterations=200)\n",
    "g = get_graphviz(t, metadata, 'rankdir=\"LR\";size=\"18\";node [shape=\"oval\", style=dotted, color=teal];edge [color=teal]')\n",
    "reload_data(TRAIN_RATIO)\n",
    "g"
   ]
  },
  {
   "cell_type": "markdown",
   "metadata": {},
   "source": [
    "## Matrices de confusion\n",
    "### 1. Utilizando arboles de decision con ganancia de informacion"
   ]
  },
  {
   "cell_type": "code",
   "execution_count": 10,
   "metadata": {},
   "outputs": [
    {
     "name": "stdout",
     "output_type": "stream",
     "text": [
      "* Class: Muere\n",
      "Accuracy 0.77143 | Precision 0.75000 | Recall 0.90000 | TP-rate 0.90000 | FP-rate 0.40000 | F1 0.81818 \n",
      "\n",
      "* Class: Sobrevive\n",
      "Accuracy 0.77143 | Precision 0.81818 | Recall 0.60000 | TP-rate 0.60000 | FP-rate 0.10000 | F1 0.69231 \n",
      "\n",
      "HARMONIC MEANS\n",
      "\n",
      "    Accuracy: 0.77143\n",
      "    Precision: 0.78261\n",
      "    Recall: 0.72000\n",
      "    TP rate: 0.72000\n",
      "    FP rate: 0.16000\n",
      "    F1 score: 0.75000\n"
     ]
    },
    {
     "data": {
      "image/png": "[encoded data removed]",
      "text/plain": [
       "<Figure size 432x288 with 2 Axes>"
      ]
     },
     "metadata": {
      "needs_background": "light"
     },
     "output_type": "display_data"
    },
    {
     "data": {
      "text/html": [
       "\n",
       "        <script>\n",
       "            function code_toggle_1047708897779438954() {\n",
       "                $('div.cell.code_cell.rendered.selected').find('div.input').toggle();\n",
       "            }\n",
       "\n",
       "            \n",
       "        </script>\n",
       "\n",
       "        <a href=\"javascript:code_toggle_1047708897779438954()\">Mostrar/ocultar celda: </a>\n",
       "    "
      ],
      "text/plain": [
       "<IPython.core.display.HTML object>"
      ]
     },
     "execution_count": 10,
     "metadata": {},
     "output_type": "execute_result"
    }
   ],
   "source": [
    "t = decision_tree('gain')\n",
    "score(t, test_x, test_y, metadata[-1]['values'], confusion_matrix = True, normalize=True)\n",
    "hide_toggle()"
   ]
  },
  {
   "cell_type": "markdown",
   "metadata": {},
   "source": [
    "### 2. Utilizando arboles de decision con coeficiente gini"
   ]
  },
  {
   "cell_type": "code",
   "execution_count": 11,
   "metadata": {},
   "outputs": [
    {
     "name": "stdout",
     "output_type": "stream",
     "text": [
      "* Class: Muere\n",
      "Accuracy 0.77143 | Precision 0.75000 | Recall 0.90000 | TP-rate 0.90000 | FP-rate 0.40000 | F1 0.81818 \n",
      "\n",
      "* Class: Sobrevive\n",
      "Accuracy 0.77143 | Precision 0.81818 | Recall 0.60000 | TP-rate 0.60000 | FP-rate 0.10000 | F1 0.69231 \n",
      "\n",
      "HARMONIC MEANS\n",
      "\n",
      "    Accuracy: 0.77143\n",
      "    Precision: 0.78261\n",
      "    Recall: 0.72000\n",
      "    TP rate: 0.72000\n",
      "    FP rate: 0.16000\n",
      "    F1 score: 0.75000\n"
     ]
    },
    {
     "data": {
      "text/html": [
       "\n",
       "        <script>\n",
       "            function code_toggle_3170644738918795079() {\n",
       "                $('div.cell.code_cell.rendered.selected').find('div.input').toggle();\n",
       "            }\n",
       "\n",
       "            \n",
       "        </script>\n",
       "\n",
       "        <a href=\"javascript:code_toggle_3170644738918795079()\">Mostrar/ocultar celda: </a>\n",
       "    "
      ],
      "text/plain": [
       "<IPython.core.display.HTML object>"
      ]
     },
     "execution_count": 11,
     "metadata": {},
     "output_type": "execute_result"
    },
    {
     "data": {
      "image/png": "[encoded data removed]",
      "text/plain": [
       "<Figure size 432x288 with 2 Axes>"
      ]
     },
     "metadata": {
      "needs_background": "light"
     },
     "output_type": "display_data"
    }
   ],
   "source": [
    "t = decision_tree('gini')\n",
    "confusion_matrix(t, test_x, test_y, metadata[-1]['values'])\n",
    "score(t, test_x, test_y, metadata[-1]['values'])\n",
    "hide_toggle()"
   ]
  },
  {
   "cell_type": "markdown",
   "metadata": {},
   "source": [
    "### 3. Utilizando random forest con ganancia de información"
   ]
  },
  {
   "cell_type": "code",
   "execution_count": 12,
   "metadata": {
    "scrolled": false
   },
   "outputs": [
    {
     "name": "stdout",
     "output_type": "stream",
     "text": [
      "* Class: Muere\n",
      "Accuracy 0.77143 | Precision 0.75000 | Recall 0.90000 | TP-rate 0.90000 | FP-rate 0.40000 | F1 0.81818 \n",
      "\n",
      "* Class: Sobrevive\n",
      "Accuracy 0.77143 | Precision 0.81818 | Recall 0.60000 | TP-rate 0.60000 | FP-rate 0.10000 | F1 0.69231 \n",
      "\n",
      "HARMONIC MEANS\n",
      "\n",
      "    Accuracy: 0.77143\n",
      "    Precision: 0.78261\n",
      "    Recall: 0.72000\n",
      "    TP rate: 0.72000\n",
      "    FP rate: 0.16000\n",
      "    F1 score: 0.75000\n"
     ]
    },
    {
     "data": {
      "text/html": [
       "\n",
       "        <script>\n",
       "            function code_toggle_432441357772675879() {\n",
       "                $('div.cell.code_cell.rendered.selected').find('div.input').toggle();\n",
       "            }\n",
       "\n",
       "            \n",
       "        </script>\n",
       "\n",
       "        <a href=\"javascript:code_toggle_432441357772675879()\">Mostrar/ocultar celda: </a>\n",
       "    "
      ],
      "text/plain": [
       "<IPython.core.display.HTML object>"
      ]
     },
     "execution_count": 12,
     "metadata": {},
     "output_type": "execute_result"
    },
    {
     "data": {
      "image/png": "[encoded data removed]",
      "text/plain": [
       "<Figure size 432x288 with 2 Axes>"
      ]
     },
     "metadata": {
      "needs_background": "light"
     },
     "output_type": "display_data"
    }
   ],
   "source": [
    "rf = random_forest(10, 'gini')\n",
    "confusion_matrix(rf, test_x, test_y, metadata[-1]['values'])\n",
    "score(rf, test_x, test_y, metadata[-1]['values'])\n",
    "hide_toggle()"
   ]
  },
  {
   "cell_type": "markdown",
   "metadata": {},
   "source": [
    "### 4. Utilizando random forest con ganancia de información"
   ]
  },
  {
   "cell_type": "code",
   "execution_count": 13,
   "metadata": {},
   "outputs": [
    {
     "name": "stdout",
     "output_type": "stream",
     "text": [
      "* Class: Muere\n",
      "Accuracy 0.77143 | Precision 0.75000 | Recall 0.90000 | TP-rate 0.90000 | FP-rate 0.40000 | F1 0.81818 \n",
      "\n",
      "* Class: Sobrevive\n",
      "Accuracy 0.77143 | Precision 0.81818 | Recall 0.60000 | TP-rate 0.60000 | FP-rate 0.10000 | F1 0.69231 \n",
      "\n",
      "HARMONIC MEANS\n",
      "\n",
      "    Accuracy: 0.77143\n",
      "    Precision: 0.78261\n",
      "    Recall: 0.72000\n",
      "    TP rate: 0.72000\n",
      "    FP rate: 0.16000\n",
      "    F1 score: 0.75000\n"
     ]
    },
    {
     "data": {
      "text/html": [
       "\n",
       "        <script>\n",
       "            function code_toggle_17608563957801370230() {\n",
       "                $('div.cell.code_cell.rendered.selected').find('div.input').toggle();\n",
       "            }\n",
       "\n",
       "            \n",
       "        </script>\n",
       "\n",
       "        <a href=\"javascript:code_toggle_17608563957801370230()\">Mostrar/ocultar celda: </a>\n",
       "    "
      ],
      "text/plain": [
       "<IPython.core.display.HTML object>"
      ]
     },
     "execution_count": 13,
     "metadata": {},
     "output_type": "execute_result"
    },
    {
     "data": {
      "image/png": "[encoded data removed]",
      "text/plain": [
       "<Figure size 432x288 with 2 Axes>"
      ]
     },
     "metadata": {
      "needs_background": "light"
     },
     "output_type": "display_data"
    }
   ],
   "source": [
    "rf = random_forest(10, 'gain')\n",
    "confusion_matrix(rf, test_x, test_y, metadata[-1]['values'])\n",
    "score(rf, test_x, test_y, metadata[-1]['values'])\n",
    "hide_toggle()"
   ]
  },
  {
   "cell_type": "code",
   "execution_count": 14,
   "metadata": {},
   "outputs": [
    {
     "data": {
      "text/html": [
       "\n",
       "        <script>\n",
       "            function code_toggle_390054056001492628() {\n",
       "                $('div.cell.code_cell.rendered.selected').find('div.input').toggle();\n",
       "            }\n",
       "\n",
       "            \n",
       "        </script>\n",
       "\n",
       "        <a href=\"javascript:code_toggle_390054056001492628()\">Mostrar/ocultar celda: Funcion para graficar accuracy vs nodes</a>\n",
       "    "
      ],
      "text/plain": [
       "<IPython.core.display.HTML object>"
      ]
     },
     "execution_count": 14,
     "metadata": {},
     "output_type": "execute_result"
    }
   ],
   "source": [
    "def acc_vs_nodes(train_size):\n",
    "    plt.style.use(\"ggplot\")\n",
    "    plt.figure(figsize=(15,7))\n",
    "    reload_data(train_size)\n",
    "    plt.title(f\"Train size = {len(train_x)} ({train_size*100}%)\")\n",
    "    plt.plot(*accuracies([decision_tree('gain', i) for i in range(1,50)], \n",
    "        train_x, train_y, metadata[-1][\"values\"]), '.-b', label=\"Train\")\n",
    "    plt.plot(*accuracies([decision_tree('gain', i) for i in range(-1,30)], \n",
    "        test_x, test_y, metadata[-1][\"values\"]), '.-r', label=\"Test\")\n",
    "#    plt.plot(*accuracies([decision_tree('gini', i) for i in range(1,50)], \n",
    "#        train_x, train_y, metadata[-1][\"values\"]), '.-g', label=\"Train\")\n",
    "#    plt.plot(*accuracies([decision_tree('gini', i) for i in range(-1,30)], \n",
    "#        test_x, test_y, metadata[-1][\"values\"]), '.-y', label=\"Test\")\n",
    "    plt.legend(loc='best', fontsize=20)\n",
    "    plt.xlabel(\"Cantidad de nodos\")\n",
    "    plt.ylabel(\"Precisión\")\n",
    "    plt.ylim((0.4,1))\n",
    "    plt.xlim((0,40))\n",
    "    plt.show()\n",
    "    reload_data(TRAIN_RATIO)\n",
    "hide_toggle(\"Funcion para graficar accuracy vs nodes\")"
   ]
  },
  {
   "cell_type": "code",
   "execution_count": 16,
   "metadata": {},
   "outputs": [
    {
     "data": {
      "image/png": "[encoded data removed]",
      "text/plain": [
       "<Figure size 1080x504 with 1 Axes>"
      ]
     },
     "metadata": {},
     "output_type": "display_data"
    },
    {
     "data": {
      "image/png": "[encoded data removed]",
      "text/plain": [
       "<Figure size 1080x504 with 1 Axes>"
      ]
     },
     "metadata": {},
     "output_type": "display_data"
    },
    {
     "data": {
      "image/png": "[encoded data removed]",
      "text/plain": [
       "<Figure size 1080x504 with 1 Axes>"
      ]
     },
     "metadata": {},
     "output_type": "display_data"
    }
   ],
   "source": [
    "acc_vs_nodes(0.2)\n",
    "acc_vs_nodes(0.5)\n",
    "acc_vs_nodes(TRAIN_RATIO)"
   ]
  }
 ],
 "metadata": {
  "kernelspec": {
   "display_name": "Python 3",
   "language": "python",
   "name": "python3"
  },
  "language_info": {
   "codemirror_mode": {
    "name": "ipython",
    "version": 3
   },
   "file_extension": ".py",
   "mimetype": "text/x-python",
   "name": "python",
   "nbconvert_exporter": "python",
   "pygments_lexer": "ipython3",
   "version": "3.7.0"
  }
 },
 "nbformat": 4,
 "nbformat_minor": 2
}
