{
 "cells": [
  {
   "cell_type": "code",
   "execution_count": 1,
   "metadata": {},
   "outputs": [
    {
     "data": {
      "text/html": [
       "\n",
       "        <script>\n",
       "            function code_toggle_10015236075303865709() {\n",
       "                $('div.cell.code_cell.rendered.selected').find('div.input').toggle();\n",
       "            }\n",
       "\n",
       "            \n",
       "        </script>\n",
       "\n",
       "        <a href=\"javascript:code_toggle_10015236075303865709()\">Mostrar/ocultar celda: Imports</a>\n",
       "    "
      ],
      "text/plain": [
       "<IPython.core.display.HTML object>"
      ]
     },
     "execution_count": 1,
     "metadata": {},
     "output_type": "execute_result"
    }
   ],
   "source": [
    "from metrics import score, accuracies, confusion_matrix\n",
    "from DecisionTreeBuilder import create_decision_tree\n",
    "from titanic import get_data, get_graphviz\n",
    "import matplotlib.pyplot as plt\n",
    "from RandomForest import RandomForestClassifier\n",
    "\n",
    "from IPython.display import HTML\n",
    "import random\n",
    "\n",
    "def hide_toggle(title=\"\", for_next=False):\n",
    "    this_cell = \"\"\"$('div.cell.code_cell.rendered.selected')\"\"\"\n",
    "    next_cell = this_cell + '.next()'\n",
    "\n",
    "    toggle_text = f'Mostrar/ocultar celda: {title}'  # text shown on toggle link\n",
    "    target_cell = this_cell  # target cell to control with toggle\n",
    "    js_hide_current = ''  # bit of JS to permanently hide code in current cell (only when toggling next cell)\n",
    "\n",
    "    if for_next:\n",
    "        target_cell = next_cell\n",
    "        toggle_text += ' next cell'\n",
    "        js_hide_current = this_cell + '.find(\"div.input\").hide();'\n",
    "\n",
    "    js_f_name = 'code_toggle_{}'.format(str(random.randint(1,2**64)))\n",
    "\n",
    "    html = \"\"\"\n",
    "        <script>\n",
    "            function {f_name}() {{\n",
    "                {cell_selector}.find('div.input').toggle();\n",
    "            }}\n",
    "\n",
    "            {js_hide_current}\n",
    "        </script>\n",
    "\n",
    "        <a href=\"javascript:{f_name}()\">{toggle_text}</a>\n",
    "    \"\"\".format(\n",
    "        f_name=js_f_name,\n",
    "        cell_selector=target_cell,\n",
    "        js_hide_current=js_hide_current, \n",
    "        toggle_text=toggle_text\n",
    "    )\n",
    "\n",
    "    return HTML(html)\n",
    "\n",
    "hide_toggle(\"Imports\")"
   ]
  },
  {
   "cell_type": "markdown",
   "metadata": {},
   "source": [
    "### Ingreso de datos\n",
    "Definimos las funciones para hacer data cleansing y normalizar los atributos "
   ]
  },
  {
   "cell_type": "code",
   "execution_count": 2,
   "metadata": {},
   "outputs": [
    {
     "data": {
      "text/html": [
       "\n",
       "        <script>\n",
       "            function code_toggle_16044281680979004839() {\n",
       "                $('div.cell.code_cell.rendered.selected').find('div.input').toggle();\n",
       "            }\n",
       "\n",
       "            \n",
       "        </script>\n",
       "\n",
       "        <a href=\"javascript:code_toggle_16044281680979004839()\">Mostrar/ocultar celda: Funciones de transformacion</a>\n",
       "    "
      ],
      "text/plain": [
       "<IPython.core.display.HTML object>"
      ]
     },
     "execution_count": 2,
     "metadata": {},
     "output_type": "execute_result"
    }
   ],
   "source": [
    "def age_discretization(age):\n",
    "    try:\n",
    "        age = int(age)\n",
    "        cutoffs = ['20', '40', '60']\n",
    "        for c in cutoffs:\n",
    "            if age < int(c):\n",
    "                return '<' + c\n",
    "        return cutoffs[-1] + '+'\n",
    "    except:\n",
    "        return None\n",
    "\n",
    "def cabin_discretize(cabin):\n",
    "    try:\n",
    "        return cabin[0]\n",
    "    except:\n",
    "        return None\n",
    "\n",
    "\n",
    "def survival_transform(s):\n",
    "    s = int(s)\n",
    "    return \"Sobrevive\" if s == 1 else \"Muere\"\n",
    "\n",
    "hide_toggle(\"Funciones de transformacion\")"
   ]
  },
  {
   "cell_type": "markdown",
   "metadata": {},
   "source": [
    "### Selección de columnas\n",
    "El vector `attributes` indicará que columnas del CSV tomamos para los datos.\n",
    "Se define para cada uno un nombre, el indice de la columna y la funcion para transformar\n",
    "la columna (para normalizar)"
   ]
  },
  {
   "cell_type": "code",
   "execution_count": 3,
   "metadata": {},
   "outputs": [
    {
     "data": {
      "text/html": [
       "\n",
       "        <script>\n",
       "            function code_toggle_12290464206613525070() {\n",
       "                $('div.cell.code_cell.rendered.selected').find('div.input').toggle();\n",
       "            }\n",
       "\n",
       "            \n",
       "        </script>\n",
       "\n",
       "        <a href=\"javascript:code_toggle_12290464206613525070()\">Mostrar/ocultar celda: Atributos</a>\n",
       "    "
      ],
      "text/plain": [
       "<IPython.core.display.HTML object>"
      ]
     },
     "execution_count": 3,
     "metadata": {},
     "output_type": "execute_result"
    }
   ],
   "source": [
    "attributes = [\n",
    "    {  \"name\": \"clase\",\n",
    "       \"idx\": 2,\n",
    "       \"transform\": lambda x: x\n",
    "    },\n",
    "    {  \"name\": \"sexo\",\n",
    "       \"idx\": 4,\n",
    "       \"transform\": lambda x: x\n",
    "    },\n",
    "    {  \"name\": \"edad\",\n",
    "       \"idx\": 5,\n",
    "       \"transform\": age_discretization\n",
    "    },\n",
    "#       {  \"name\": \"cabin\",\n",
    "#           \"idx\": 10,\n",
    "#           \"transform\": cabin_discretize\n",
    "#        },\n",
    " #       {  \"name\": \"sibsp\",\n",
    " #          \"idx\": 6,\n",
    " #          \"transform\": lambda x: x\n",
    " #       },\n",
    "    {  \"name\": \"supervivencia\",\n",
    "       \"idx\": 1,\n",
    "       \"transform\": survival_transform\n",
    "    }\n",
    "]\n",
    "hide_toggle(\"Atributos\")"
   ]
  },
  {
   "cell_type": "code",
   "execution_count": 4,
   "metadata": {},
   "outputs": [],
   "source": [
    "FILENAMES = ['titanic.csv', 'kaggle/train.csv']\n",
    "SEPARATORS = ['\\t', ',']\n",
    "CHOICE = 1\n",
    "x, y, metadata = get_data(FILENAMES[CHOICE], SEPARATORS[CHOICE], attributes)"
   ]
  },
  {
   "cell_type": "markdown",
   "metadata": {},
   "source": [
    "### Definimos las constantes"
   ]
  },
  {
   "cell_type": "code",
   "execution_count": 5,
   "metadata": {},
   "outputs": [],
   "source": [
    "TRAIN_RATIO = 0.3\n",
    "BOOTSTRAP_RATIO = 1"
   ]
  },
  {
   "cell_type": "markdown",
   "metadata": {},
   "source": [
    "### Dividimos en test y train"
   ]
  },
  {
   "cell_type": "code",
   "execution_count": 6,
   "metadata": {},
   "outputs": [
    {
     "data": {
      "text/html": [
       "\n",
       "        <script>\n",
       "            function code_toggle_8349846850120392156() {\n",
       "                $('div.cell.code_cell.rendered.selected').find('div.input').toggle();\n",
       "            }\n",
       "\n",
       "            \n",
       "        </script>\n",
       "\n",
       "        <a href=\"javascript:code_toggle_8349846850120392156()\">Mostrar/ocultar celda: Separación test/train</a>\n",
       "    "
      ],
      "text/plain": [
       "<IPython.core.display.HTML object>"
      ]
     },
     "execution_count": 6,
     "metadata": {},
     "output_type": "execute_result"
    }
   ],
   "source": [
    "def reload_data(train_ratio):\n",
    "    global train_x, test_x, train_y, test_y\n",
    "    test_size = int(len(x) * (1-train_ratio))\n",
    "    train_x = x[0:-test_size]\n",
    "    test_x = x[-test_size:]\n",
    "    train_y = y[0:-test_size]\n",
    "    test_y = y[-test_size:]\n",
    "\n",
    "hide_toggle(\"Separación test/train\")"
   ]
  },
  {
   "cell_type": "code",
   "execution_count": 7,
   "metadata": {},
   "outputs": [
    {
     "name": "stdout",
     "output_type": "stream",
     "text": [
      "Train size:  207  test size:  482\n"
     ]
    }
   ],
   "source": [
    "reload_data(TRAIN_RATIO)\n",
    "print(\"Train size: \", len(train_x), \" test size: \", len(test_x))"
   ]
  },
  {
   "cell_type": "code",
   "execution_count": 8,
   "metadata": {},
   "outputs": [
    {
     "data": {
      "text/html": [
       "\n",
       "        <script>\n",
       "            function code_toggle_1996939979988428485() {\n",
       "                $('div.cell.code_cell.rendered.selected').find('div.input').toggle();\n",
       "            }\n",
       "\n",
       "            \n",
       "        </script>\n",
       "\n",
       "        <a href=\"javascript:code_toggle_1996939979988428485()\">Mostrar/ocultar celda: Utility functions para crear arboles</a>\n",
       "    "
      ],
      "text/plain": [
       "<IPython.core.display.HTML object>"
      ]
     },
     "execution_count": 8,
     "metadata": {},
     "output_type": "execute_result"
    }
   ],
   "source": [
    "def decision_tree(info_function, max_iterations=10000):\n",
    "    return create_decision_tree(x = train_x, y = train_y, \n",
    "                                metric_f_name = info_function, \n",
    "                                max_iterations=max_iterations)\n",
    "    \n",
    "def random_forest(n_trees, info_function):\n",
    "    rf = RandomForestClassifier(n_trees, bootstrap_size = BOOTSTRAP_RATIO, metric_f = info_function)\n",
    "    rf.fit(train_x, train_y)\n",
    "    return rf\n",
    "\n",
    "hide_toggle(\"Utility functions para crear arboles\")"
   ]
  },
  {
   "cell_type": "markdown",
   "metadata": {},
   "source": [
    "# Visualizando los árboles de decisión"
   ]
  },
  {
   "cell_type": "code",
   "execution_count": 9,
   "metadata": {},
   "outputs": [
    {
     "data": {
      "image/svg+xml": [
       "<?xml version=\"1.0\" encoding=\"UTF-8\" standalone=\"no\"?>\r\n",
       "<!DOCTYPE svg PUBLIC \"-//W3C//DTD SVG 1.1//EN\"\r\n",
       " \"http://www.w3.org/Graphics/SVG/1.1/DTD/svg11.dtd\">\r\n",
       "<!-- Generated by graphviz version 2.38.0 (20140413.2041)\r\n",
       " -->\r\n",
       "<!-- Title: G Pages: 1 -->\r\n",
       "<svg width=\"397pt\" height=\"1296pt\"\r\n",
       " viewBox=\"0.00 0.00 396.65 1296.00\" xmlns=\"http://www.w3.org/2000/svg\" xmlns:xlink=\"http://www.w3.org/1999/xlink\">\r\n",
       "<g id=\"graph0\" class=\"graph\" transform=\"scale(0.823516 0.823516) rotate(0) translate(4 1569.74)\">\r\n",
       "<title>G</title>\r\n",
       "<polygon fill=\"white\" stroke=\"none\" points=\"-4,4 -4,-1569.74 477.654,-1569.74 477.654,4 -4,4\"/>\r\n",
       "<!-- root -->\r\n",
       "<g id=\"node1\" class=\"node\"><title>root</title>\r\n",
       "<ellipse fill=\"none\" stroke=\"teal\" cx=\"11\" cy=\"-872.87\" rx=\"7\" ry=\"7\"/>\r\n",
       "<ellipse fill=\"none\" stroke=\"teal\" cx=\"11\" cy=\"-872.87\" rx=\"11\" ry=\"11\"/>\r\n",
       "</g>\r\n",
       "<!-- 77508 -->\r\n",
       "<g id=\"node2\" class=\"node\"><title>77508</title>\r\n",
       "<ellipse fill=\"none\" stroke=\"teal\" stroke-dasharray=\"1,5\" cx=\"120.933\" cy=\"-1070.87\" rx=\"62.8651\" ry=\"26.7407\"/>\r\n",
       "<text text-anchor=\"middle\" x=\"120.933\" y=\"-1074.67\" font-family=\"Times New Roman,serif\" font-size=\"14.00\">sexo: female </text>\r\n",
       "<text text-anchor=\"middle\" x=\"120.933\" y=\"-1059.67\" font-family=\"Times New Roman,serif\" font-size=\"14.00\"> Sobrevive</text>\r\n",
       "</g>\r\n",
       "<!-- root&#45;&gt;77508 -->\r\n",
       "<g id=\"edge1\" class=\"edge\"><title>root&#45;&gt;77508</title>\r\n",
       "<path fill=\"none\" stroke=\"teal\" d=\"M17.061,-882.154C31.8304,-909.248 75.436,-989.242 100.885,-1035.93\"/>\r\n",
       "<polygon fill=\"teal\" stroke=\"teal\" points=\"97.8597,-1037.69 105.719,-1044.8 104.006,-1034.34 97.8597,-1037.69\"/>\r\n",
       "</g>\r\n",
       "<!-- 16804 -->\r\n",
       "<g id=\"node3\" class=\"node\"><title>16804</title>\r\n",
       "<ellipse fill=\"none\" stroke=\"teal\" stroke-dasharray=\"1,5\" cx=\"120.933\" cy=\"-566.87\" rx=\"55.7232\" ry=\"26.7407\"/>\r\n",
       "<text text-anchor=\"middle\" x=\"120.933\" y=\"-570.67\" font-family=\"Times New Roman,serif\" font-size=\"14.00\">sexo: male </text>\r\n",
       "<text text-anchor=\"middle\" x=\"120.933\" y=\"-555.67\" font-family=\"Times New Roman,serif\" font-size=\"14.00\"> Muere</text>\r\n",
       "</g>\r\n",
       "<!-- root&#45;&gt;16804 -->\r\n",
       "<g id=\"edge2\" class=\"edge\"><title>root&#45;&gt;16804</title>\r\n",
       "<path fill=\"none\" stroke=\"teal\" d=\"M15.5911,-862.689C29.8154,-822.362 82.6241,-672.643 107.2,-602.967\"/>\r\n",
       "<polygon fill=\"teal\" stroke=\"teal\" points=\"110.588,-603.885 110.613,-593.291 103.986,-601.557 110.588,-603.885\"/>\r\n",
       "</g>\r\n",
       "<!-- 15525 -->\r\n",
       "<g id=\"node4\" class=\"node\"><title>15525</title>\r\n",
       "<ellipse fill=\"none\" stroke=\"teal\" stroke-dasharray=\"1,5\" cx=\"274.312\" cy=\"-1394.87\" rx=\"54.3945\" ry=\"26.7407\"/>\r\n",
       "<text text-anchor=\"middle\" x=\"274.312\" y=\"-1398.67\" font-family=\"Times New Roman,serif\" font-size=\"14.00\">clase: 1 </text>\r\n",
       "<text text-anchor=\"middle\" x=\"274.312\" y=\"-1383.67\" font-family=\"Times New Roman,serif\" font-size=\"14.00\"> Sobrevive</text>\r\n",
       "</g>\r\n",
       "<!-- 77508&#45;&gt;15525 -->\r\n",
       "<g id=\"edge3\" class=\"edge\"><title>77508&#45;&gt;15525</title>\r\n",
       "<path fill=\"none\" stroke=\"teal\" d=\"M134.321,-1097.38C161.444,-1155.44 226.098,-1293.82 256.705,-1359.33\"/>\r\n",
       "<polygon fill=\"teal\" stroke=\"teal\" points=\"253.561,-1360.87 260.965,-1368.44 259.903,-1357.9 253.561,-1360.87\"/>\r\n",
       "</g>\r\n",
       "<!-- 89093 -->\r\n",
       "<g id=\"node5\" class=\"node\"><title>89093</title>\r\n",
       "<ellipse fill=\"none\" stroke=\"teal\" stroke-dasharray=\"1,5\" cx=\"274.312\" cy=\"-1142.87\" rx=\"54.3945\" ry=\"26.7407\"/>\r\n",
       "<text text-anchor=\"middle\" x=\"274.312\" y=\"-1146.67\" font-family=\"Times New Roman,serif\" font-size=\"14.00\">clase: 2 </text>\r\n",
       "<text text-anchor=\"middle\" x=\"274.312\" y=\"-1131.67\" font-family=\"Times New Roman,serif\" font-size=\"14.00\"> Sobrevive</text>\r\n",
       "</g>\r\n",
       "<!-- 77508&#45;&gt;89093 -->\r\n",
       "<g id=\"edge4\" class=\"edge\"><title>77508&#45;&gt;89093</title>\r\n",
       "<path fill=\"none\" stroke=\"teal\" d=\"M163.698,-1090.73C182.812,-1099.83 205.566,-1110.65 225.375,-1120.07\"/>\r\n",
       "<polygon fill=\"teal\" stroke=\"teal\" points=\"224.005,-1123.29 234.539,-1124.43 227.012,-1116.97 224.005,-1123.29\"/>\r\n",
       "</g>\r\n",
       "<!-- 65536 -->\r\n",
       "<g id=\"node6\" class=\"node\"><title>65536</title>\r\n",
       "<ellipse fill=\"none\" stroke=\"teal\" stroke-dasharray=\"1,5\" cx=\"274.312\" cy=\"-998.87\" rx=\"43.6818\" ry=\"26.7407\"/>\r\n",
       "<text text-anchor=\"middle\" x=\"274.312\" y=\"-1002.67\" font-family=\"Times New Roman,serif\" font-size=\"14.00\">clase: 3 </text>\r\n",
       "<text text-anchor=\"middle\" x=\"274.312\" y=\"-987.67\" font-family=\"Times New Roman,serif\" font-size=\"14.00\"> Muere</text>\r\n",
       "</g>\r\n",
       "<!-- 77508&#45;&gt;65536 -->\r\n",
       "<g id=\"edge5\" class=\"edge\"><title>77508&#45;&gt;65536</title>\r\n",
       "<path fill=\"none\" stroke=\"teal\" d=\"M163.698,-1051.01C184.189,-1041.26 208.862,-1029.52 229.607,-1019.66\"/>\r\n",
       "<polygon fill=\"teal\" stroke=\"teal\" points=\"231.306,-1022.73 238.833,-1015.27 228.299,-1016.4 231.306,-1022.73\"/>\r\n",
       "</g>\r\n",
       "<!-- 61004 -->\r\n",
       "<g id=\"node17\" class=\"node\"><title>61004</title>\r\n",
       "<ellipse fill=\"none\" stroke=\"teal\" stroke-dasharray=\"1,5\" cx=\"274.312\" cy=\"-674.87\" rx=\"43.6818\" ry=\"26.7407\"/>\r\n",
       "<text text-anchor=\"middle\" x=\"274.312\" y=\"-678.67\" font-family=\"Times New Roman,serif\" font-size=\"14.00\">clase: 1 </text>\r\n",
       "<text text-anchor=\"middle\" x=\"274.312\" y=\"-663.67\" font-family=\"Times New Roman,serif\" font-size=\"14.00\"> Muere</text>\r\n",
       "</g>\r\n",
       "<!-- 16804&#45;&gt;61004 -->\r\n",
       "<g id=\"edge16\" class=\"edge\"><title>16804&#45;&gt;61004</title>\r\n",
       "<path fill=\"none\" stroke=\"teal\" d=\"M152.932,-588.986C177.179,-606.285 210.959,-630.385 236.566,-648.654\"/>\r\n",
       "<polygon fill=\"teal\" stroke=\"teal\" points=\"234.738,-651.649 244.911,-654.608 238.803,-645.951 234.738,-651.649\"/>\r\n",
       "</g>\r\n",
       "<!-- 6523 -->\r\n",
       "<g id=\"node18\" class=\"node\"><title>6523</title>\r\n",
       "<ellipse fill=\"none\" stroke=\"teal\" stroke-dasharray=\"1,5\" cx=\"274.312\" cy=\"-458.87\" rx=\"43.6818\" ry=\"26.7407\"/>\r\n",
       "<text text-anchor=\"middle\" x=\"274.312\" y=\"-462.67\" font-family=\"Times New Roman,serif\" font-size=\"14.00\">clase: 2 </text>\r\n",
       "<text text-anchor=\"middle\" x=\"274.312\" y=\"-447.67\" font-family=\"Times New Roman,serif\" font-size=\"14.00\"> Muere</text>\r\n",
       "</g>\r\n",
       "<!-- 16804&#45;&gt;6523 -->\r\n",
       "<g id=\"edge17\" class=\"edge\"><title>16804&#45;&gt;6523</title>\r\n",
       "<path fill=\"none\" stroke=\"teal\" d=\"M152.932,-544.754C177.179,-527.455 210.959,-503.355 236.566,-485.086\"/>\r\n",
       "<polygon fill=\"teal\" stroke=\"teal\" points=\"238.803,-487.79 244.911,-479.133 234.738,-482.091 238.803,-487.79\"/>\r\n",
       "</g>\r\n",
       "<!-- 62239 -->\r\n",
       "<g id=\"node19\" class=\"node\"><title>62239</title>\r\n",
       "<ellipse fill=\"none\" stroke=\"teal\" stroke-dasharray=\"1,5\" cx=\"274.312\" cy=\"-170.87\" rx=\"43.6818\" ry=\"26.7407\"/>\r\n",
       "<text text-anchor=\"middle\" x=\"274.312\" y=\"-174.67\" font-family=\"Times New Roman,serif\" font-size=\"14.00\">clase: 3 </text>\r\n",
       "<text text-anchor=\"middle\" x=\"274.312\" y=\"-159.67\" font-family=\"Times New Roman,serif\" font-size=\"14.00\"> Muere</text>\r\n",
       "</g>\r\n",
       "<!-- 16804&#45;&gt;62239 -->\r\n",
       "<g id=\"edge18\" class=\"edge\"><title>16804&#45;&gt;62239</title>\r\n",
       "<path fill=\"none\" stroke=\"teal\" d=\"M132.1,-540.272C158.578,-471.008 229.682,-285.003 259.672,-206.551\"/>\r\n",
       "<polygon fill=\"teal\" stroke=\"teal\" points=\"262.987,-207.683 263.288,-197.093 256.448,-205.184 262.987,-207.683\"/>\r\n",
       "</g>\r\n",
       "<!-- 22949 -->\r\n",
       "<g id=\"node7\" class=\"node\"><title>22949</title>\r\n",
       "<ellipse fill=\"none\" stroke=\"teal\" stroke-dasharray=\"1,5\" cx=\"419.207\" cy=\"-1538.87\" rx=\"54.3945\" ry=\"26.7407\"/>\r\n",
       "<text text-anchor=\"middle\" x=\"419.207\" y=\"-1542.67\" font-family=\"Times New Roman,serif\" font-size=\"14.00\">edad: 60+ </text>\r\n",
       "<text text-anchor=\"middle\" x=\"419.207\" y=\"-1527.67\" font-family=\"Times New Roman,serif\" font-size=\"14.00\"> Sobrevive</text>\r\n",
       "</g>\r\n",
       "<!-- 15525&#45;&gt;22949 -->\r\n",
       "<g id=\"edge6\" class=\"edge\"><title>15525&#45;&gt;22949</title>\r\n",
       "<path fill=\"none\" stroke=\"teal\" d=\"M293.034,-1420.21C309.899,-1443.29 336.789,-1477.54 364.759,-1502.87 368.304,-1506.08 372.156,-1509.22 376.113,-1512.23\"/>\r\n",
       "<polygon fill=\"teal\" stroke=\"teal\" points=\"374.17,-1515.14 384.318,-1518.19 378.285,-1509.48 374.17,-1515.14\"/>\r\n",
       "</g>\r\n",
       "<!-- 10136 -->\r\n",
       "<g id=\"node8\" class=\"node\"><title>10136</title>\r\n",
       "<ellipse fill=\"none\" stroke=\"teal\" stroke-dasharray=\"1,5\" cx=\"419.207\" cy=\"-1466.87\" rx=\"54.3945\" ry=\"26.7407\"/>\r\n",
       "<text text-anchor=\"middle\" x=\"419.207\" y=\"-1470.67\" font-family=\"Times New Roman,serif\" font-size=\"14.00\">edad: &lt;20 </text>\r\n",
       "<text text-anchor=\"middle\" x=\"419.207\" y=\"-1455.67\" font-family=\"Times New Roman,serif\" font-size=\"14.00\"> Sobrevive</text>\r\n",
       "</g>\r\n",
       "<!-- 15525&#45;&gt;10136 -->\r\n",
       "<g id=\"edge7\" class=\"edge\"><title>15525&#45;&gt;10136</title>\r\n",
       "<path fill=\"none\" stroke=\"teal\" d=\"M313.23,-1413.98C330.994,-1422.93 352.334,-1433.68 371.121,-1443.14\"/>\r\n",
       "<polygon fill=\"teal\" stroke=\"teal\" points=\"369.606,-1446.3 380.112,-1447.68 372.756,-1440.05 369.606,-1446.3\"/>\r\n",
       "</g>\r\n",
       "<!-- 51461 -->\r\n",
       "<g id=\"node9\" class=\"node\"><title>51461</title>\r\n",
       "<ellipse fill=\"none\" stroke=\"teal\" stroke-dasharray=\"1,5\" cx=\"419.207\" cy=\"-1394.87\" rx=\"54.3945\" ry=\"26.7407\"/>\r\n",
       "<text text-anchor=\"middle\" x=\"419.207\" y=\"-1398.67\" font-family=\"Times New Roman,serif\" font-size=\"14.00\">edad: &lt;40 </text>\r\n",
       "<text text-anchor=\"middle\" x=\"419.207\" y=\"-1383.67\" font-family=\"Times New Roman,serif\" font-size=\"14.00\"> Sobrevive</text>\r\n",
       "</g>\r\n",
       "<!-- 15525&#45;&gt;51461 -->\r\n",
       "<g id=\"edge8\" class=\"edge\"><title>15525&#45;&gt;51461</title>\r\n",
       "<path fill=\"none\" stroke=\"teal\" d=\"M328.927,-1394.87C337.147,-1394.87 345.704,-1394.87 354.122,-1394.87\"/>\r\n",
       "<polygon fill=\"teal\" stroke=\"teal\" points=\"354.291,-1398.37 364.291,-1394.87 354.291,-1391.37 354.291,-1398.37\"/>\r\n",
       "</g>\r\n",
       "<!-- 40083 -->\r\n",
       "<g id=\"node10\" class=\"node\"><title>40083</title>\r\n",
       "<ellipse fill=\"none\" stroke=\"teal\" stroke-dasharray=\"1,5\" cx=\"419.207\" cy=\"-1322.87\" rx=\"54.3945\" ry=\"26.7407\"/>\r\n",
       "<text text-anchor=\"middle\" x=\"419.207\" y=\"-1326.67\" font-family=\"Times New Roman,serif\" font-size=\"14.00\">edad: &lt;60 </text>\r\n",
       "<text text-anchor=\"middle\" x=\"419.207\" y=\"-1311.67\" font-family=\"Times New Roman,serif\" font-size=\"14.00\"> Sobrevive</text>\r\n",
       "</g>\r\n",
       "<!-- 15525&#45;&gt;40083 -->\r\n",
       "<g id=\"edge9\" class=\"edge\"><title>15525&#45;&gt;40083</title>\r\n",
       "<path fill=\"none\" stroke=\"teal\" d=\"M313.23,-1375.76C330.994,-1366.81 352.334,-1356.06 371.121,-1346.6\"/>\r\n",
       "<polygon fill=\"teal\" stroke=\"teal\" points=\"372.756,-1349.69 380.112,-1342.06 369.606,-1343.44 372.756,-1349.69\"/>\r\n",
       "</g>\r\n",
       "<!-- 13888 -->\r\n",
       "<g id=\"node11\" class=\"node\"><title>13888</title>\r\n",
       "<ellipse fill=\"none\" stroke=\"teal\" stroke-dasharray=\"1,5\" cx=\"419.207\" cy=\"-1250.87\" rx=\"54.3945\" ry=\"26.7407\"/>\r\n",
       "<text text-anchor=\"middle\" x=\"419.207\" y=\"-1254.67\" font-family=\"Times New Roman,serif\" font-size=\"14.00\">edad: &lt;20 </text>\r\n",
       "<text text-anchor=\"middle\" x=\"419.207\" y=\"-1239.67\" font-family=\"Times New Roman,serif\" font-size=\"14.00\"> Sobrevive</text>\r\n",
       "</g>\r\n",
       "<!-- 89093&#45;&gt;13888 -->\r\n",
       "<g id=\"edge10\" class=\"edge\"><title>89093&#45;&gt;13888</title>\r\n",
       "<path fill=\"none\" stroke=\"teal\" d=\"M302.637,-1165.87C320.109,-1180.32 343.418,-1199.14 364.759,-1214.87 368.82,-1217.86 373.109,-1220.92 377.419,-1223.92\"/>\r\n",
       "<polygon fill=\"teal\" stroke=\"teal\" points=\"375.457,-1226.82 385.68,-1229.6 379.423,-1221.05 375.457,-1226.82\"/>\r\n",
       "</g>\r\n",
       "<!-- 87647 -->\r\n",
       "<g id=\"node12\" class=\"node\"><title>87647</title>\r\n",
       "<ellipse fill=\"none\" stroke=\"teal\" stroke-dasharray=\"1,5\" cx=\"419.207\" cy=\"-1178.87\" rx=\"54.3945\" ry=\"26.7407\"/>\r\n",
       "<text text-anchor=\"middle\" x=\"419.207\" y=\"-1182.67\" font-family=\"Times New Roman,serif\" font-size=\"14.00\">edad: &lt;40 </text>\r\n",
       "<text text-anchor=\"middle\" x=\"419.207\" y=\"-1167.67\" font-family=\"Times New Roman,serif\" font-size=\"14.00\"> Sobrevive</text>\r\n",
       "</g>\r\n",
       "<!-- 89093&#45;&gt;87647 -->\r\n",
       "<g id=\"edge11\" class=\"edge\"><title>89093&#45;&gt;87647</title>\r\n",
       "<path fill=\"none\" stroke=\"teal\" d=\"M323.292,-1154.96C335.191,-1157.96 348.068,-1161.2 360.383,-1164.3\"/>\r\n",
       "<polygon fill=\"teal\" stroke=\"teal\" points=\"359.559,-1167.7 370.111,-1166.75 361.269,-1160.92 359.559,-1167.7\"/>\r\n",
       "</g>\r\n",
       "<!-- 45959 -->\r\n",
       "<g id=\"node13\" class=\"node\"><title>45959</title>\r\n",
       "<ellipse fill=\"none\" stroke=\"teal\" stroke-dasharray=\"1,5\" cx=\"419.207\" cy=\"-1106.87\" rx=\"54.3945\" ry=\"26.7407\"/>\r\n",
       "<text text-anchor=\"middle\" x=\"419.207\" y=\"-1110.67\" font-family=\"Times New Roman,serif\" font-size=\"14.00\">edad: &lt;60 </text>\r\n",
       "<text text-anchor=\"middle\" x=\"419.207\" y=\"-1095.67\" font-family=\"Times New Roman,serif\" font-size=\"14.00\"> Sobrevive</text>\r\n",
       "</g>\r\n",
       "<!-- 89093&#45;&gt;45959 -->\r\n",
       "<g id=\"edge12\" class=\"edge\"><title>89093&#45;&gt;45959</title>\r\n",
       "<path fill=\"none\" stroke=\"teal\" d=\"M323.292,-1130.78C335.191,-1127.78 348.068,-1124.54 360.383,-1121.44\"/>\r\n",
       "<polygon fill=\"teal\" stroke=\"teal\" points=\"361.269,-1124.82 370.111,-1118.99 359.559,-1118.04 361.269,-1124.82\"/>\r\n",
       "</g>\r\n",
       "<!-- 19249 -->\r\n",
       "<g id=\"node14\" class=\"node\"><title>19249</title>\r\n",
       "<ellipse fill=\"none\" stroke=\"teal\" stroke-dasharray=\"1,5\" cx=\"419.207\" cy=\"-1034.87\" rx=\"54.3945\" ry=\"26.7407\"/>\r\n",
       "<text text-anchor=\"middle\" x=\"419.207\" y=\"-1038.67\" font-family=\"Times New Roman,serif\" font-size=\"14.00\">edad: &lt;20 </text>\r\n",
       "<text text-anchor=\"middle\" x=\"419.207\" y=\"-1023.67\" font-family=\"Times New Roman,serif\" font-size=\"14.00\"> Sobrevive</text>\r\n",
       "</g>\r\n",
       "<!-- 65536&#45;&gt;19249 -->\r\n",
       "<g id=\"edge13\" class=\"edge\"><title>65536&#45;&gt;19249</title>\r\n",
       "<path fill=\"none\" stroke=\"teal\" d=\"M315.116,-1008.9C329.207,-1012.45 345.355,-1016.52 360.624,-1020.36\"/>\r\n",
       "<polygon fill=\"teal\" stroke=\"teal\" points=\"359.949,-1023.8 370.501,-1022.85 361.659,-1017.01 359.949,-1023.8\"/>\r\n",
       "</g>\r\n",
       "<!-- 56007 -->\r\n",
       "<g id=\"node15\" class=\"node\"><title>56007</title>\r\n",
       "<ellipse fill=\"none\" stroke=\"teal\" stroke-dasharray=\"1,5\" cx=\"419.207\" cy=\"-962.87\" rx=\"53.9813\" ry=\"26.7407\"/>\r\n",
       "<text text-anchor=\"middle\" x=\"419.207\" y=\"-966.67\" font-family=\"Times New Roman,serif\" font-size=\"14.00\">edad: &lt;40 </text>\r\n",
       "<text text-anchor=\"middle\" x=\"419.207\" y=\"-951.67\" font-family=\"Times New Roman,serif\" font-size=\"14.00\"> Muere</text>\r\n",
       "</g>\r\n",
       "<!-- 65536&#45;&gt;56007 -->\r\n",
       "<g id=\"edge14\" class=\"edge\"><title>65536&#45;&gt;56007</title>\r\n",
       "<path fill=\"none\" stroke=\"teal\" d=\"M315.116,-988.842C329.274,-985.275 345.51,-981.185 360.844,-977.322\"/>\r\n",
       "<polygon fill=\"teal\" stroke=\"teal\" points=\"361.918,-980.661 370.76,-974.824 360.208,-973.873 361.918,-980.661\"/>\r\n",
       "</g>\r\n",
       "<!-- 87787 -->\r\n",
       "<g id=\"node16\" class=\"node\"><title>87787</title>\r\n",
       "<ellipse fill=\"none\" stroke=\"teal\" stroke-dasharray=\"1,5\" cx=\"419.207\" cy=\"-890.87\" rx=\"53.9813\" ry=\"26.7407\"/>\r\n",
       "<text text-anchor=\"middle\" x=\"419.207\" y=\"-894.67\" font-family=\"Times New Roman,serif\" font-size=\"14.00\">edad: &lt;60 </text>\r\n",
       "<text text-anchor=\"middle\" x=\"419.207\" y=\"-879.67\" font-family=\"Times New Roman,serif\" font-size=\"14.00\"> Muere</text>\r\n",
       "</g>\r\n",
       "<!-- 65536&#45;&gt;87787 -->\r\n",
       "<g id=\"edge15\" class=\"edge\"><title>65536&#45;&gt;87787</title>\r\n",
       "<path fill=\"none\" stroke=\"teal\" d=\"M301.076,-977.166C318.705,-962.557 342.776,-943.076 364.759,-926.87 368.82,-923.876 373.109,-920.821 377.419,-917.817\"/>\r\n",
       "<polygon fill=\"teal\" stroke=\"teal\" points=\"379.423,-920.686 385.68,-912.136 375.457,-914.919 379.423,-920.686\"/>\r\n",
       "</g>\r\n",
       "<!-- 31657 -->\r\n",
       "<g id=\"node20\" class=\"node\"><title>31657</title>\r\n",
       "<ellipse fill=\"none\" stroke=\"teal\" stroke-dasharray=\"1,5\" cx=\"419.207\" cy=\"-818.87\" rx=\"53.9813\" ry=\"26.7407\"/>\r\n",
       "<text text-anchor=\"middle\" x=\"419.207\" y=\"-822.67\" font-family=\"Times New Roman,serif\" font-size=\"14.00\">edad: 60+ </text>\r\n",
       "<text text-anchor=\"middle\" x=\"419.207\" y=\"-807.67\" font-family=\"Times New Roman,serif\" font-size=\"14.00\"> Muere</text>\r\n",
       "</g>\r\n",
       "<!-- 61004&#45;&gt;31657 -->\r\n",
       "<g id=\"edge19\" class=\"edge\"><title>61004&#45;&gt;31657</title>\r\n",
       "<path fill=\"none\" stroke=\"teal\" d=\"M292.709,-699.764C309.552,-722.848 336.609,-757.376 364.759,-782.87 368.304,-786.081 372.156,-789.223 376.113,-792.23\"/>\r\n",
       "<polygon fill=\"teal\" stroke=\"teal\" points=\"374.17,-795.145 384.318,-798.191 378.285,-789.482 374.17,-795.145\"/>\r\n",
       "</g>\r\n",
       "<!-- 8469 -->\r\n",
       "<g id=\"node21\" class=\"node\"><title>8469</title>\r\n",
       "<ellipse fill=\"none\" stroke=\"teal\" stroke-dasharray=\"1,5\" cx=\"419.207\" cy=\"-746.87\" rx=\"54.3945\" ry=\"26.7407\"/>\r\n",
       "<text text-anchor=\"middle\" x=\"419.207\" y=\"-750.67\" font-family=\"Times New Roman,serif\" font-size=\"14.00\">edad: &lt;20 </text>\r\n",
       "<text text-anchor=\"middle\" x=\"419.207\" y=\"-735.67\" font-family=\"Times New Roman,serif\" font-size=\"14.00\"> Sobrevive</text>\r\n",
       "</g>\r\n",
       "<!-- 61004&#45;&gt;8469 -->\r\n",
       "<g id=\"edge20\" class=\"edge\"><title>61004&#45;&gt;8469</title>\r\n",
       "<path fill=\"none\" stroke=\"teal\" d=\"M308.815,-691.751C327.414,-701.122 350.846,-712.929 371.247,-723.209\"/>\r\n",
       "<polygon fill=\"teal\" stroke=\"teal\" points=\"369.874,-726.436 380.379,-727.81 373.024,-720.185 369.874,-726.436\"/>\r\n",
       "</g>\r\n",
       "<!-- 63106 -->\r\n",
       "<g id=\"node22\" class=\"node\"><title>63106</title>\r\n",
       "<ellipse fill=\"none\" stroke=\"teal\" stroke-dasharray=\"1,5\" cx=\"419.207\" cy=\"-674.87\" rx=\"54.3945\" ry=\"26.7407\"/>\r\n",
       "<text text-anchor=\"middle\" x=\"419.207\" y=\"-678.67\" font-family=\"Times New Roman,serif\" font-size=\"14.00\">edad: &lt;40 </text>\r\n",
       "<text text-anchor=\"middle\" x=\"419.207\" y=\"-663.67\" font-family=\"Times New Roman,serif\" font-size=\"14.00\"> Sobrevive</text>\r\n",
       "</g>\r\n",
       "<!-- 61004&#45;&gt;63106 -->\r\n",
       "<g id=\"edge21\" class=\"edge\"><title>61004&#45;&gt;63106</title>\r\n",
       "<path fill=\"none\" stroke=\"teal\" d=\"M318.185,-674.87C329.617,-674.87 342.218,-674.87 354.509,-674.87\"/>\r\n",
       "<polygon fill=\"teal\" stroke=\"teal\" points=\"354.728,-678.37 364.728,-674.87 354.728,-671.37 354.728,-678.37\"/>\r\n",
       "</g>\r\n",
       "<!-- 18284 -->\r\n",
       "<g id=\"node23\" class=\"node\"><title>18284</title>\r\n",
       "<ellipse fill=\"none\" stroke=\"teal\" stroke-dasharray=\"1,5\" cx=\"419.207\" cy=\"-602.87\" rx=\"53.9813\" ry=\"26.7407\"/>\r\n",
       "<text text-anchor=\"middle\" x=\"419.207\" y=\"-606.67\" font-family=\"Times New Roman,serif\" font-size=\"14.00\">edad: &lt;60 </text>\r\n",
       "<text text-anchor=\"middle\" x=\"419.207\" y=\"-591.67\" font-family=\"Times New Roman,serif\" font-size=\"14.00\"> Muere</text>\r\n",
       "</g>\r\n",
       "<!-- 61004&#45;&gt;18284 -->\r\n",
       "<g id=\"edge22\" class=\"edge\"><title>61004&#45;&gt;18284</title>\r\n",
       "<path fill=\"none\" stroke=\"teal\" d=\"M308.815,-657.989C327.485,-648.582 351.026,-636.72 371.483,-626.413\"/>\r\n",
       "<polygon fill=\"teal\" stroke=\"teal\" points=\"373.28,-629.426 380.636,-621.801 370.13,-623.175 373.28,-629.426\"/>\r\n",
       "</g>\r\n",
       "<!-- 65818 -->\r\n",
       "<g id=\"node24\" class=\"node\"><title>65818</title>\r\n",
       "<ellipse fill=\"none\" stroke=\"teal\" stroke-dasharray=\"1,5\" cx=\"419.207\" cy=\"-530.87\" rx=\"53.9813\" ry=\"26.7407\"/>\r\n",
       "<text text-anchor=\"middle\" x=\"419.207\" y=\"-534.67\" font-family=\"Times New Roman,serif\" font-size=\"14.00\">edad: 60+ </text>\r\n",
       "<text text-anchor=\"middle\" x=\"419.207\" y=\"-519.67\" font-family=\"Times New Roman,serif\" font-size=\"14.00\"> Muere</text>\r\n",
       "</g>\r\n",
       "<!-- 6523&#45;&gt;65818 -->\r\n",
       "<g id=\"edge23\" class=\"edge\"><title>6523&#45;&gt;65818</title>\r\n",
       "<path fill=\"none\" stroke=\"teal\" d=\"M308.815,-475.751C327.485,-485.158 351.026,-497.02 371.483,-507.327\"/>\r\n",
       "<polygon fill=\"teal\" stroke=\"teal\" points=\"370.13,-510.565 380.636,-511.939 373.28,-504.314 370.13,-510.565\"/>\r\n",
       "</g>\r\n",
       "<!-- 71061 -->\r\n",
       "<g id=\"node25\" class=\"node\"><title>71061</title>\r\n",
       "<ellipse fill=\"none\" stroke=\"teal\" stroke-dasharray=\"1,5\" cx=\"419.207\" cy=\"-458.87\" rx=\"53.9813\" ry=\"26.7407\"/>\r\n",
       "<text text-anchor=\"middle\" x=\"419.207\" y=\"-462.67\" font-family=\"Times New Roman,serif\" font-size=\"14.00\">edad: &lt;20 </text>\r\n",
       "<text text-anchor=\"middle\" x=\"419.207\" y=\"-447.67\" font-family=\"Times New Roman,serif\" font-size=\"14.00\"> Muere</text>\r\n",
       "</g>\r\n",
       "<!-- 6523&#45;&gt;71061 -->\r\n",
       "<g id=\"edge24\" class=\"edge\"><title>6523&#45;&gt;71061</title>\r\n",
       "<path fill=\"none\" stroke=\"teal\" d=\"M318.185,-458.87C329.746,-458.87 342.501,-458.87 354.923,-458.87\"/>\r\n",
       "<polygon fill=\"teal\" stroke=\"teal\" points=\"355.246,-462.37 365.246,-458.87 355.245,-455.37 355.246,-462.37\"/>\r\n",
       "</g>\r\n",
       "<!-- 7904 -->\r\n",
       "<g id=\"node26\" class=\"node\"><title>7904</title>\r\n",
       "<ellipse fill=\"none\" stroke=\"teal\" stroke-dasharray=\"1,5\" cx=\"419.207\" cy=\"-386.87\" rx=\"53.9813\" ry=\"26.7407\"/>\r\n",
       "<text text-anchor=\"middle\" x=\"419.207\" y=\"-390.67\" font-family=\"Times New Roman,serif\" font-size=\"14.00\">edad: &lt;40 </text>\r\n",
       "<text text-anchor=\"middle\" x=\"419.207\" y=\"-375.67\" font-family=\"Times New Roman,serif\" font-size=\"14.00\"> Muere</text>\r\n",
       "</g>\r\n",
       "<!-- 6523&#45;&gt;7904 -->\r\n",
       "<g id=\"edge25\" class=\"edge\"><title>6523&#45;&gt;7904</title>\r\n",
       "<path fill=\"none\" stroke=\"teal\" d=\"M308.815,-441.989C327.485,-432.582 351.026,-420.72 371.483,-410.413\"/>\r\n",
       "<polygon fill=\"teal\" stroke=\"teal\" points=\"373.28,-413.426 380.636,-405.801 370.13,-407.175 373.28,-413.426\"/>\r\n",
       "</g>\r\n",
       "<!-- 6336 -->\r\n",
       "<g id=\"node27\" class=\"node\"><title>6336</title>\r\n",
       "<ellipse fill=\"none\" stroke=\"teal\" stroke-dasharray=\"1,5\" cx=\"419.207\" cy=\"-314.87\" rx=\"53.9813\" ry=\"26.7407\"/>\r\n",
       "<text text-anchor=\"middle\" x=\"419.207\" y=\"-318.67\" font-family=\"Times New Roman,serif\" font-size=\"14.00\">edad: &lt;60 </text>\r\n",
       "<text text-anchor=\"middle\" x=\"419.207\" y=\"-303.67\" font-family=\"Times New Roman,serif\" font-size=\"14.00\"> Muere</text>\r\n",
       "</g>\r\n",
       "<!-- 6523&#45;&gt;6336 -->\r\n",
       "<g id=\"edge26\" class=\"edge\"><title>6523&#45;&gt;6336</title>\r\n",
       "<path fill=\"none\" stroke=\"teal\" d=\"M292.709,-433.977C309.552,-410.892 336.609,-376.364 364.759,-350.87 368.304,-347.66 372.156,-344.517 376.113,-341.51\"/>\r\n",
       "<polygon fill=\"teal\" stroke=\"teal\" points=\"378.285,-344.258 384.318,-335.549 374.17,-338.595 378.285,-344.258\"/>\r\n",
       "</g>\r\n",
       "<!-- 44248 -->\r\n",
       "<g id=\"node28\" class=\"node\"><title>44248</title>\r\n",
       "<ellipse fill=\"none\" stroke=\"teal\" stroke-dasharray=\"1,5\" cx=\"419.207\" cy=\"-242.87\" rx=\"53.9813\" ry=\"26.7407\"/>\r\n",
       "<text text-anchor=\"middle\" x=\"419.207\" y=\"-246.67\" font-family=\"Times New Roman,serif\" font-size=\"14.00\">edad: 60+ </text>\r\n",
       "<text text-anchor=\"middle\" x=\"419.207\" y=\"-231.67\" font-family=\"Times New Roman,serif\" font-size=\"14.00\"> Muere</text>\r\n",
       "</g>\r\n",
       "<!-- 62239&#45;&gt;44248 -->\r\n",
       "<g id=\"edge27\" class=\"edge\"><title>62239&#45;&gt;44248</title>\r\n",
       "<path fill=\"none\" stroke=\"teal\" d=\"M308.815,-187.751C327.485,-197.158 351.026,-209.02 371.483,-219.327\"/>\r\n",
       "<polygon fill=\"teal\" stroke=\"teal\" points=\"370.13,-222.565 380.636,-223.939 373.28,-216.314 370.13,-222.565\"/>\r\n",
       "</g>\r\n",
       "<!-- 89370 -->\r\n",
       "<g id=\"node29\" class=\"node\"><title>89370</title>\r\n",
       "<ellipse fill=\"none\" stroke=\"teal\" stroke-dasharray=\"1,5\" cx=\"419.207\" cy=\"-170.87\" rx=\"53.9813\" ry=\"26.7407\"/>\r\n",
       "<text text-anchor=\"middle\" x=\"419.207\" y=\"-174.67\" font-family=\"Times New Roman,serif\" font-size=\"14.00\">edad: &lt;20 </text>\r\n",
       "<text text-anchor=\"middle\" x=\"419.207\" y=\"-159.67\" font-family=\"Times New Roman,serif\" font-size=\"14.00\"> Muere</text>\r\n",
       "</g>\r\n",
       "<!-- 62239&#45;&gt;89370 -->\r\n",
       "<g id=\"edge28\" class=\"edge\"><title>62239&#45;&gt;89370</title>\r\n",
       "<path fill=\"none\" stroke=\"teal\" d=\"M318.185,-170.87C329.746,-170.87 342.501,-170.87 354.923,-170.87\"/>\r\n",
       "<polygon fill=\"teal\" stroke=\"teal\" points=\"355.246,-174.37 365.246,-170.87 355.245,-167.37 355.246,-174.37\"/>\r\n",
       "</g>\r\n",
       "<!-- 69268 -->\r\n",
       "<g id=\"node30\" class=\"node\"><title>69268</title>\r\n",
       "<ellipse fill=\"none\" stroke=\"teal\" stroke-dasharray=\"1,5\" cx=\"419.207\" cy=\"-98.8701\" rx=\"53.9813\" ry=\"26.7407\"/>\r\n",
       "<text text-anchor=\"middle\" x=\"419.207\" y=\"-102.67\" font-family=\"Times New Roman,serif\" font-size=\"14.00\">edad: &lt;40 </text>\r\n",
       "<text text-anchor=\"middle\" x=\"419.207\" y=\"-87.6701\" font-family=\"Times New Roman,serif\" font-size=\"14.00\"> Muere</text>\r\n",
       "</g>\r\n",
       "<!-- 62239&#45;&gt;69268 -->\r\n",
       "<g id=\"edge29\" class=\"edge\"><title>62239&#45;&gt;69268</title>\r\n",
       "<path fill=\"none\" stroke=\"teal\" d=\"M308.815,-153.989C327.485,-144.582 351.026,-132.72 371.483,-122.413\"/>\r\n",
       "<polygon fill=\"teal\" stroke=\"teal\" points=\"373.28,-125.426 380.636,-117.801 370.13,-119.175 373.28,-125.426\"/>\r\n",
       "</g>\r\n",
       "<!-- 31258 -->\r\n",
       "<g id=\"node31\" class=\"node\"><title>31258</title>\r\n",
       "<ellipse fill=\"none\" stroke=\"teal\" stroke-dasharray=\"1,5\" cx=\"419.207\" cy=\"-26.8701\" rx=\"53.9813\" ry=\"26.7407\"/>\r\n",
       "<text text-anchor=\"middle\" x=\"419.207\" y=\"-30.6701\" font-family=\"Times New Roman,serif\" font-size=\"14.00\">edad: &lt;60 </text>\r\n",
       "<text text-anchor=\"middle\" x=\"419.207\" y=\"-15.6701\" font-family=\"Times New Roman,serif\" font-size=\"14.00\"> Muere</text>\r\n",
       "</g>\r\n",
       "<!-- 62239&#45;&gt;31258 -->\r\n",
       "<g id=\"edge30\" class=\"edge\"><title>62239&#45;&gt;31258</title>\r\n",
       "<path fill=\"none\" stroke=\"teal\" d=\"M292.709,-145.977C309.552,-122.892 336.609,-88.3645 364.759,-62.8701 368.304,-59.6596 372.156,-56.5174 376.113,-53.5103\"/>\r\n",
       "<polygon fill=\"teal\" stroke=\"teal\" points=\"378.285,-56.2584 384.318,-47.5489 374.17,-50.5953 378.285,-56.2584\"/>\r\n",
       "</g>\r\n",
       "</g>\r\n",
       "</svg>\r\n"
      ],
      "text/plain": [
       "<graphviz.files.Source at 0x19bb74c8a90>"
      ]
     },
     "execution_count": 9,
     "metadata": {},
     "output_type": "execute_result"
    }
   ],
   "source": [
    "reload_data(0.3)\n",
    "t = decision_tree(info_function = 'gain', max_iterations=100000)\n",
    "g = get_graphviz(t, metadata, 'rankdir=\"LR\";size=\"18\";node [shape=\"oval\", style=dotted, color=teal];edge [color=teal]')\n",
    "reload_data(TRAIN_RATIO)\n",
    "g"
   ]
  },
  {
   "cell_type": "markdown",
   "metadata": {},
   "source": [
    "## Matrices de confusion\n",
    "### 1. Utilizando arboles de decision con ganancia de informacion"
   ]
  },
  {
   "cell_type": "code",
   "execution_count": 10,
   "metadata": {},
   "outputs": [
    {
     "name": "stdout",
     "output_type": "stream",
     "text": [
      "* Class: Muere\n",
      "Accuracy 0.78631 | Precision 0.78125 | Recall 0.88339 | TP-rate 0.88339 | FP-rate 0.35176 | F1 0.82919 \n",
      "\n",
      "* Class: Sobrevive\n",
      "Accuracy 0.78631 | Precision 0.79630 | Recall 0.64824 | TP-rate 0.64824 | FP-rate 0.11661 | F1 0.71468 \n",
      "\n",
      "HARMONIC MEANS\n",
      "\n",
      "    Accuracy: 0.78631\n",
      "    Precision: 0.78870\n",
      "    Recall: 0.74777\n",
      "    TP rate: 0.74777\n",
      "    FP rate: 0.17515\n",
      "    F1 score: 0.76769\n"
     ]
    },
    {
     "data": {
      "image/png": "[encoded data removed]",
      "text/plain": [
       "<Figure size 432x288 with 2 Axes>"
      ]
     },
     "metadata": {
      "needs_background": "light"
     },
     "output_type": "display_data"
    },
    {
     "data": {
      "text/html": [
       "\n",
       "        <script>\n",
       "            function code_toggle_9963712781641007390() {\n",
       "                $('div.cell.code_cell.rendered.selected').find('div.input').toggle();\n",
       "            }\n",
       "\n",
       "            \n",
       "        </script>\n",
       "\n",
       "        <a href=\"javascript:code_toggle_9963712781641007390()\">Mostrar/ocultar celda: </a>\n",
       "    "
      ],
      "text/plain": [
       "<IPython.core.display.HTML object>"
      ]
     },
     "execution_count": 10,
     "metadata": {},
     "output_type": "execute_result"
    }
   ],
   "source": [
    "t = decision_tree('gain')\n",
    "score(t, test_x, test_y, metadata[-1]['values'], confusion_matrix = True, normalize=False)\n",
    "hide_toggle()"
   ]
  },
  {
   "cell_type": "markdown",
   "metadata": {},
   "source": [
    "### 2. Utilizando arboles de decision con coeficiente gini"
   ]
  },
  {
   "cell_type": "code",
   "execution_count": 11,
   "metadata": {},
   "outputs": [
    {
     "name": "stdout",
     "output_type": "stream",
     "text": [
      "* Class: Muere\n",
      "Accuracy 0.78631 | Precision 0.78125 | Recall 0.88339 | TP-rate 0.88339 | FP-rate 0.35176 | F1 0.82919 \n",
      "\n",
      "* Class: Sobrevive\n",
      "Accuracy 0.78631 | Precision 0.79630 | Recall 0.64824 | TP-rate 0.64824 | FP-rate 0.11661 | F1 0.71468 \n",
      "\n",
      "HARMONIC MEANS\n",
      "\n",
      "    Accuracy: 0.78631\n",
      "    Precision: 0.78870\n",
      "    Recall: 0.74777\n",
      "    TP rate: 0.74777\n",
      "    FP rate: 0.17515\n",
      "    F1 score: 0.76769\n"
     ]
    },
    {
     "data": {
      "text/html": [
       "\n",
       "        <script>\n",
       "            function code_toggle_1996591629655849997() {\n",
       "                $('div.cell.code_cell.rendered.selected').find('div.input').toggle();\n",
       "            }\n",
       "\n",
       "            \n",
       "        </script>\n",
       "\n",
       "        <a href=\"javascript:code_toggle_1996591629655849997()\">Mostrar/ocultar celda: </a>\n",
       "    "
      ],
      "text/plain": [
       "<IPython.core.display.HTML object>"
      ]
     },
     "execution_count": 11,
     "metadata": {},
     "output_type": "execute_result"
    },
    {
     "data": {
      "image/png": "[encoded data removed]",
      "text/plain": [
       "<Figure size 432x288 with 2 Axes>"
      ]
     },
     "metadata": {
      "needs_background": "light"
     },
     "output_type": "display_data"
    }
   ],
   "source": [
    "t = decision_tree('gini')\n",
    "confusion_matrix(t, test_x, test_y, metadata[-1]['values'])\n",
    "score(t, test_x, test_y, metadata[-1]['values'])\n",
    "hide_toggle()"
   ]
  },
  {
   "cell_type": "markdown",
   "metadata": {},
   "source": [
    "### 3. Utilizando random forest con ganancia de información"
   ]
  },
  {
   "cell_type": "code",
   "execution_count": 16,
   "metadata": {
    "scrolled": false
   },
   "outputs": [
    {
     "name": "stdout",
     "output_type": "stream",
     "text": [
      "* Class: Muere\n",
      "Accuracy 0.78216 | Precision 0.73797 | Recall 0.97527 | TP-rate 0.97527 | FP-rate 0.49246 | F1 0.84018 \n",
      "\n",
      "* Class: Sobrevive\n",
      "Accuracy 0.78216 | Precision 0.93519 | Recall 0.50754 | TP-rate 0.50754 | FP-rate 0.02473 | F1 0.65798 \n",
      "\n",
      "HARMONIC MEANS\n",
      "\n",
      "    Accuracy: 0.78216\n",
      "    Precision: 0.82495\n",
      "    Recall: 0.66763\n",
      "    TP rate: 0.66763\n",
      "    FP rate: 0.04710\n",
      "    F1 score: 0.73800\n"
     ]
    },
    {
     "data": {
      "text/html": [
       "\n",
       "        <script>\n",
       "            function code_toggle_3879618373172683652() {\n",
       "                $('div.cell.code_cell.rendered.selected').find('div.input').toggle();\n",
       "            }\n",
       "\n",
       "            \n",
       "        </script>\n",
       "\n",
       "        <a href=\"javascript:code_toggle_3879618373172683652()\">Mostrar/ocultar celda: </a>\n",
       "    "
      ],
      "text/plain": [
       "<IPython.core.display.HTML object>"
      ]
     },
     "execution_count": 16,
     "metadata": {},
     "output_type": "execute_result"
    },
    {
     "data": {
      "image/png": "[encoded data removed]",
      "text/plain": [
       "<Figure size 432x288 with 2 Axes>"
      ]
     },
     "metadata": {},
     "output_type": "display_data"
    }
   ],
   "source": [
    "rf = random_forest(20, 'gain')\n",
    "confusion_matrix(rf, test_x, test_y, metadata[-1]['values'])\n",
    "score(rf, test_x, test_y, metadata[-1]['values'])\n",
    "hide_toggle()"
   ]
  },
  {
   "cell_type": "markdown",
   "metadata": {},
   "source": [
    "### 4. Utilizando random forest con ganancia de información"
   ]
  },
  {
   "cell_type": "code",
   "execution_count": 13,
   "metadata": {},
   "outputs": [
    {
     "name": "stdout",
     "output_type": "stream",
     "text": [
      "* Class: Muere\n",
      "Accuracy 0.78216 | Precision 0.73797 | Recall 0.97527 | TP-rate 0.97527 | FP-rate 0.49246 | F1 0.84018 \n",
      "\n",
      "* Class: Sobrevive\n",
      "Accuracy 0.78216 | Precision 0.93519 | Recall 0.50754 | TP-rate 0.50754 | FP-rate 0.02473 | F1 0.65798 \n",
      "\n",
      "HARMONIC MEANS\n",
      "\n",
      "    Accuracy: 0.78216\n",
      "    Precision: 0.82495\n",
      "    Recall: 0.66763\n",
      "    TP rate: 0.66763\n",
      "    FP rate: 0.04710\n",
      "    F1 score: 0.73800\n"
     ]
    },
    {
     "data": {
      "text/html": [
       "\n",
       "        <script>\n",
       "            function code_toggle_15838479857186604071() {\n",
       "                $('div.cell.code_cell.rendered.selected').find('div.input').toggle();\n",
       "            }\n",
       "\n",
       "            \n",
       "        </script>\n",
       "\n",
       "        <a href=\"javascript:code_toggle_15838479857186604071()\">Mostrar/ocultar celda: </a>\n",
       "    "
      ],
      "text/plain": [
       "<IPython.core.display.HTML object>"
      ]
     },
     "execution_count": 13,
     "metadata": {},
     "output_type": "execute_result"
    },
    {
     "data": {
      "image/png": "[encoded data removed]",
      "text/plain": [
       "<Figure size 432x288 with 2 Axes>"
      ]
     },
     "metadata": {
      "needs_background": "light"
     },
     "output_type": "display_data"
    }
   ],
   "source": [
    "rf = random_forest(10, 'gini')\n",
    "confusion_matrix(rf, test_x, test_y, metadata[-1]['values'])\n",
    "score(rf, test_x, test_y, metadata[-1]['values'])\n",
    "hide_toggle()"
   ]
  },
  {
   "cell_type": "code",
   "execution_count": 14,
   "metadata": {},
   "outputs": [
    {
     "data": {
      "text/html": [
       "\n",
       "        <script>\n",
       "            function code_toggle_12459350880073789196() {\n",
       "                $('div.cell.code_cell.rendered.selected').find('div.input').toggle();\n",
       "            }\n",
       "\n",
       "            \n",
       "        </script>\n",
       "\n",
       "        <a href=\"javascript:code_toggle_12459350880073789196()\">Mostrar/ocultar celda: Funcion para graficar accuracy vs nodes</a>\n",
       "    "
      ],
      "text/plain": [
       "<IPython.core.display.HTML object>"
      ]
     },
     "execution_count": 14,
     "metadata": {},
     "output_type": "execute_result"
    }
   ],
   "source": [
    "def acc_vs_nodes(train_size):\n",
    "    plt.style.use(\"ggplot\")\n",
    "    plt.figure(figsize=(15,7))\n",
    "    reload_data(train_size)\n",
    "    plt.title(f\"Train size = {len(train_x)} ({train_size*100}%)\")\n",
    "    plt.plot(*accuracies([decision_tree('gain', i) for i in range(1,50)], \n",
    "        train_x, train_y, metadata[-1][\"values\"]), '.-b', label=\"Train\")\n",
    "    plt.plot(*accuracies([decision_tree('gain', i) for i in range(-1,30)], \n",
    "        test_x, test_y, metadata[-1][\"values\"]), '.-r', label=\"Test\")\n",
    "#    plt.plot(*accuracies([decision_tree('gini', i) for i in range(1,50)], \n",
    "#        train_x, train_y, metadata[-1][\"values\"]), '.-g', label=\"Train\")\n",
    "#    plt.plot(*accuracies([decision_tree('gini', i) for i in range(-1,30)], \n",
    "#        test_x, test_y, metadata[-1][\"values\"]), '.-y', label=\"Test\")\n",
    "    plt.legend(loc='best', fontsize=20)\n",
    "    plt.xlabel(\"Cantidad de nodos\")\n",
    "    plt.ylabel(\"Precisión\")\n",
    "    plt.ylim((0.4,1))\n",
    "    plt.xlim((0,100))\n",
    "    plt.show()\n",
    "    reload_data(TRAIN_RATIO)\n",
    "hide_toggle(\"Funcion para graficar accuracy vs nodes\")"
   ]
  },
  {
   "cell_type": "code",
   "execution_count": 17,
   "metadata": {},
   "outputs": [
    {
     "data": {
      "image/png": "[encoded data removed]",
      "text/plain": [
       "<Figure size 1080x504 with 1 Axes>"
      ]
     },
     "metadata": {},
     "output_type": "display_data"
    },
    {
     "data": {
      "image/png": "[encoded data removed]",
      "text/plain": [
       "<Figure size 1080x504 with 1 Axes>"
      ]
     },
     "metadata": {},
     "output_type": "display_data"
    },
    {
     "data": {
      "image/png": "[encoded data removed]",
      "text/plain": [
       "<Figure size 1080x504 with 1 Axes>"
      ]
     },
     "metadata": {},
     "output_type": "display_data"
    }
   ],
   "source": [
    "acc_vs_nodes(0.1)\n",
    "acc_vs_nodes(0.5)\n",
    "acc_vs_nodes(TRAIN_RATIO)"
   ]
  }
 ],
 "metadata": {
  "kernelspec": {
   "display_name": "Python 3",
   "language": "python",
   "name": "python3"
  },
  "language_info": {
   "codemirror_mode": {
    "name": "ipython",
    "version": 3
   },
   "file_extension": ".py",
   "mimetype": "text/x-python",
   "name": "python",
   "nbconvert_exporter": "python",
   "pygments_lexer": "ipython3",
   "version": "3.7.0"
  }
 },
 "nbformat": 4,
 "nbformat_minor": 2
}
