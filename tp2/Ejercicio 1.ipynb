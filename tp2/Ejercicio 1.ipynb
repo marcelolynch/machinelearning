{
 "cells": [
  {
   "cell_type": "code",
   "execution_count": 20,
   "metadata": {},
   "outputs": [],
   "source": [
    "from RandomForest import RandomForestClassifier\n",
    "from DecisionTreeBuilder import create_decision_tree\n",
    "from DecisionTree import DecisionTree, DecisionTreeLeaf, dot_string\n",
    "from metrics import score, accuracies\n",
    "from graphviz import Source\n",
    "\n",
    "\n",
    "CIELO, TEMPERATURA, HUMEDAD, VIENTO, AGUA, PRONOST = 0, 1, 2, 3, 4, 5\n",
    "SOL, NUBLADO = 0, 1\n",
    "FRIO, CALIDO = 0, 1\n",
    "ALTA, NORMAL = 0, 1\n",
    "FUERTE, DEBIL = 0, 1\n",
    "CALIDA, FRIA = 0, 1\n",
    "ESTABLE, CAMBIANTE = 0, 1\n",
    "\n",
    "NO, SI = 0, 1\n",
    "\n",
    "train_x = [\n",
    "    [SOL, CALIDO, NORMAL, FUERTE, CALIDA, ESTABLE], \n",
    "    [SOL, CALIDO, ALTA, FUERTE, CALIDA, ESTABLE], \n",
    "    [NUBLADO, FRIO, ALTA, FUERTE, CALIDA, CAMBIANTE],\n",
    "    [SOL, CALIDO, ALTA, FUERTE, FRIA, CAMBIANTE], \n",
    "]\n",
    "\n",
    "train_y = [SI, SI, NO, SI]"
   ]
  },
  {
   "cell_type": "code",
   "execution_count": 21,
   "metadata": {},
   "outputs": [
    {
     "name": "stdout",
     "output_type": "stream",
     "text": [
      "* Class: 0\n",
      "Accuracy 1.00000 | Precision 1.00000 | Recall 1.00000 | TP-rate 1.00000 | FP-rate 0.00000 | F1 1.00000 \n",
      "\n",
      "* Class: 1\n",
      "Accuracy 1.00000 | Precision 1.00000 | Recall 1.00000 | TP-rate 1.00000 | FP-rate 0.00000 | F1 1.00000 \n",
      "\n",
      "HARMONIC MEANS\n",
      "\n",
      "    Accuracy: 1.00000\n",
      "    Precision: 1.00000\n",
      "    Recall: 1.00000\n",
      "    TP rate: 1.00000\n",
      "    FP rate: 0.00000\n",
      "    F1 score: 1.00000\n"
     ]
    },
    {
     "data": {
      "image/png": "[encoded data removed]",
      "text/plain": [
       "<Figure size 432x288 with 2 Axes>"
      ]
     },
     "metadata": {
      "needs_background": "light"
     },
     "output_type": "display_data"
    },
    {
     "data": {
      "image/svg+xml": [
       "<?xml version=\"1.0\" encoding=\"UTF-8\" standalone=\"no\"?>\r\n",
       "<!DOCTYPE svg PUBLIC \"-//W3C//DTD SVG 1.1//EN\"\r\n",
       " \"http://www.w3.org/Graphics/SVG/1.1/DTD/svg11.dtd\">\r\n",
       "<!-- Generated by graphviz version 2.38.0 (20140413.2041)\r\n",
       " -->\r\n",
       "<!-- Title: G Pages: 1 -->\r\n",
       "<svg width=\"257pt\" height=\"134pt\"\r\n",
       " viewBox=\"0.00 0.00 256.92 133.74\" xmlns=\"http://www.w3.org/2000/svg\" xmlns:xlink=\"http://www.w3.org/1999/xlink\">\r\n",
       "<g id=\"graph0\" class=\"graph\" transform=\"scale(1 1) rotate(0) translate(4 129.74)\">\r\n",
       "<title>G</title>\r\n",
       "<polygon fill=\"white\" stroke=\"none\" points=\"-4,4 -4,-129.74 252.919,-129.74 252.919,4 -4,4\"/>\r\n",
       "<!-- root -->\r\n",
       "<g id=\"node1\" class=\"node\"><title>root</title>\r\n",
       "<ellipse fill=\"none\" stroke=\"black\" cx=\"11\" cy=\"-62.8701\" rx=\"7\" ry=\"7\"/>\r\n",
       "<ellipse fill=\"none\" stroke=\"black\" cx=\"11\" cy=\"-62.8701\" rx=\"11\" ry=\"11\"/>\r\n",
       "</g>\r\n",
       "<!-- 72297 -->\r\n",
       "<g id=\"node2\" class=\"node\"><title>72297</title>\r\n",
       "<ellipse fill=\"none\" stroke=\"black\" cx=\"153.459\" cy=\"-98.8701\" rx=\"67.3507\" ry=\"26.7407\"/>\r\n",
       "<text text-anchor=\"middle\" x=\"153.459\" y=\"-102.67\" font-family=\"Times New Roman,serif\" font-size=\"14.00\">CIELO: SOL </text>\r\n",
       "<text text-anchor=\"middle\" x=\"153.459\" y=\"-87.6701\" font-family=\"Times New Roman,serif\" font-size=\"14.00\"> 1</text>\r\n",
       "</g>\r\n",
       "<!-- root&#45;&gt;72297 -->\r\n",
       "<g id=\"edge1\" class=\"edge\"><title>root&#45;&gt;72297</title>\r\n",
       "<path fill=\"none\" stroke=\"black\" d=\"M22.1015,-65.4591C35.8177,-68.9746 61.4951,-75.5558 86.4577,-81.9537\"/>\r\n",
       "<polygon fill=\"black\" stroke=\"black\" points=\"85.7752,-85.3918 96.3311,-84.4843 87.5132,-78.611 85.7752,-85.3918\"/>\r\n",
       "</g>\r\n",
       "<!-- 74876 -->\r\n",
       "<g id=\"node3\" class=\"node\"><title>74876</title>\r\n",
       "<ellipse fill=\"none\" stroke=\"black\" cx=\"153.459\" cy=\"-26.8701\" rx=\"95.4188\" ry=\"26.7407\"/>\r\n",
       "<text text-anchor=\"middle\" x=\"153.459\" y=\"-30.6701\" font-family=\"Times New Roman,serif\" font-size=\"14.00\">CIELO: NUBLADO </text>\r\n",
       "<text text-anchor=\"middle\" x=\"153.459\" y=\"-15.6701\" font-family=\"Times New Roman,serif\" font-size=\"14.00\"> 0</text>\r\n",
       "</g>\r\n",
       "<!-- root&#45;&gt;74876 -->\r\n",
       "<g id=\"edge2\" class=\"edge\"><title>root&#45;&gt;74876</title>\r\n",
       "<path fill=\"none\" stroke=\"black\" d=\"M22.1015,-60.281C33.2372,-57.4269 52.2569,-52.5521 72.3773,-47.3952\"/>\r\n",
       "<polygon fill=\"black\" stroke=\"black\" points=\"73.4954,-50.7219 82.3133,-44.8486 71.7574,-43.9411 73.4954,-50.7219\"/>\r\n",
       "</g>\r\n",
       "</g>\r\n",
       "</svg>\r\n"
      ],
      "text/plain": [
       "<graphviz.files.Source at 0x200da476668>"
      ]
     },
     "execution_count": 21,
     "metadata": {},
     "output_type": "execute_result"
    }
   ],
   "source": [
    "tree = create_decision_tree(x = train_x, y = train_y, metric_f_name = 'gain')\n",
    "\n",
    "g = Source(dot_string(tree, feature_names = ['CIELO', 'TEMPERATURA', 'HUMEDAD', 'VIENTO', 'AGUA', 'PRONÓSTICO'], feature_values = [\n",
    "    ['SOL', 'NUBLADO'],\n",
    "    ['FRIO', 'CALIDO'],\n",
    "    ['ALTA', 'NORMAL'],\n",
    "    ['FUERTE', 'DEBIL'],\n",
    "    ['CALIDA', 'FRIA'],\n",
    "    ['ESTABLE', 'CAMBIANTE'],\n",
    "], class_names=['NO', 'SI'], options='rankdir=\"LR\";'))\n",
    "\n",
    "score(tree, train_x, train_y, [NO, SI], confusion_matrix=True)\n",
    "g"
   ]
  },
  {
   "cell_type": "code",
   "execution_count": 4,
   "metadata": {},
   "outputs": [
    {
     "name": "stdout",
     "output_type": "stream",
     "text": [
      "* Class: 0\n",
      "Accuracy 1.00000 | Precision 1.00000 | Recall 1.00000 | TP-rate 1.00000 | FP-rate 0.00000 | F1 1.00000 \n",
      "\n",
      "* Class: 1\n",
      "Accuracy 1.00000 | Precision 1.00000 | Recall 1.00000 | TP-rate 1.00000 | FP-rate 0.00000 | F1 1.00000 \n",
      "\n",
      "HARMONIC MEANS\n",
      "\n",
      "    Accuracy: 1.00000\n",
      "    Precision: 1.00000\n",
      "    Recall: 1.00000\n",
      "    TP rate: 1.00000\n",
      "    FP rate: 0.00000\n",
      "    F1 score: 1.00000\n"
     ]
    },
    {
     "data": {
      "image/png": "[encoded data removed]",
      "text/plain": [
       "<Figure size 432x288 with 2 Axes>"
      ]
     },
     "metadata": {
      "needs_background": "light"
     },
     "output_type": "display_data"
    }
   ],
   "source": [
    "rf = RandomForestClassifier(10, 1)\n",
    "rf.fit(train_x, train_y)\n",
    "score(rf, train_x, train_y, [NO, SI], confusion_matrix=True)"
   ]
  },
  {
   "cell_type": "code",
   "execution_count": 27,
   "metadata": {},
   "outputs": [
    {
     "data": {
      "image/svg+xml": [
       "<?xml version=\"1.0\" encoding=\"UTF-8\" standalone=\"no\"?>\r\n",
       "<!DOCTYPE svg PUBLIC \"-//W3C//DTD SVG 1.1//EN\"\r\n",
       " \"http://www.w3.org/Graphics/SVG/1.1/DTD/svg11.dtd\">\r\n",
       "<!-- Generated by graphviz version 2.38.0 (20140413.2041)\r\n",
       " -->\r\n",
       "<!-- Title: G Pages: 1 -->\r\n",
       "<svg width=\"480pt\" height=\"170pt\"\r\n",
       " viewBox=\"0.00 0.00 479.60 169.74\" xmlns=\"http://www.w3.org/2000/svg\" xmlns:xlink=\"http://www.w3.org/1999/xlink\">\r\n",
       "<g id=\"graph0\" class=\"graph\" transform=\"scale(1 1) rotate(0) translate(4 165.74)\">\r\n",
       "<title>G</title>\r\n",
       "<polygon fill=\"white\" stroke=\"none\" points=\"-4,4 -4,-165.74 475.595,-165.74 475.595,4 -4,4\"/>\r\n",
       "<!-- root -->\r\n",
       "<g id=\"node1\" class=\"node\"><title>root</title>\r\n",
       "<ellipse fill=\"none\" stroke=\"black\" cx=\"11\" cy=\"-62.8701\" rx=\"7\" ry=\"7\"/>\r\n",
       "<ellipse fill=\"none\" stroke=\"black\" cx=\"11\" cy=\"-62.8701\" rx=\"11\" ry=\"11\"/>\r\n",
       "</g>\r\n",
       "<!-- 93834 -->\r\n",
       "<g id=\"node2\" class=\"node\"><title>93834</title>\r\n",
       "<ellipse fill=\"none\" stroke=\"black\" cx=\"153.459\" cy=\"-98.8701\" rx=\"67.3507\" ry=\"26.7407\"/>\r\n",
       "<text text-anchor=\"middle\" x=\"153.459\" y=\"-102.67\" font-family=\"Times New Roman,serif\" font-size=\"14.00\">CIELO: SOL </text>\r\n",
       "<text text-anchor=\"middle\" x=\"153.459\" y=\"-87.6701\" font-family=\"Times New Roman,serif\" font-size=\"14.00\"> 1</text>\r\n",
       "</g>\r\n",
       "<!-- root&#45;&gt;93834 -->\r\n",
       "<g id=\"edge1\" class=\"edge\"><title>root&#45;&gt;93834</title>\r\n",
       "<path fill=\"none\" stroke=\"black\" d=\"M22.1015,-65.4591C35.8177,-68.9746 61.4951,-75.5558 86.4577,-81.9537\"/>\r\n",
       "<polygon fill=\"black\" stroke=\"black\" points=\"85.7752,-85.3918 96.3311,-84.4843 87.5132,-78.611 85.7752,-85.3918\"/>\r\n",
       "</g>\r\n",
       "<!-- 48705 -->\r\n",
       "<g id=\"node3\" class=\"node\"><title>48705</title>\r\n",
       "<ellipse fill=\"none\" stroke=\"black\" cx=\"153.459\" cy=\"-26.8701\" rx=\"95.4188\" ry=\"26.7407\"/>\r\n",
       "<text text-anchor=\"middle\" x=\"153.459\" y=\"-30.6701\" font-family=\"Times New Roman,serif\" font-size=\"14.00\">CIELO: NUBLADO </text>\r\n",
       "<text text-anchor=\"middle\" x=\"153.459\" y=\"-15.6701\" font-family=\"Times New Roman,serif\" font-size=\"14.00\"> 0</text>\r\n",
       "</g>\r\n",
       "<!-- root&#45;&gt;48705 -->\r\n",
       "<g id=\"edge2\" class=\"edge\"><title>root&#45;&gt;48705</title>\r\n",
       "<path fill=\"none\" stroke=\"black\" d=\"M22.1015,-60.281C33.2372,-57.4269 52.2569,-52.5521 72.3773,-47.3952\"/>\r\n",
       "<polygon fill=\"black\" stroke=\"black\" points=\"73.4954,-50.7219 82.3133,-44.8486 71.7574,-43.9411 73.4954,-50.7219\"/>\r\n",
       "</g>\r\n",
       "<!-- 60560 -->\r\n",
       "<g id=\"node4\" class=\"node\"><title>60560</title>\r\n",
       "<ellipse fill=\"none\" stroke=\"black\" cx=\"378.257\" cy=\"-134.87\" rx=\"93.1765\" ry=\"26.7407\"/>\r\n",
       "<text text-anchor=\"middle\" x=\"378.257\" y=\"-138.67\" font-family=\"Times New Roman,serif\" font-size=\"14.00\">VIENTO: FUERTE </text>\r\n",
       "<text text-anchor=\"middle\" x=\"378.257\" y=\"-123.67\" font-family=\"Times New Roman,serif\" font-size=\"14.00\"> 1</text>\r\n",
       "</g>\r\n",
       "<!-- 93834&#45;&gt;60560 -->\r\n",
       "<g id=\"edge3\" class=\"edge\"><title>93834&#45;&gt;60560</title>\r\n",
       "<path fill=\"none\" stroke=\"black\" d=\"M215.93,-108.803C237.681,-112.317 262.635,-116.349 286.312,-120.175\"/>\r\n",
       "<polygon fill=\"black\" stroke=\"black\" points=\"285.937,-123.66 296.368,-121.8 287.054,-116.749 285.937,-123.66\"/>\r\n",
       "</g>\r\n",
       "<!-- 34694 -->\r\n",
       "<g id=\"node5\" class=\"node\"><title>34694</title>\r\n",
       "<ellipse fill=\"none\" stroke=\"black\" cx=\"378.257\" cy=\"-62.8701\" rx=\"84.2917\" ry=\"26.7407\"/>\r\n",
       "<text text-anchor=\"middle\" x=\"378.257\" y=\"-66.6701\" font-family=\"Times New Roman,serif\" font-size=\"14.00\">VIENTO: DEBIL </text>\r\n",
       "<text text-anchor=\"middle\" x=\"378.257\" y=\"-51.6701\" font-family=\"Times New Roman,serif\" font-size=\"14.00\"> 0</text>\r\n",
       "</g>\r\n",
       "<!-- 93834&#45;&gt;34694 -->\r\n",
       "<g id=\"edge4\" class=\"edge\"><title>93834&#45;&gt;34694</title>\r\n",
       "<path fill=\"none\" stroke=\"black\" d=\"M215.93,-88.9376C239.695,-85.0976 267.282,-80.64 292.851,-76.5086\"/>\r\n",
       "<polygon fill=\"black\" stroke=\"black\" points=\"293.599,-79.9331 302.913,-74.8828 292.482,-73.0228 293.599,-79.9331\"/>\r\n",
       "</g>\r\n",
       "</g>\r\n",
       "</svg>\r\n"
      ],
      "text/plain": [
       "<graphviz.files.Source at 0x200db824ac8>"
      ]
     },
     "execution_count": 27,
     "metadata": {},
     "output_type": "execute_result"
    }
   ],
   "source": [
    "train_x2 = [\n",
    "    [SOL, CALIDO, NORMAL, FUERTE, CALIDA, ESTABLE], \n",
    "    [SOL, CALIDO, ALTA, FUERTE, CALIDA, ESTABLE], \n",
    "    [NUBLADO, FRIO, ALTA, FUERTE, CALIDA, CAMBIANTE],\n",
    "    [SOL, CALIDO, ALTA, FUERTE, FRIA, CAMBIANTE], \n",
    "    [SOL, CALIDO, NORMAL, DEBIL, CALIDA, ESTABLE], \n",
    "]\n",
    "\n",
    "train_y2 = [SI, SI, NO, SI, NO]\n",
    "\n",
    "tree2 = create_decision_tree(x = train_x2, y = train_y2, metric_f_name = 'gain')\n",
    "\n",
    "g2 = Source(dot_string(tree2, feature_names = ['CIELO', 'TEMPERATURA', 'HUMEDAD', 'VIENTO', 'AGUA', 'PRONÓSTICO'], feature_values = [\n",
    "    ['SOL', 'NUBLADO'],\n",
    "    ['FRIO', 'CALIDO'],\n",
    "    ['ALTA', 'NORMAL'],\n",
    "    ['FUERTE', 'DEBIL'],\n",
    "    ['CALIDA', 'FRIA'],\n",
    "    ['ESTABLE', 'CAMBIANTE'],\n",
    "], class_names=['NO', 'SI'], options='rankdir=\"LR\"; size=\"7\";'))\n",
    "\n",
    "#score(tree2, train_x2, train_y2, [NO, SI], confusion_matrix=True)\n",
    "g2"
   ]
  }
 ],
 "metadata": {
  "kernelspec": {
   "display_name": "Python 3",
   "language": "python",
   "name": "python3"
  },
  "language_info": {
   "codemirror_mode": {
    "name": "ipython",
    "version": 3
   },
   "file_extension": ".py",
   "mimetype": "text/x-python",
   "name": "python",
   "nbconvert_exporter": "python",
   "pygments_lexer": "ipython3",
   "version": "3.7.0"
  }
 },
 "nbformat": 4,
 "nbformat_minor": 2
}
