{
 "cells": [
  {
   "cell_type": "code",
   "execution_count": 3,
   "metadata": {},
   "outputs": [
    {
     "name": "stdout",
     "output_type": "stream",
     "text": [
      "Train size: 231\n",
      "C size: 26\n"
     ]
    }
   ],
   "source": [
    "import pandas as pd\n",
    "import random\n",
    "from KNNClassifier import KNNClassifier\n",
    "from metrics import score\n",
    "\n",
    "dataframe = pd.read_csv(r\"datasets/reviews_sentiment.csv\",sep=';')\n",
    "dataframe = dataframe[['wordcount', 'titleSentiment', 'sentimentValue', 'Star Rating']]\n",
    "\n",
    "def titleSentimentEmbedding(ts):\n",
    "    if ts == 'negative':\n",
    "        return 0\n",
    "    elif ts == 'positive':\n",
    "        return 1\n",
    "    else:\n",
    "        return 0.5\n",
    "    \n",
    "dataframe = dataframe.transform({ \n",
    "    'wordcount': lambda x: x,\n",
    "    'sentimentValue': lambda x: x,\n",
    "    'Star Rating': lambda x: x,\n",
    "    'titleSentiment': titleSentimentEmbedding\n",
    "})\n",
    "\n",
    "df_train = dataframe[dataframe['titleSentiment'] != 0.5]\n",
    "df_test = dataframe[dataframe['titleSentiment'] == 0.5]\n",
    "\n",
    "x_train = df_train[['wordcount', 'sentimentValue', 'Star Rating']].values.tolist()\n",
    "y_train = list(map(lambda x: x[0], df_train[['titleSentiment']].values.tolist()))\n",
    "\n",
    "x_c = df_test[['wordcount', 'sentimentValue', 'Star Rating']].values.tolist()"
   ]
  },
  {
   "cell_type": "code",
   "execution_count": 2,
   "metadata": {},
   "outputs": [
    {
     "ename": "NameError",
     "evalue": "name 'KNNClassifier' is not defined",
     "output_type": "error",
     "traceback": [
      "\u001b[1;31m---------------------------------------------------------------------------\u001b[0m",
      "\u001b[1;31mNameError\u001b[0m                                 Traceback (most recent call last)",
      "\u001b[1;32m<ipython-input-2-7ba04c3f86f1>\u001b[0m in \u001b[0;36m<module>\u001b[1;34m()\u001b[0m\n\u001b[1;32m----> 1\u001b[1;33m \u001b[0mknn_weighted\u001b[0m \u001b[1;33m=\u001b[0m \u001b[0mKNNClassifier\u001b[0m\u001b[1;33m(\u001b[0m\u001b[0mK\u001b[0m \u001b[1;33m=\u001b[0m \u001b[1;36m5\u001b[0m\u001b[1;33m,\u001b[0m \u001b[0mweight_f\u001b[0m\u001b[1;33m=\u001b[0m\u001b[1;34m'euclidean'\u001b[0m\u001b[1;33m)\u001b[0m\u001b[1;33m\u001b[0m\u001b[0m\n\u001b[0m\u001b[0;32m      2\u001b[0m \u001b[0mknn_weighted\u001b[0m\u001b[1;33m.\u001b[0m\u001b[0mfit\u001b[0m\u001b[1;33m(\u001b[0m\u001b[0mx_train\u001b[0m\u001b[1;33m,\u001b[0m \u001b[0my_train\u001b[0m\u001b[1;33m)\u001b[0m\u001b[1;33m\u001b[0m\u001b[0m\n\u001b[0;32m      3\u001b[0m \u001b[0mprint\u001b[0m\u001b[1;33m(\u001b[0m\u001b[0mx_c\u001b[0m\u001b[1;33m)\u001b[0m\u001b[1;33m\u001b[0m\u001b[0m\n\u001b[0;32m      4\u001b[0m \u001b[0my_c\u001b[0m \u001b[1;33m=\u001b[0m \u001b[1;33m[\u001b[0m\u001b[0mknn_weighted\u001b[0m\u001b[1;33m.\u001b[0m\u001b[0mpredict\u001b[0m\u001b[1;33m(\u001b[0m\u001b[0mx_i\u001b[0m\u001b[1;33m)\u001b[0m \u001b[1;32mfor\u001b[0m \u001b[0mx_i\u001b[0m \u001b[1;32min\u001b[0m \u001b[0mx_c\u001b[0m\u001b[1;33m]\u001b[0m\u001b[1;33m\u001b[0m\u001b[0m\n\u001b[0;32m      5\u001b[0m \u001b[0mprint\u001b[0m\u001b[1;33m(\u001b[0m\u001b[0my_c\u001b[0m\u001b[1;33m)\u001b[0m\u001b[1;33m\u001b[0m\u001b[0m\n",
      "\u001b[1;31mNameError\u001b[0m: name 'KNNClassifier' is not defined"
     ]
    }
   ],
   "source": [
    "knn_weighted = KNNClassifier(K = 5, weight_f='euclidean')\n",
    "knn_weighted.fit(x_train, y_train)\n",
    "print(x_c)\n",
    "y_c = [knn_weighted.predict(x_i) for x_i in x_c]\n",
    "print(y_c)"
   ]
  },
  {
   "cell_type": "code",
   "execution_count": 27,
   "metadata": {},
   "outputs": [],
   "source": [
    "import csv\n",
    "with open('datasets/sentiment_prime.csv', 'w', newline='') as csvfile:\n",
    "    writer = csv.writer(csvfile, delimiter=';')\n",
    "    writer.writerow(['wordcount', 'sentimentValue', 'Star Rating', 'titleSentiment'])\n",
    "    for x,y in zip(x_train, y_train):\n",
    "        writer.writerow(x + [y])\n",
    "    for x,y in zip(x_c, y_c):\n",
    "        writer.writerow([x[0], x[1], x[2], y])"
   ]
  },
  {
   "cell_type": "code",
   "execution_count": 34,
   "metadata": {},
   "outputs": [],
   "source": [
    "dff = pd.read_csv(r\"datasets/reviews_sentiment.csv\",sep=';')\n",
    "dff = dff[['wordcount', 'titleSentiment', 'sentimentValue', 'Star Rating']]\n",
    "\n",
    "i = -1\n",
    "def titleSentimentEmbedding(ts):\n",
    "    global i\n",
    "    if ts == 'negative':\n",
    "        return 0\n",
    "    elif ts == 'positive':\n",
    "        return 1\n",
    "    else:\n",
    "        i += 1\n",
    "        return y_c[i]\n",
    "\n",
    "    \n",
    "dff = dff.transform({ \n",
    "    'wordcount': lambda x: x,\n",
    "    'sentimentValue': lambda x: x,\n",
    "    'Star Rating': lambda x: x,\n",
    "    'titleSentiment': titleSentimentEmbedding\n",
    "})\n",
    "\n",
    "dff.head(30)\n",
    "dff.to_csv(r\"datasets/sentiment_prime.csv\",sep=';')"
   ]
  }
 ],
 "metadata": {
  "kernelspec": {
   "display_name": "Python 3",
   "language": "python",
   "name": "python3"
  },
  "language_info": {
   "codemirror_mode": {
    "name": "ipython",
    "version": 3
   },
   "file_extension": ".py",
   "mimetype": "text/x-python",
   "name": "python",
   "nbconvert_exporter": "python",
   "pygments_lexer": "ipython3",
   "version": "3.7.0"
  }
 },
 "nbformat": 4,
 "nbformat_minor": 2
}
